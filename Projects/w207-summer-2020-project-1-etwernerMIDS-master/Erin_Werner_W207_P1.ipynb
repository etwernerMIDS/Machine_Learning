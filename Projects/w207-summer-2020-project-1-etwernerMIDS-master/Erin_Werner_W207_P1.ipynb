{
 "cells": [
  {
   "cell_type": "markdown",
   "metadata": {
    "colab_type": "text",
    "id": "z6UHmLYVhWAN"
   },
   "source": [
    "# Project 1: Digit Classification with KNN and Naive Bayes"
   ]
  },
  {
   "cell_type": "markdown",
   "metadata": {
    "colab_type": "text",
    "id": "03M_JSg3hWAO"
   },
   "source": [
    "In this project, you'll implement your own image recognition system for classifying digits. Read through the code and the instructions carefully and add your own code where indicated. Each problem can be addressed succinctly with the included packages -- please don't add any more. Grading will be based on writing clean, commented code, along with a few short answers.\n",
    "\n",
    "As always, you're welcome to work on the project in groups and discuss ideas on the course wall, but <b> please prepare your own write-up (with your own code). </b>\n",
    "\n",
    "If you're interested, check out these links related to digit recognition:\n",
    "\n",
    "* Yann Lecun's MNIST benchmarks: http://yann.lecun.com/exdb/mnist/\n",
    "* Stanford Streetview research and data: http://ufldl.stanford.edu/housenumbers/\n",
    "\n",
    "Finally, if you'd like to get started with Tensorflow, you can read through this tutorial: https://www.tensorflow.org/tutorials/keras/basic_classification. It uses a dataset called \"fashion_mnist\", which is identical in structure to the original digit mnist, but uses images of clothing rather than images of digits. The number of training examples and number of labels is the same. In fact, you can simply replace the code that loads \"fashion_mnist\" with \"mnist\" and everything should work fine."
   ]
  },
  {
   "cell_type": "code",
   "execution_count": 1,
   "metadata": {
    "colab": {},
    "colab_type": "code",
    "id": "iJ9ayCvyhWAP"
   },
   "outputs": [],
   "source": [
    "# This tells matplotlib not to try opening a new window for each plot.\n",
    "%matplotlib inline\n",
    "\n",
    "# Import a bunch of libraries.\n",
    "import time\n",
    "import numpy as np\n",
    "import matplotlib.pyplot as plt\n",
    "from matplotlib.ticker import MultipleLocator\n",
    "from sklearn.pipeline import Pipeline\n",
    "from sklearn.datasets import fetch_openml\n",
    "from sklearn.neighbors import KNeighborsClassifier\n",
    "from sklearn.metrics import confusion_matrix\n",
    "from sklearn.linear_model import LinearRegression\n",
    "from sklearn.naive_bayes import BernoulliNB\n",
    "from sklearn.naive_bayes import MultinomialNB\n",
    "from sklearn.naive_bayes import GaussianNB\n",
    "from sklearn.model_selection import GridSearchCV\n",
    "from sklearn.metrics import classification_report\n",
    "\n",
    "# Set the randomizer seed so results are the same each time.\n",
    "np.random.seed(0)"
   ]
  },
  {
   "cell_type": "markdown",
   "metadata": {
    "colab_type": "text",
    "id": "sO1t0ypThWAR"
   },
   "source": [
    "Load the data. Notice that the data gets partitioned into training, development, and test sets. Also, a small subset of the training data called mini_train_data and mini_train_labels gets defined, which you should use in all the experiments below, unless otherwise noted."
   ]
  },
  {
   "cell_type": "code",
   "execution_count": 2,
   "metadata": {
    "colab": {},
    "colab_type": "code",
    "id": "3yK9DacchWAS"
   },
   "outputs": [
    {
     "name": "stdout",
     "output_type": "stream",
     "text": [
      "data shape:  (70000, 784)\n",
      "label shape: (70000,)\n"
     ]
    }
   ],
   "source": [
    "# Load the digit data from https://www.openml.org/d/554 or from default local location '~/scikit_learn_data/...'\n",
    "X, Y = fetch_openml(name='mnist_784', return_X_y=True, cache=False)\n",
    "\n",
    "\n",
    "# Rescale grayscale values to [0,1].\n",
    "X = X / 255.0\n",
    "\n",
    "# Shuffle the input: create a random permutation of the integers between 0 and the number of data points and apply this\n",
    "# permutation to X and Y.\n",
    "# NOTE: Each time you run this cell, you'll re-shuffle the data, resulting in a different ordering.\n",
    "shuffle = np.random.permutation(np.arange(X.shape[0]))\n",
    "X, Y = X[shuffle], Y[shuffle]\n",
    "\n",
    "print('data shape: ', X.shape)\n",
    "print('label shape:', Y.shape)\n",
    "\n",
    "# Set some variables to hold test, dev, and training data.\n",
    "test_data, test_labels = X[61000:], Y[61000:]\n",
    "dev_data, dev_labels = X[60000:61000], Y[60000:61000]\n",
    "train_data, train_labels = X[:60000], Y[:60000]\n",
    "mini_train_data, mini_train_labels = X[:1000], Y[:1000]"
   ]
  },
  {
   "cell_type": "code",
   "execution_count": 3,
   "metadata": {},
   "outputs": [
    {
     "data": {
      "text/plain": [
       "0      0.000000\n",
       "1      0.000000\n",
       "2      0.000000\n",
       "3      0.000000\n",
       "4      0.000000\n",
       "         ...   \n",
       "779    0.000007\n",
       "780    0.000000\n",
       "781    0.000000\n",
       "782    0.000000\n",
       "783    0.000000\n",
       "Length: 784, dtype: float64"
      ]
     },
     "execution_count": 3,
     "metadata": {},
     "output_type": "execute_result"
    }
   ],
   "source": [
    "import pandas as pd\n",
    "pd.DataFrame(X).mean()"
   ]
  },
  {
   "cell_type": "markdown",
   "metadata": {
    "colab_type": "text",
    "id": "atc2JpWKhWAV"
   },
   "source": [
    "### Part 1:\n",
    "\n",
    "Show a 10x10 grid that visualizes 10 examples of each digit.\n",
    "\n",
    "Notes:\n",
    "* You can use `plt.rc()` for setting the colormap, for example to black and white.\n",
    "* You can use `plt.subplot()` for creating subplots.\n",
    "* You can use `plt.imshow()` for rendering a matrix.\n",
    "* You can use `np.array.reshape()` for reshaping a 1D feature vector into a 2D matrix (for rendering)."
   ]
  },
  {
   "cell_type": "code",
   "execution_count": 4,
   "metadata": {
    "colab": {},
    "colab_type": "code",
    "id": "436UeH7JhWAW"
   },
   "outputs": [],
   "source": [
    "def P1(num_examples=10):\n",
    "    \"\"\" P1 - Shows a 10xParam grid that visualizes the input number of examples of each digit. \n",
    "    # param num_examples: integer that indicates the number of examples to display\n",
    "    # return: None\n",
    "    \"\"\"\n",
    "    \n",
    "    #set example index array\n",
    "    my_examples = []\n",
    "\n",
    "    #loop to get values 0-9\n",
    "    for i in range(0,10):\n",
    "        val = str(i) \n",
    "        #get indeicies for labels of 'i'\n",
    "        sub_y = np.where(Y == val)\n",
    "        #get num_examples amount of indicies\n",
    "        for j in range(0,num_examples):\n",
    "            my_index = np.random.choice(sub_y[0], 1, replace=False)\n",
    "            my_examples.append(my_index[0])\n",
    " \n",
    "    #set initial location for grid\n",
    "    loc = 1\n",
    "\n",
    "    #loop through all indicies\n",
    "    for k in my_examples:\n",
    "        #create grid of image examples\n",
    "        plt.subplot(10,num_examples,loc)\n",
    "        loc += 1\n",
    "        im = np.reshape(X[k], (28, 28))\n",
    "        plt.imshow(im, cmap='gray')\n",
    "        plt.xticks([])\n",
    "        plt.yticks([])  \n",
    "        "
   ]
  },
  {
   "cell_type": "code",
   "execution_count": 5,
   "metadata": {},
   "outputs": [
    {
     "data": {
      "image/png": "[encoded data removed]",
      "text/plain": [
       "<Figure size 432x288 with 100 Axes>"
      ]
     },
     "metadata": {},
     "output_type": "display_data"
    }
   ],
   "source": [
    "P1(10)"
   ]
  },
  {
   "cell_type": "markdown",
   "metadata": {
    "colab_type": "text",
    "id": "EMQAHr7QhWAX"
   },
   "source": [
    "### Part 2:\n",
    "\n",
    "Produce k-Nearest-Neighbors model with k = [1,3,5,7,9].  Evaluate and show the performance of each model. For the 1-Nearest Neighbor model, show precision, recall, and F1 for each label. Which is the most difficult digit?\n",
    "\n",
    "Notes:\n",
    "* Train on the mini train set.\n",
    "* Evaluate performance on the dev set.\n",
    "* You can use `KNeighborsClassifier` to produce a k-nearest neighbor model.\n",
    "* You can use `classification_report` to get precision, recall, and F1 results."
   ]
  },
  {
   "cell_type": "code",
   "execution_count": 8,
   "metadata": {
    "colab": {},
    "colab_type": "code",
    "id": "-it5pn8-hWAY"
   },
   "outputs": [],
   "source": [
    "def P2(k_values):\n",
    "    \"\"\" P2 - Produces a k-NN model for different input values of k, then evaluates the performance of each model.\n",
    "                For just 1NN, shows the precision, recall, and F1 for each label.\n",
    "    # param k_values: list of input values for k\n",
    "    # return: None\n",
    "    \"\"\"\n",
    "    \n",
    "    #iterate through all the k-values\n",
    "    for i in k_values:\n",
    "        #train the kNN model on 'i' neighbors with the mini train set\n",
    "        knn = KNeighborsClassifier(n_neighbors=i, p=2, metric='minkowski')\n",
    "        knn.fit(mini_train_data, mini_train_labels)\n",
    "\n",
    "        #predict on the dev set\n",
    "        y_pred = knn.predict(dev_data)\n",
    "\n",
    "        #show the precision, recall, and F1 for each label for the 1-NN model\n",
    "        if i == 1:\n",
    "            target_names = ['0','1','2','3','4','5','6','7','8','9']\n",
    "            print('For ', i, ' Nearest Neighbor(s):')\n",
    "            print(classification_report(dev_labels, y_pred, target_names=target_names))\n",
    "\n",
    "        #evaluate the performace of each model    \n",
    "        if i != 1:\n",
    "            print('For ', i, ' Nearest Neighbor(s):')\n",
    "        print('\\t Misclassified examples: ', (dev_labels != y_pred).sum(),' (out of ', len(y_pred), ')' )\n",
    "        error = (dev_labels != y_pred).sum()/len(y_pred)\n",
    "        print('\\t Prediction error: %.3f' % error)\n",
    "        print('\\t Prediction accuracy: %.3f'% (1-error))\n",
    "        "
   ]
  },
  {
   "cell_type": "code",
   "execution_count": 9,
   "metadata": {},
   "outputs": [
    {
     "name": "stdout",
     "output_type": "stream",
     "text": [
      "For  1  Nearest Neighbor(s):\n",
      "              precision    recall  f1-score   support\n",
      "\n",
      "           0       0.95      0.95      0.95       106\n",
      "           1       0.89      0.98      0.93       118\n",
      "           2       0.90      0.79      0.84       106\n",
      "           3       0.93      0.87      0.90        97\n",
      "           4       0.91      0.85      0.88        92\n",
      "           5       0.86      0.88      0.87        88\n",
      "           6       0.92      0.92      0.92       102\n",
      "           7       0.85      0.94      0.89       102\n",
      "           8       0.83      0.77      0.80        94\n",
      "           9       0.80      0.86      0.83        95\n",
      "\n",
      "    accuracy                           0.88      1000\n",
      "   macro avg       0.88      0.88      0.88      1000\n",
      "weighted avg       0.89      0.88      0.88      1000\n",
      "\n",
      "\t Misclassified examples:  116  (out of  1000 )\n",
      "\t Prediction error: 0.116\n",
      "\t Prediction accuracy: 0.884\n",
      "For  3  Nearest Neighbor(s):\n",
      "\t Misclassified examples:  124  (out of  1000 )\n",
      "\t Prediction error: 0.124\n",
      "\t Prediction accuracy: 0.876\n",
      "For  5  Nearest Neighbor(s):\n",
      "\t Misclassified examples:  118  (out of  1000 )\n",
      "\t Prediction error: 0.118\n",
      "\t Prediction accuracy: 0.882\n",
      "For  7  Nearest Neighbor(s):\n",
      "\t Misclassified examples:  123  (out of  1000 )\n",
      "\t Prediction error: 0.123\n",
      "\t Prediction accuracy: 0.877\n",
      "For  9  Nearest Neighbor(s):\n",
      "\t Misclassified examples:  125  (out of  1000 )\n",
      "\t Prediction error: 0.125\n",
      "\t Prediction accuracy: 0.875\n"
     ]
    }
   ],
   "source": [
    "k_values = [1, 3, 5, 7, 9]\n",
    "P2(k_values)"
   ]
  },
  {
   "cell_type": "markdown",
   "metadata": {
    "colab_type": "text",
    "id": "tZc9gzn5hWAZ"
   },
   "source": [
    "ANSWER: For the kNN model, with k = 1, the most dificult digit is 8, as it has the second lowest precision as well as the lowest recall and F1 score."
   ]
  },
  {
   "cell_type": "markdown",
   "metadata": {
    "colab_type": "text",
    "id": "7b6YEAzzhWAa"
   },
   "source": [
    "### Part 3:\n",
    "\n",
    "Produce 1-Nearest Neighbor models using training data of various sizes.  Evaluate and show the performance of each model.  Additionally, show the time needed to measure the performance of each model.\n",
    "\n",
    "Notes:\n",
    "* Train on the train set.\n",
    "* Evaluate on the dev set.\n",
    "* You can use `KNeighborsClassifier` to produce a k-nearest neighbor model.\n",
    "* You can use `time.time()` to measure elapsed time of operations."
   ]
  },
  {
   "cell_type": "code",
   "execution_count": 10,
   "metadata": {
    "colab": {},
    "colab_type": "code",
    "id": "gEpNzDEjhWAa"
   },
   "outputs": [],
   "source": [
    "def P3(train_sizes, accuracies):\n",
    "    \"\"\" P3 - Produces a 1NN model that uses training data of various sizes then evaluates the performance of each \n",
    "                model as well as the time to measure the performace of each model.\n",
    "    # param train_sizes: list of different training size inputs\n",
    "    # param accuracies: empty array to append the accuracy values for each training size\n",
    "    # return: None\n",
    "    \"\"\"\n",
    "    \n",
    "    #iterate through all the training sizes \n",
    "    for i in train_sizes:\n",
    "        overall_start = time.time()\n",
    "        \n",
    "        #shuffle the data\n",
    "        shuffle = np.random.permutation(np.arange(train_data.shape[0]))\n",
    "        input_shuffle, labels_shuffle = train_data[shuffle], train_labels[shuffle]\n",
    "        #get the desired training data size\n",
    "        input_subset = input_shuffle[0:i]\n",
    "        labels_subset = labels_shuffle[0:i]\n",
    "\n",
    "        #train the kNN model on 1 neighbor with the training data set\n",
    "        knn = KNeighborsClassifier(n_neighbors=1, p=2, metric='minkowski')\n",
    "        knn.fit(input_subset, labels_subset)\n",
    "\n",
    "        #predict on the dev set\n",
    "        y_pred = knn.predict(dev_data)\n",
    "        \n",
    "        #calculate time needed to measure the performance of each model\n",
    "        start = time.time()\n",
    "        misclassified = (dev_labels != y_pred).sum()\n",
    "        error = misclassified/len(y_pred)\n",
    "        acc = 1 - error\n",
    "        end = time.time()\n",
    "        my_time = end - start\n",
    "        total_time = end - overall_start\n",
    "\n",
    "        #evaluate and show the performance of each model\n",
    "        print('For training size: ', i)\n",
    "        print('\\t Misclassified examples: ', misclassified,' (out of ', len(y_pred), ')' )\n",
    "        print('\\t Prediction error: %.3f' % error)\n",
    "        print('\\t Prediction accuracy: %.3f'% acc)\n",
    "        accuracies.append({i : acc})\n",
    "        print('\\t Total time: ', total_time, ' & Performace Time: ', my_time)\n",
    "        \n",
    "    print(\"Overall Accuracies: \", accuracies)\n",
    "    "
   ]
  },
  {
   "cell_type": "code",
   "execution_count": 11,
   "metadata": {},
   "outputs": [
    {
     "name": "stdout",
     "output_type": "stream",
     "text": [
      "For training size:  100\n",
      "\t Misclassified examples:  296  (out of  1000 )\n",
      "\t Prediction error: 0.296\n",
      "\t Prediction accuracy: 0.704\n",
      "\t Total time:  0.30810022354125977  & Performace Time:  4.363059997558594e-05\n",
      "For training size:  200\n",
      "\t Misclassified examples:  219  (out of  1000 )\n",
      "\t Prediction error: 0.219\n",
      "\t Prediction accuracy: 0.781\n",
      "\t Total time:  0.5077083110809326  & Performace Time:  4.315376281738281e-05\n",
      "For training size:  400\n",
      "\t Misclassified examples:  163  (out of  1000 )\n",
      "\t Prediction error: 0.163\n",
      "\t Prediction accuracy: 0.837\n",
      "\t Total time:  0.7531638145446777  & Performace Time:  4.1961669921875e-05\n",
      "For training size:  800\n",
      "\t Misclassified examples:  137  (out of  1000 )\n",
      "\t Prediction error: 0.137\n",
      "\t Prediction accuracy: 0.863\n",
      "\t Total time:  1.3603405952453613  & Performace Time:  4.267692565917969e-05\n",
      "For training size:  1600\n",
      "\t Misclassified examples:  102  (out of  1000 )\n",
      "\t Prediction error: 0.102\n",
      "\t Prediction accuracy: 0.898\n",
      "\t Total time:  2.7166335582733154  & Performace Time:  4.2438507080078125e-05\n",
      "For training size:  3200\n",
      "\t Misclassified examples:  73  (out of  1000 )\n",
      "\t Prediction error: 0.073\n",
      "\t Prediction accuracy: 0.927\n",
      "\t Total time:  5.504661321640015  & Performace Time:  6.437301635742188e-05\n",
      "For training size:  6400\n",
      "\t Misclassified examples:  62  (out of  1000 )\n",
      "\t Prediction error: 0.062\n",
      "\t Prediction accuracy: 0.938\n",
      "\t Total time:  10.640506744384766  & Performace Time:  4.100799560546875e-05\n",
      "For training size:  12800\n",
      "\t Misclassified examples:  55  (out of  1000 )\n",
      "\t Prediction error: 0.055\n",
      "\t Prediction accuracy: 0.945\n",
      "\t Total time:  21.52062463760376  & Performace Time:  4.1484832763671875e-05\n",
      "For training size:  25600\n",
      "\t Misclassified examples:  34  (out of  1000 )\n",
      "\t Prediction error: 0.034\n",
      "\t Prediction accuracy: 0.966\n",
      "\t Total time:  44.01009511947632  & Performace Time:  4.00543212890625e-05\n",
      "Overall Accuracies:  [{100: 0.704}, {200: 0.781}, {400: 0.837}, {800: 0.863}, {1600: 0.898}, {3200: 0.927}, {6400: 0.938}, {12800: 0.945}, {25600: 0.966}]\n"
     ]
    }
   ],
   "source": [
    "train_sizes = [100, 200, 400, 800, 1600, 3200, 6400, 12800, 25600]\n",
    "accuracies = []\n",
    "P3(train_sizes, accuracies)"
   ]
  },
  {
   "cell_type": "markdown",
   "metadata": {
    "colab_type": "text",
    "id": "B56lVsKNhWAc"
   },
   "source": [
    "### Part 4:\n",
    "\n",
    "Produce a regression model that predicts accuracy of a 1-Nearest Neighbor model given training set size. Show $R^2$ of the regression model and the accuracies it predicts for training set sizes 60000, 120000, and 1000000.  Show a lineplot of the actual accuracies and predicted accuracies vs. training set size.  What's wrong with using regression here?\n",
    "\n",
    "Apply some transformation that makes the predictions more reasonable.  Show $R^2$ of the improved regression model and the accuracies it predicts for training set sizes 60000, 120000, and 1000000.  Show a lineplot of the actual accuracies and predicted accuracies vs. training set size.\n",
    "\n",
    "Notes:\n",
    "* Train the regression models on all of the (transformed) accuracies estimated in Problem 3.\n",
    "* Evaluate the regression models on all of the (transformed) accuracies estimated in Problem 3.\n",
    "* You can use `LinearRegression` to produce a linear regression model.\n",
    "* Remember that the sklearn `fit()` functions take an input matrix X and output vector Y. So, each input example in X is a vector, even if it contains only a single value."
   ]
  },
  {
   "cell_type": "code",
   "execution_count": 12,
   "metadata": {
    "colab": {},
    "colab_type": "code",
    "id": "4xE_qIJghWAc"
   },
   "outputs": [],
   "source": [
    "def P4():\n",
    "    \"\"\" P4 - Produces a regression model that predicts the accuracy of a 1NN model, given the training set size.\n",
    "                Shows the R2 and predicted accuracies for training sizes 60000, 120000, and 1000000. Then displays\n",
    "                a line plot for both actual and predicted accuracies. Also, transforms the accuracy labels to be more\n",
    "                reasonable and then displays the R2, predicted values, and updated line plot.\n",
    "    # param: None\n",
    "    # return: None\n",
    "    \"\"\"\n",
    "    \n",
    "    #set initial values\n",
    "    my_acc = []\n",
    "    my_sizes = []\n",
    "\n",
    "    #get accuracies from the array produced from the previous problem\n",
    "    for i in accuracies:\n",
    "        my_acc.append(list(i.values())[0])\n",
    "        my_sizes.append(list(i.keys())[0])\n",
    "\n",
    "    #reshape arrays for linear regression input\n",
    "    transformed_acc = np.reshape(my_acc, (-1, 1))\n",
    "    transformed_sizes = np.reshape(my_sizes, (-1, 1))\n",
    "    \n",
    "    #build linear regression model and print R2 score\n",
    "    reg = LinearRegression().fit(transformed_sizes, transformed_acc)\n",
    "    print(\"R2 Score: \", reg.score(transformed_sizes, transformed_acc))\n",
    "\n",
    "    #predict accuracies for different training sizes\n",
    "    tr_sizes = [[60000],[120000],[1000000]]\n",
    "    est_acc = reg.predict(tr_sizes)\n",
    "    print(\"\\t Predictions for \", tr_sizes[0], \" = \", est_acc[0])\n",
    "    print(\"\\t Predictions for \", tr_sizes[1], \" = \", est_acc[1])\n",
    "    print(\"\\t Predictions for \", tr_sizes[2], \" = \", est_acc[2])\n",
    "\n",
    "    #get predicted values\n",
    "    pred_acc = reg.predict(transformed_sizes)\n",
    "    my_pred_acc = []\n",
    "    for j in pred_acc:\n",
    "        my_pred_acc.append(j[0])\n",
    "        \n",
    "    #plot actual & predicted values\n",
    "    print(\"\\n Actual & Predicted Accuracies vs. Training Set Size\")\n",
    "    plt.plot(my_sizes, my_acc, \"-b\", label=\"Actual\")\n",
    "    plt.plot(my_sizes, my_pred_acc, \"-r\", label=\"Predicted\") \n",
    "    plt.legend(loc=\"upper left\")\n",
    "    plt.show()\n",
    "    \n",
    "    #answer 'What's wrong with using regression here?'\n",
    "    print(\"\\nLinear regression is wrong here because the values are not linear. So, trying to fit them to a linear\",\n",
    "              \"model does not necessarily work the best.\")\n",
    "    \n",
    "    #apply transformation to accuracy inputs\n",
    "    pwr_acc = []\n",
    "    for k in range(0,len(my_acc)):\n",
    "        pwr_acc.append((my_acc[k])**len(my_acc))\n",
    "    \n",
    "    #fit a new linear model and print the improved R2 score\n",
    "    reg2 = LinearRegression().fit(transformed_sizes, pwr_acc)\n",
    "    print(\"\\nImproved R2 Score: \", reg2.score(transformed_sizes, pwr_acc))\n",
    "\n",
    "    #predict accuracies for different training sizes\n",
    "    est_acc2 = reg2.predict(tr_sizes)\n",
    "    print(\"\\t Predictions for \", tr_sizes[0], \" = \", est_acc2[0])\n",
    "    print(\"\\t Predictions for \", tr_sizes[1], \" = \", est_acc2[1])\n",
    "    print(\"\\t Predictions for \", tr_sizes[2], \" = \", est_acc2[2])\n",
    "\n",
    "    #get predicted values\n",
    "    pred_acc2 = reg2.predict(transformed_sizes)\n",
    "    \n",
    "    #plot actual & predicted values\n",
    "    print(\"\\n(Transformed) Actual & Predicted Accuracies vs. Training Set Size\")\n",
    "    plt.plot(my_sizes, pwr_acc, \"-b\", label=\"Actual\")\n",
    "    plt.plot(my_sizes, pred_acc2, \"-r\", label=\"Predicted\")\n",
    "    plt.legend(loc=\"upper left\")\n",
    "    plt.show()\n",
    "    "
   ]
  },
  {
   "cell_type": "code",
   "execution_count": 13,
   "metadata": {},
   "outputs": [
    {
     "name": "stdout",
     "output_type": "stream",
     "text": [
      "R2 Score:  0.4257873399200556\n",
      "\t Predictions for  [60000]  =  [1.23266895]\n",
      "\t Predictions for  [120000]  =  [1.62968518]\n",
      "\t Predictions for  [1000000]  =  [7.45258983]\n",
      "\n",
      " Actual & Predicted Accuracies vs. Training Set Size\n"
     ]
    },
    {
     "data": {
      "image/png": "[encoded data removed]",
      "text/plain": [
       "<Figure size 432x288 with 1 Axes>"
      ]
     },
     "metadata": {
      "needs_background": "light"
     },
     "output_type": "display_data"
    },
    {
     "name": "stdout",
     "output_type": "stream",
     "text": [
      "\n",
      "Linear regression is wrong here because the values are not linear. So, trying to fit them to a linear model does not necessarily work the best.\n",
      "\n",
      "Improved R2 Score:  0.6654462915694176\n",
      "\t Predictions for  [60000]  =  1.6144854249441087\n",
      "\t Predictions for  [120000]  =  2.980629837601252\n",
      "\t Predictions for  [1000000]  =  23.017414556572678\n",
      "\n",
      "(Transformed) Actual & Predicted Accuracies vs. Training Set Size\n"
     ]
    },
    {
     "data": {
      "image/png": "[encoded data removed]",
      "text/plain": [
       "<Figure size 432x288 with 1 Axes>"
      ]
     },
     "metadata": {
      "needs_background": "light"
     },
     "output_type": "display_data"
    }
   ],
   "source": [
    "P4()"
   ]
  },
  {
   "cell_type": "markdown",
   "metadata": {
    "colab_type": "text",
    "id": "HYYYL9cGhWAe"
   },
   "source": [
    "ANSWER: The original R2 value is 0.42, which means that the does not fit the data very well. Linear regression is wrong here because the values are not linear. By observing the original linplot, we can see that the predictions follow a logarithmic curve. So, trying to fit them to a linear model does not necessarily work very well. As a result, an exponential transformation was applied to make the predictions more reasonable and linear. Then, the R2 value went up to 0.67, indicating that the model was then a better fit of the data."
   ]
  },
  {
   "cell_type": "markdown",
   "metadata": {
    "colab_type": "text",
    "id": "geAQJjGRhWAe"
   },
   "source": [
    "### Part 5:\n",
    "\n",
    "Produce a 1-Nearest Neighbor model and show the confusion matrix. Which pair of digits does the model confuse most often? Show the images of these most often confused digits.\n",
    "\n",
    "Notes:\n",
    "- Train on the mini train set.\n",
    "- Evaluate performance on the dev set.\n",
    "- You can use `confusion_matrix()` to produce a confusion matrix."
   ]
  },
  {
   "cell_type": "code",
   "execution_count": 14,
   "metadata": {},
   "outputs": [],
   "source": [
    "def erin_confusion_matrix_plot(conf_matrix):\n",
    "    \"\"\" erin_confusion_matrix_plot - custom user function to produce a confusion matrix plot\n",
    "    # param conf_matrix: nested list of TP, TN, FP, FN\n",
    "    # return: None\n",
    "    \"\"\"\n",
    "    \n",
    "    #plot the confusion matrix\n",
    "    plt.matshow(conf_matrix, cmap=plt.cm.Blues)\n",
    "    for i in range(conf_matrix.shape[0]):\n",
    "            for j in range(conf_matrix.shape[1]):\n",
    "                plt.text(x=j, y=i, s=conf_matrix[i, j], va='center', ha='center')\n",
    "    \n",
    "    #adjust ticks and labels\n",
    "    plt.xticks([0,1,2,3,4,5,6,7,8,9]) \n",
    "    plt.yticks([0,1,2,3,4,5,6,7,8,9])\n",
    "    plt.xlabel('Predicted label')\n",
    "    plt.ylabel('True label')\n",
    "\n",
    "    #show the plot\n",
    "    plt.show()\n",
    "    "
   ]
  },
  {
   "cell_type": "code",
   "execution_count": 15,
   "metadata": {
    "colab": {},
    "colab_type": "code",
    "id": "Bq36xaQohWAf"
   },
   "outputs": [],
   "source": [
    "def P5():\n",
    "    \"\"\" P5 - Produces a 1NN model, shows the confusion matrix, prints the pair of digits the model confuses most \n",
    "                often, and displays the images of those most often confused difits.\n",
    "    # param: None\n",
    "    # return: None\n",
    "    \"\"\"\n",
    "    \n",
    "    #build 1NN model trained onthe mini train set\n",
    "    knn = KNeighborsClassifier(n_neighbors=1, p=2, metric='minkowski')\n",
    "    knn.fit(mini_train_data, mini_train_labels)\n",
    "\n",
    "    #predict on the dev set\n",
    "    y_pred = knn.predict(dev_data)\n",
    "\n",
    "    #performance of dev set\n",
    "    print('Performance on dev set:')\n",
    "    print('\\t Misclassified examples: ', (dev_labels != y_pred).sum(),' (out of ', len(y_pred), ')' )\n",
    "    error = (dev_labels != y_pred).sum()/len(y_pred)\n",
    "    print('\\t Prediction error: %.3f' % error)\n",
    "    print('\\t Prediction accuracy: %.3f'% (1-error))\n",
    "\n",
    "    #plot the confusion matrix\n",
    "    conf_matrix = confusion_matrix(dev_labels, y_pred)\n",
    "    erin_confusion_matrix_plot(conf_matrix)\n",
    "    \n",
    "    #set values for finding the most confused pair\n",
    "    my_max = 0\n",
    "    x_index = 0\n",
    "    y_index = 0\n",
    "    row = -1\n",
    "\n",
    "    #iterate through the confusion matrix to find the most confused pair \n",
    "    for i in conf_matrix[:,]:\n",
    "        row += 1\n",
    "        col = -1\n",
    "        for j in i:\n",
    "            col += 1\n",
    "            if col != row:\n",
    "                if j > my_max:\n",
    "                    my_max = j\n",
    "                    #true label\n",
    "                    x_index = row\n",
    "                    #predicted label\n",
    "                    y_index = col\n",
    "\n",
    "    print(\"Pair of digits most often confused is: True Label = \", x_index, \" & Predicted Label = \", y_index,\n",
    "          \" with \", my_max, \" misclassifications.\")\n",
    "\n",
    "    #set values for finding the images of most condused pair\n",
    "    my_indexes = []\n",
    "    my_y = str(y_index)\n",
    "    my_x = str(x_index)\n",
    "\n",
    "    #interate through actual/predected labels to get the indexes of images to plot\n",
    "    for k in range(0,len(y_pred)):\n",
    "        pred_val = y_pred[k]\n",
    "        actual_val = dev_labels[k]\n",
    "\n",
    "        if pred_val != actual_val:\n",
    "            if pred_val == my_y and actual_val == my_x:\n",
    "                my_indexes.append(k)\n",
    "    \n",
    "    #plot the most confused pair images\n",
    "    loc = 1\n",
    "    print(\"Most often confused images of \", my_x, \" (actual) with \", my_y, \" (predicted) :\")\n",
    "\n",
    "    #loop through all indicies\n",
    "    for k in my_indexes:\n",
    "        #create grid of image examples\n",
    "        plt.subplot(1,len(my_indexes),loc)\n",
    "        loc += 1\n",
    "        im = np.reshape(dev_data[k], (28, 28))\n",
    "        plt.imshow(im, cmap='gray')\n",
    "        "
   ]
  },
  {
   "cell_type": "code",
   "execution_count": 16,
   "metadata": {},
   "outputs": [
    {
     "name": "stdout",
     "output_type": "stream",
     "text": [
      "Performance on dev set:\n",
      "\t Misclassified examples:  116  (out of  1000 )\n",
      "\t Prediction error: 0.116\n",
      "\t Prediction accuracy: 0.884\n"
     ]
    },
    {
     "data": {
      "image/png": "[encoded data removed]",
      "text/plain": [
       "<Figure size 288x288 with 1 Axes>"
      ]
     },
     "metadata": {
      "needs_background": "light"
     },
     "output_type": "display_data"
    },
    {
     "name": "stdout",
     "output_type": "stream",
     "text": [
      "Pair of digits most often confused is: True Label =  4  & Predicted Label =  9  with  11  misclassifications.\n",
      "Most often confused images of  4  (actual) with  9  (predicted) :\n"
     ]
    },
    {
     "data": {
      "image/png": "[encoded data removed]",
      "text/plain": [
       "<Figure size 432x288 with 11 Axes>"
      ]
     },
     "metadata": {
      "needs_background": "light"
     },
     "output_type": "display_data"
    }
   ],
   "source": [
    "P5()"
   ]
  },
  {
   "cell_type": "markdown",
   "metadata": {},
   "source": [
    "ANSWER: The pair of digits most often confused are 4 (actual label) and 9 (predicted label). We can see some example images where the model precdicted the label to be 9 when it should have been 4. Some people write 4's to look more like 9's, so it makes sense that these values are the most commonly confused pair of digits."
   ]
  },
  {
   "cell_type": "markdown",
   "metadata": {
    "colab_type": "text",
    "id": "tgqMKb-hhWAh"
   },
   "source": [
    "### Part 6:\n",
    "\n",
    "A common image processing technique is to smooth an image by blurring. The idea is that the value of a particular pixel is estimated as the weighted combination of the original value and the values around it. Typically, the blurring is Gaussian, i.e., the weight of a pixel's influence is determined by a Gaussian function over the distance to the relevant pixel.\n",
    "\n",
    "Implement a simplified Gaussian blur by just using the 8 neighboring pixels like this: the smoothed value of a pixel is a weighted combination of the original value and the 8 neighboring values.\n",
    "\n",
    "Apply your blur filter in 3 ways:\n",
    "- Filter the training data but not the dev data\n",
    "- Filter the dev data but not the training data\n",
    "- Filter both training data and dev data\n",
    "\n",
    "Show the accuracy resulting no filter and from each way you apply the filter.\n",
    "\n",
    "Notes:\n",
    "* Train on the (filtered) mini train set.\n",
    "* Evaluate performance on the (filtered) dev set.\n",
    "* There are Guassian blur filters available, for example in `scipy.ndimage.filters`. You are welcome to experiment with those, but you are likely to get the best results with the simplified version described above."
   ]
  },
  {
   "cell_type": "code",
   "execution_count": 17,
   "metadata": {},
   "outputs": [],
   "source": [
    "def erin_smoothing(my_ex):\n",
    "    \"\"\" erin_smoothing - Produces a new \"blurred\" image-array, by average the 8 neighboring pixels and the \n",
    "                original value to get a new, smoothed value.\n",
    "    # param: my_ex: The original image-array, in matrix form.\n",
    "    # return: new_ex: The blurred image array.\n",
    "    \"\"\"\n",
    "\n",
    "    #initialize output variable\n",
    "    new_ex = []\n",
    "\n",
    "    #iterate through all values in order to blur\n",
    "    for i in range(0, len(my_ex)):\n",
    "        \n",
    "        #top and bottom rows:\n",
    "        if i == 0 or i == 27:\n",
    "            \n",
    "            #top row\n",
    "            if i == 0:\n",
    "                for j in range(0,len(my_ex[i])):\n",
    "                    \n",
    "                    #first or last cell\n",
    "                    if j == 0 or j == 27:\n",
    "                        \n",
    "                        #first cell - corner case\n",
    "                        if j == 0:\n",
    "                            total = my_ex[i][j+1] + my_ex[i+1][j+1] + my_ex[i+1][j] + my_ex[i][j]\n",
    "                            new_val = total/4\n",
    "                            new_ex.append(new_val)\n",
    "                        \n",
    "                        #last cell - corner case  \n",
    "                        if j == 27:\n",
    "                            total = my_ex[i+1][j] + my_ex[i+1][j-1] + my_ex[i][j-1] + my_ex[i][j]\n",
    "                            new_val = total/4\n",
    "                            new_ex.append(new_val)\n",
    "                    \n",
    "                    #regular case for first row        \n",
    "                    else:\n",
    "                        total = my_ex[i][j+1] + my_ex[i+1][j+1] + my_ex[i+1][j] + my_ex[i+1][j-1] + my_ex[i][j-1] + my_ex[i][j]\n",
    "                        new_val = total/6\n",
    "                        new_ex.append(new_val)\n",
    "\n",
    "            #last row            \n",
    "            if i == 27:\n",
    "                for i in range(0,len(my_ex[i])):\n",
    "                    \n",
    "                    #first or last cell\n",
    "                    if j == 0 or j == 27:\n",
    "                        \n",
    "                        #first cell - corner case\n",
    "                        if j == 0:\n",
    "                            total = my_ex[i-1][j] + my_ex[i-1][j+1] + my_ex[i][j+1] + my_ex[i][j]\n",
    "                            new_val = total/4\n",
    "                            new_ex.append(new_val)\n",
    "\n",
    "                        #last cell - corner case   \n",
    "                        if j == 27:\n",
    "                            total = my_ex[i-1][j] + my_ex[i-1][j-1] + my_ex[i][j-1] + my_ex[i][j]\n",
    "                            new_val = total/4\n",
    "                            new_ex.append(new_val)\n",
    "                    \n",
    "                    #regular case for last row\n",
    "                    else:\n",
    "                        total = my_ex[i][j+1] + my_ex[i+1][j+1] + my_ex[i+1][j] + my_ex[i+1][j-1] + my_ex[i][j-1] + my_ex[i][j]\n",
    "                        new_val = total/6\n",
    "                        new_ex.append(new_val)\n",
    "\n",
    "        #non-edge rows            \n",
    "        else:\n",
    "            for j in range(0,len(my_ex[i])): \n",
    "                \n",
    "                #edge cells\n",
    "                if j == 0 or j == 27:  \n",
    "                    \n",
    "                    #first cell\n",
    "                    if j == 0:\n",
    "                        total = my_ex[i-1][j] + my_ex[i-1][j+1] + my_ex[i][j+1] + my_ex[i+1][j+1] + my_ex[i+1][j] + my_ex[i][j]\n",
    "                        new_val = total/6\n",
    "                        new_ex.append(new_val)\n",
    "\n",
    "                    #last cell\n",
    "                    if j == 27:\n",
    "                        total = my_ex[i-1][j-1] + my_ex[i-1][j] + my_ex[i+1][j] + my_ex[i+1][j-1] + my_ex[i][j-1] + my_ex[i][j]\n",
    "                        new_val = total/6\n",
    "                        new_ex.append(new_val)\n",
    "                \n",
    "                #regular case for non-edge rows and cells\n",
    "                else:\n",
    "                    total = my_ex[i-1][j-1] + my_ex[i-1][j] + my_ex[i-1][j+1] + my_ex[i][j+1] + my_ex[i+1][j+1] + my_ex[i+1][j] + my_ex[i+1][j-1] + my_ex[i][j-1] + my_ex[i][j]\n",
    "                    new_val = total/9\n",
    "                    new_ex.append(new_val)\n",
    "     \n",
    "    return(new_ex)\n"
   ]
  },
  {
   "cell_type": "code",
   "execution_count": 18,
   "metadata": {},
   "outputs": [],
   "source": [
    "def erin_blur_df(my_copy):\n",
    "    \"\"\" erin_blur_df - Produces a new \"blurred\" data frame, where each row is a blurred image-array.\n",
    "    # param: my_copy: The copy of the original data set.\n",
    "    # return: new_copy: The new blurred data set.\n",
    "    \"\"\"\n",
    "\n",
    "    #initialize output variable\n",
    "    new_copy = np.zeros(shape=my_copy.shape)\n",
    "\n",
    "    #iterate through each image-array in the data set\n",
    "    for k in range(0,len(my_copy)):\n",
    "\n",
    "        #get image-array and turn it into matrix for blurring function input\n",
    "        my_ex = my_copy[k]\n",
    "        my_ex = my_ex.reshape(28,28)\n",
    "\n",
    "        #get blurred array\n",
    "        temp = erin_smoothing(my_ex)\n",
    "\n",
    "        #add blurred image-arrage to new data set\n",
    "        new_copy[k] = temp\n",
    "        \n",
    "    return(new_copy)\n"
   ]
  },
  {
   "cell_type": "code",
   "execution_count": 19,
   "metadata": {},
   "outputs": [],
   "source": [
    "def erin_accuracy(labels, predictions):\n",
    "    \"\"\" erin_accuracy - Produces a new \"blurred\" data frame, where each row is a blurred image-array.\n",
    "    # param: labels: The true labels for the evaluation data.\n",
    "    # param: predictions: The predicted labels for the evaluation data.\n",
    "    # return: None\n",
    "    \"\"\"\n",
    "\n",
    "    #print out accuracies for a model\n",
    "    print('\\t Misclassified examples: ', (labels != predictions).sum(),' (out of ', len(predictions), ')' )\n",
    "    error = (labels != predictions).sum()/len(predictions)\n",
    "    print('\\t Prediction error: %.3f' % error)\n",
    "    print('\\t Prediction accuracy: %.3f'% (1-error))\n",
    "    "
   ]
  },
  {
   "cell_type": "code",
   "execution_count": 20,
   "metadata": {
    "colab": {},
    "colab_type": "code",
    "id": "lSKHmHGshWAi"
   },
   "outputs": [],
   "source": [
    "def P6():\n",
    "    \"\"\" P6 - Shows the accuracy of a 1NN model with blurred/non-blurred training/dev data.\n",
    "    # param: None\n",
    "    # return: None\n",
    "    \"\"\"\n",
    "    \n",
    "    #make copies of the mini train and dev data sets\n",
    "    mini_train_data_copy = mini_train_data.copy()\n",
    "    dev_data_copy = dev_data.copy()\n",
    "    \n",
    "    #make a blurred copy of the mini train and dev data sets\n",
    "    blurred_mini_train_data = erin_blur_df(mini_train_data_copy)\n",
    "    blurred_dev_data = erin_blur_df(dev_data_copy)\n",
    "    \n",
    "    print(\"No filter: \")\n",
    "    \n",
    "    #train the kNN model on 1 neighbor with the mini train set\n",
    "    knn = KNeighborsClassifier(n_neighbors=1, p=2, metric='minkowski')\n",
    "    knn.fit(mini_train_data, mini_train_labels)\n",
    "\n",
    "    #predict on the dev set\n",
    "    y_pred = knn.predict(dev_data)\n",
    "    \n",
    "    #print accuracies\n",
    "    erin_accuracy(dev_labels, y_pred)\n",
    "    \n",
    "    print(\"Filter the training data but not the dev data: \")\n",
    "    \n",
    "    #train the kNN model on 1 neighbor with the blurred mini train set\n",
    "    knn = KNeighborsClassifier(n_neighbors=1, p=2, metric='minkowski')\n",
    "    knn.fit(blurred_mini_train_data, mini_train_labels)\n",
    "\n",
    "    #predict on the dev set\n",
    "    y_pred = knn.predict(dev_data)\n",
    "    \n",
    "    #print accuracies\n",
    "    erin_accuracy(dev_labels, y_pred)\n",
    "    \n",
    "    print(\"Filter the dev data but not the training data: \")\n",
    "    \n",
    "    #train the kNN model on 1 neighbor with the mini train set\n",
    "    knn = KNeighborsClassifier(n_neighbors=1, p=2, metric='minkowski')\n",
    "    knn.fit(mini_train_data, mini_train_labels)\n",
    "\n",
    "    #predict on the blurred dev set\n",
    "    y_pred = knn.predict(blurred_dev_data)\n",
    "    \n",
    "    #print accuracies\n",
    "    erin_accuracy(dev_labels, y_pred)\n",
    "    \n",
    "    print(\"Filter both training data and dev data: \")\n",
    "    \n",
    "    #train the kNN model on 1 neighbor with the blurred mini train set\n",
    "    knn = KNeighborsClassifier(n_neighbors=1, p=2, metric='minkowski')\n",
    "    knn.fit(blurred_mini_train_data, mini_train_labels)\n",
    "\n",
    "    #predict on the blurred dev set\n",
    "    y_pred = knn.predict(blurred_dev_data)\n",
    "    \n",
    "    #print accuracies\n",
    "    erin_accuracy(dev_labels, y_pred)\n"
   ]
  },
  {
   "cell_type": "code",
   "execution_count": 21,
   "metadata": {},
   "outputs": [
    {
     "name": "stdout",
     "output_type": "stream",
     "text": [
      "No filter: \n",
      "\t Misclassified examples:  116  (out of  1000 )\n",
      "\t Prediction error: 0.116\n",
      "\t Prediction accuracy: 0.884\n",
      "Filter the training data but not the dev data: \n",
      "\t Misclassified examples:  93  (out of  1000 )\n",
      "\t Prediction error: 0.093\n",
      "\t Prediction accuracy: 0.907\n",
      "Filter the dev data but not the training data: \n",
      "\t Misclassified examples:  132  (out of  1000 )\n",
      "\t Prediction error: 0.132\n",
      "\t Prediction accuracy: 0.868\n",
      "Filter both training data and dev data: \n",
      "\t Misclassified examples:  95  (out of  1000 )\n",
      "\t Prediction error: 0.095\n",
      "\t Prediction accuracy: 0.905\n"
     ]
    }
   ],
   "source": [
    "P6()"
   ]
  },
  {
   "cell_type": "markdown",
   "metadata": {
    "colab_type": "text",
    "id": "LtgepWfAhWAk"
   },
   "source": [
    "### Part 7:\n",
    "\n",
    "Produce two Naive Bayes models and evaluate their performances.  Recall that Naive Bayes estimates P(feature|label), where each label is a categorical, not a real number.\n",
    "\n",
    "For the first model, map pixel values to either 0 or 1, representing white or black - you should pre-process the data or use `BernoulliNB`'s `binarize` parameter.  Use some reasonable threshold to separate white from black.  Use `BernoulliNB` to produce the model.\n",
    "\n",
    "For the second model, map pixel values to either 0, 1, or 2, representing white, gray, or black - you should pre-process the data.  Use some reasonable thresholds to separate white from gray from black.  Use `MultinomialNB` to produce the model. \n",
    "\n",
    "Show the Bernoulli model accuracy and the Multinomial model accuracy.\n",
    "\n",
    "Notes:\n",
    "* Train on the mini train set.\n",
    "* Evaluate performance on the dev set.\n",
    "* `sklearn`'s Naive Bayes methods can handle real numbers, but for this exercise explicitly do the mapping to categoricals. \n",
    "\n",
    "Does the multinomial version improve the results? Why or why not?"
   ]
  },
  {
   "cell_type": "code",
   "execution_count": 22,
   "metadata": {},
   "outputs": [],
   "source": [
    "#make copies of the mini training data\n",
    "copy_mini_data = mini_train_data.copy()\n",
    "copy_mini_labels = mini_train_labels.copy()\n",
    "\n",
    "#iterate through all values in order to map them to either 0, 1, or 2\n",
    "for i in range(0,len(mini_train_data)):\n",
    "    for j in range(0, len(mini_train_data[i])):\n",
    "        if mini_train_data[i][j] <= 0.2:\n",
    "            copy_mini_data[i][j] = '0'\n",
    "        elif mini_train_data[i][j] <= 0.8:\n",
    "            copy_mini_data[i][j] = '1'\n",
    "        else:\n",
    "            copy_mini_data[i][j] = '2'"
   ]
  },
  {
   "cell_type": "code",
   "execution_count": 23,
   "metadata": {
    "colab": {},
    "colab_type": "code",
    "id": "eGpH-4IQhWAk"
   },
   "outputs": [],
   "source": [
    "def P7():\n",
    "    \"\"\" P7 - Produces two Naive Bayes model implementations: Bernoulli & Multinomial. Then compares the accuracy\n",
    "                of each model and evaluates their performance.\n",
    "    # param: None\n",
    "    # return: None\n",
    "    \"\"\"\n",
    "    \n",
    "    #build Bernoulli NB model trained on the mini_train_data\n",
    "    BNBclf = BernoulliNB(binarize=0.3)\n",
    "    BNBclf.fit(mini_train_data, mini_train_labels)\n",
    "    \n",
    "    #evaluate on the dev data\n",
    "    BNBy_pred = BNBclf.predict(dev_data)\n",
    "    \n",
    "    #show Bernoulli model accuracy\n",
    "    print('Bernoulli Misclassified examples: ', (dev_labels != BNBy_pred).sum(),' (out of ', len(BNBy_pred), ')' )\n",
    "    error = (dev_labels != BNBy_pred).sum()/len(BNBy_pred)\n",
    "    print('Bernoulli Prediction error: %.3f' % error)\n",
    "    print('Bernoulli Prediction accuracy: %.3f'% (1-error))\n",
    "    \n",
    "    #build Multinomial NB model trained on the pre-processed categorial version of the mini training data\n",
    "    MNBclf = MultinomialNB()\n",
    "    MNBclf.fit(copy_mini_data, copy_mini_labels)\n",
    "    \n",
    "    #evaluate on the dev data\n",
    "    MNBy_pred = MNBclf.predict(dev_data)\n",
    "    \n",
    "    #show the Multinomial model accuracy\n",
    "    print('\\nMultinomial Misclassified examples: ', (dev_labels != MNBy_pred).sum(),' (out of ', len(MNBy_pred), ')' )\n",
    "    error = (dev_labels != MNBy_pred).sum()/len(MNBy_pred)\n",
    "    print('Mulitnomial Prediction error: %.3f' % error)\n",
    "    print('Multinomail Prediction accuracy: %.3f'% (1-error))\n"
   ]
  },
  {
   "cell_type": "code",
   "execution_count": 24,
   "metadata": {},
   "outputs": [
    {
     "name": "stdout",
     "output_type": "stream",
     "text": [
      "Bernoulli Misclassified examples:  173  (out of  1000 )\n",
      "Bernoulli Prediction error: 0.173\n",
      "Bernoulli Prediction accuracy: 0.827\n",
      "\n",
      "Multinomial Misclassified examples:  186  (out of  1000 )\n",
      "Mulitnomial Prediction error: 0.186\n",
      "Multinomail Prediction accuracy: 0.814\n"
     ]
    }
   ],
   "source": [
    "P7()"
   ]
  },
  {
   "cell_type": "markdown",
   "metadata": {
    "colab_type": "text",
    "id": "zNLrgggohWAm"
   },
   "source": [
    "ANSWER: The multinomial version does not necessarily improve the results. Multinomial Naive Bayes estimates the conditional probability of a particular value given a class as the relative frequency of that value. These MNIST images are largely made up of black and white pixels. Most pixel values take on the extreme ends of the continous range between [0,1]. As a result, there are fewer pixels that can be classified as \"grey\". So, adding a category classification for grey pixels is not as descriptive for our model. This additional feature classification does not provide greater image-label representation. Thus, the multinomial classification does not improve the accuracy of the Naive Bayes model."
   ]
  },
  {
   "cell_type": "markdown",
   "metadata": {
    "colab_type": "text",
    "id": "PqjbRLg7hWAm"
   },
   "source": [
    "### Part 8:\n",
    "\n",
    "Search across several values for the LaPlace smoothing parameter (alpha) to find its effect on a Bernoulli Naive Bayes model's performance.  Show the accuracy at each alpha value.\n",
    "\n",
    "Notes:\n",
    "* Train on the mini train set.\n",
    "* Vary alpha and evaulate performance using `GridSearchCV` to cross-validate.\n",
    "* Cross-validation is based on partitions of the training data, so results will be a bit different than if you used the dev set to evaluate performance.\n",
    "\n",
    "What is the best value for alpha? What is the accuracy when alpha is near 0? Is this what you'd expect?"
   ]
  },
  {
   "cell_type": "code",
   "execution_count": 25,
   "metadata": {
    "colab": {},
    "colab_type": "code",
    "id": "0AvZ-Wp3hWAn"
   },
   "outputs": [],
   "source": [
    "def P8(alphas):\n",
    "    \"\"\" P8 - Produces a Bernoulli Naive Bayes model with different LaPlace smoothing parameter values. Then compares\n",
    "                the accuracies for for each alpha value.\n",
    "    # param: alphas: Dictionary for different alpha smoothing values. \n",
    "    # return: clf: the Bernoulli NB model that is cross-validated with GridSearchCV.\n",
    "    \"\"\"\n",
    "    \n",
    "    #train and cross-validate Bernoulli NB model\n",
    "    Bclf = BernoulliNB()\n",
    "    clf = GridSearchCV(Bclf, alphas)\n",
    "    \n",
    "    #fit the model to the mini train set\n",
    "    clf.fit(mini_train_data, mini_train_labels)\n",
    "    \n",
    "    #show accuracy at each alpha value\n",
    "    my_a = alphas.get('alpha')\n",
    "    my_accuracies = clf.cv_results_['mean_test_score']\n",
    "    for i in range(0,len(my_a)):\n",
    "        print('Alpha = ', my_a[i], ' & Accuracy = ', my_accuracies[i])\n",
    "      \n",
    "    #return the cross-validated model\n",
    "    return(clf)\n"
   ]
  },
  {
   "cell_type": "code",
   "execution_count": 26,
   "metadata": {},
   "outputs": [
    {
     "name": "stdout",
     "output_type": "stream",
     "text": [
      "Alpha =  1e-10  & Accuracy =  0.8139999999999998\n",
      "Alpha =  0.0001  & Accuracy =  0.819\n",
      "Alpha =  0.001  & Accuracy =  0.825\n",
      "Alpha =  0.01  & Accuracy =  0.8219999999999998\n",
      "Alpha =  0.1  & Accuracy =  0.818\n",
      "Alpha =  0.5  & Accuracy =  0.8130000000000001\n",
      "Alpha =  1.0  & Accuracy =  0.8089999999999999\n",
      "Alpha =  2.0  & Accuracy =  0.8049999999999999\n",
      "Alpha =  10.0  & Accuracy =  0.783\n",
      "\n",
      "Best alpha =  {'alpha': 0.001}\n"
     ]
    }
   ],
   "source": [
    "alphas = {'alpha': [1.0e-10, 0.0001, 0.001, 0.01, 0.1, 0.5, 1.0, 2.0, 10.0]}\n",
    "nb = P8(alphas)\n",
    "print()\n",
    "print(\"Best alpha = \", nb.best_params_)"
   ]
  },
  {
   "cell_type": "markdown",
   "metadata": {
    "colab_type": "text",
    "id": "1yEg9keThWAp"
   },
   "source": [
    "ANSWER: The best value for alpha is 0.001. The accuracy when alpha is near 0 is about 81%, which is only slightly less than the best accuracy of 82.5% and better than the accuracy for alpha = 10 (78%). Although this is not what I expected as alpha = 1e-10 is almost no smoothing, this makes sense as LaPlace smoothing attempts to solve the problem of zero-probability and zero values. This is particularly helpful as we are dealing with categorical values between 0 and 1, many of which are zero.  "
   ]
  },
  {
   "cell_type": "markdown",
   "metadata": {
    "colab_type": "text",
    "id": "B07GDiDdhWAq"
   },
   "source": [
    "### Part 9:\n",
    "\n",
    "Produce a model using Guassian Naive Bayes, which is intended for real-valued features, and evaluate performance. You will notice that it does not work so well. Diagnose the problem and apply a simple fix so that the model accuracy is around the same as for a Bernoulli Naive Bayes model. Show the model accuracy before your fix and the model accuracy after your fix.  Explain your solution.\n",
    "\n",
    "Notes:\n",
    "* Train on the mini train set.\n",
    "* Evaluate performance on the dev set.\n",
    "* Consider the effects of theta and sigma.  These are stored in the model's `theta_` and `sigma_` attributes."
   ]
  },
  {
   "cell_type": "code",
   "execution_count": 27,
   "metadata": {
    "colab": {},
    "colab_type": "code",
    "id": "gBLbTMWChWAq"
   },
   "outputs": [],
   "source": [
    "def P9():\n",
    "    \"\"\" P9 - Produces a Gaussian Naive Bayes model and an improved Gaussian Naive Bayes model. The performance of each\n",
    "                model is then compared and the effects of theta and sigma are considered.\n",
    "    # param: None \n",
    "    # return: None\n",
    "    \"\"\"\n",
    "    \n",
    "    #build Bernoulli NB model trained on the mini_train_data\n",
    "    GNBclf1 = GaussianNB()\n",
    "    GNBclf1.fit(mini_train_data, mini_train_labels)\n",
    "\n",
    "    #evaluate on the dev data\n",
    "    GNB1y_pred = GNBclf1.predict(dev_data)\n",
    "    print(\"Basic Guassian Naive Bayes Performance: \")\n",
    "    erin_accuracy(dev_labels, GNB1y_pred)\n",
    "    \n",
    "    #build Bernoulli NB model trained on the mini_train_data\n",
    "    GNBclf2 = GaussianNB(var_smoothing=0.07)\n",
    "    GNBclf2.fit(mini_train_data, mini_train_labels)\n",
    "\n",
    "    #evaluate on the dev data\n",
    "    GNB2y_pred = GNBclf2.predict(dev_data)\n",
    "    print(\"Improved Guassian Naive Bayes Performance: \")\n",
    "    erin_accuracy(dev_labels, GNB2y_pred)\n",
    "    \n",
    "    #consider the effects of theta\n",
    "    if len(np.where(np.isclose(GNBclf1.theta_, GNBclf2.theta_))[0]) > 0:\n",
    "        print(\"Mean of each feature per class is roughly the same.\")\n",
    "    else:\n",
    "        print(\"Mean of each feature per class changes with smoothing.\")\n",
    "    \n",
    "    #consider the effects of sigma\n",
    "    if len(np.where(np.isclose(GNBclf1.sigma_, GNBclf2.sigma_))[0]) > 0:\n",
    "        print(\"Variance of each feature per class is roughly the same.\")\n",
    "    else:\n",
    "        print(\"Variance of each feature per class changes with smoothing.\")\n",
    "        "
   ]
  },
  {
   "cell_type": "code",
   "execution_count": 28,
   "metadata": {},
   "outputs": [
    {
     "name": "stdout",
     "output_type": "stream",
     "text": [
      "Basic Guassian Naive Bayes Performance: \n",
      "\t Misclassified examples:  407  (out of  1000 )\n",
      "\t Prediction error: 0.407\n",
      "\t Prediction accuracy: 0.593\n",
      "Improved Guassian Naive Bayes Performance: \n",
      "\t Misclassified examples:  181  (out of  1000 )\n",
      "\t Prediction error: 0.181\n",
      "\t Prediction accuracy: 0.819\n",
      "Mean of each feature per class is roughly the same.\n",
      "Variance of each feature per class changes with smoothing.\n"
     ]
    }
   ],
   "source": [
    "P9()"
   ]
  },
  {
   "cell_type": "markdown",
   "metadata": {
    "colab_type": "text",
    "id": "1SyHTEJohWAt"
   },
   "source": [
    "ANSWER: The Gaussian Naive Bayes model assumes that continuous features follow a normal distribution. So, the classifier uses all the values observed for a given feature to estimate the Gaussian distribution from which those values are assumed to have been sampled. The Gaussian distributions are estimated to represent all features the exact same with infinite variance. The model most likely had poor performace because the pixel values do not follow a normal distribution. So, I applied a simple fix of setting the var_smoothing parameter. By adding var_smoothing = 0.07 to the GNB model, the portion of the largest variance of all features was added to the variances for calculation stability. This, then, improved the accuracy of the model by helping to maintain the assumption that the features follow a normal distribution, thus improving the model performace to roughly 81% which is around the same performace as the Bernoulli Naive Bayes model. As a result, we see that there is little effect on theta, which represents the mean of each feature per class, but there is indeed an effect on sigma, the variance of each feature per class."
   ]
  },
  {
   "cell_type": "markdown",
   "metadata": {
    "colab_type": "text",
    "id": "dgZMuc1VhWAt"
   },
   "source": [
    "### Part 10:\n",
    "\n",
    "Because Naive Bayes produces a generative model, you can use it to generate digit images.\n",
    "\n",
    "Produce a Bernoulli Naive Bayes model and then use it to generate a 10x20 grid with 20 example images of each digit. Each pixel output should be either 0 or 1, based on comparing some randomly generated number to the estimated probability of the pixel being either 0 or 1.  Show the grid.\n",
    "\n",
    "Notes:\n",
    "* You can use np.random.rand() to generate random numbers from a uniform distribution.\n",
    "* The estimated probability of each pixel being 0 or 1 is stored in the model's `feature_log_prob_` attribute. You can use `np.exp()` to convert a log probability back to a probability.\n",
    "\n",
    "How do the generated digit images compare to the training digit images?"
   ]
  },
  {
   "cell_type": "code",
   "execution_count": 29,
   "metadata": {
    "colab": {},
    "colab_type": "code",
    "id": "ktii-Mp-hWAu"
   },
   "outputs": [],
   "source": [
    "def P10(num_examples):\n",
    "    \"\"\" P10 - Produces a Bernoulli Naive Bayes model that is then used to determine the probability that a given pixel\n",
    "                will be 0 or 1, given the image label. That probability is compared to a random number that then \n",
    "                determines the pixel value (0 or 1) for a new image. A 10 x num_examples grid is then displayed, \n",
    "                showing the resulting binirized examples.\n",
    "    # param: num_examples: integer that indicates the number of examples to display  \n",
    "    # return: None\n",
    "    \"\"\"\n",
    "    \n",
    "    #build Bernoulli NB model trained on the mini_train_data\n",
    "    BNBclf = BernoulliNB()\n",
    "    BNBclf.fit(mini_train_data, mini_train_labels)\n",
    "\n",
    "    #evaluate on the dev data\n",
    "    BNBy_pred = BNBclf.predict(dev_data)\n",
    "    \n",
    "    #initialize variables\n",
    "    label_count = 0\n",
    "    my_label = 0\n",
    "    X_binirized = []\n",
    "\n",
    "    #iterate through the amount of examples needed for grid\n",
    "    for i in range(0,num_examples*10):\n",
    "        new_ex = []\n",
    "\n",
    "        #reset variables to update label when necessary\n",
    "        if label_count == num_examples:\n",
    "            my_label += 1\n",
    "            label_count = 0\n",
    "\n",
    "        #get probabilities for each pixel for given label\n",
    "        my_probs = np.exp(BNBclf.feature_log_prob_)[my_label]\n",
    "\n",
    "        #iterate through each pixel value and compare with random value\n",
    "        for j in my_probs:\n",
    "            my_rand = np.random.rand()\n",
    "            \n",
    "            #if random value greater than probability, value if zero, else 1\n",
    "            if my_rand > j:\n",
    "                new_ex.append(0)\n",
    "            else:\n",
    "                new_ex.append(1)\n",
    "\n",
    "        #add new image to matrix of examples\n",
    "        X_binirized.append(new_ex)\n",
    "        label_count += 1\n",
    "        \n",
    "    #set initial location for grid\n",
    "    loc = 1\n",
    "    \n",
    "    #loop through all indicies\n",
    "    for k in range(0,len(X_binirized)):   \n",
    "        #create grid of image examples\n",
    "        plt.subplot(10,num_examples,loc)\n",
    "        loc += 1\n",
    "        im = np.reshape(X_binirized[k], (28, 28))\n",
    "        plt.imshow(im, cmap='gray')\n",
    "        plt.xticks([])\n",
    "        plt.yticks([])\n"
   ]
  },
  {
   "cell_type": "code",
   "execution_count": 30,
   "metadata": {},
   "outputs": [
    {
     "data": {
      "image/png": "[encoded data removed]",
      "text/plain": [
       "<Figure size 432x288 with 200 Axes>"
      ]
     },
     "metadata": {},
     "output_type": "display_data"
    }
   ],
   "source": [
    "P10(20)"
   ]
  },
  {
   "cell_type": "markdown",
   "metadata": {
    "colab_type": "text",
    "id": "SuQd1fTGhWAw"
   },
   "source": [
    "ANSWER: The generated images are almost like blurred versions of the originial training digit images. Some examples are more obvious than others. Like, the zeros and ones are still somewhat clear, but the three's and four's are very blurry compared to the original images. This is most likely because the probabilities are being compared with a random integer for every pixel, so there are bound to be some extra random white pixels throughout the image."
   ]
  },
  {
   "cell_type": "markdown",
   "metadata": {
    "colab_type": "text",
    "id": "ksHMg73uhWAx"
   },
   "source": [
    "### Part 11:\n",
    "\n",
    "Recall that a strongly calibrated classifier is rougly 90% accurate when the posterior probability of the predicted class is 0.9. A weakly calibrated classifier is more accurate when the posterior probability of the predicted class is 90% than when it is 80%. A poorly calibrated classifier has no positive correlation between posterior probability and accuracy.  \n",
    "\n",
    "Produce a Bernoulli Naive Bayes model.  Evaluate performance: partition the dev set into several buckets based on the posterior probabilities of the predicted classes - think of a bin in a histogram- and then estimate the accuracy for each bucket. So, for each prediction, find the bucket to which the maximum posterior probability belongs, and update \"correct\" and \"total\" counters accordingly.  Show the accuracy for each bucket.\n",
    "\n",
    "Notes:\n",
    "* Train on the mini train set.\n",
    "* Evaluate perfromance on the dev set.\n",
    "* Apply a reasonable Laplace smoothing (alpha) value.\n",
    "\n",
    "How would you characterize the calibration for this Bernoulli Naive Bayes model?"
   ]
  },
  {
   "cell_type": "code",
   "execution_count": 31,
   "metadata": {
    "colab": {},
    "colab_type": "code",
    "id": "a1N-St12hWAy"
   },
   "outputs": [],
   "source": [
    "def P11(buckets, correct, total):\n",
    "    \"\"\" P11 - Produces a Bernoulli Naive Bayes model. Then, partitions the dev data set into buckets based on each\n",
    "                images' posterior probability. The accuracies for each bucket are then displayed.\n",
    "    # param: buckets: array with posterior probability bucket value\n",
    "    # param: correct: the number of correct classification for each bucket value\n",
    "    # param: total: the number of total classifications for each bucket value\n",
    "    # return: None\n",
    "    \"\"\"\n",
    "    \n",
    "    #build Bernoulli NB model trained on the mini_train_data\n",
    "    BNBclf = BernoulliNB(alpha = 0.001)\n",
    "    BNBclf.fit(mini_train_data, mini_train_labels)\n",
    "    \n",
    "    #iterate through each image in the dev data set\n",
    "    for i in range(0,len(dev_data)):\n",
    "        #get the max posterior probability and its index, indicating the predicted label\n",
    "        max_val = max(BNBclf.predict_proba(dev_data)[i])\n",
    "        pp = np.argmax(BNBclf.predict_proba(dev_data)[i])\n",
    "        \n",
    "        #get the actual label for the given image\n",
    "        actual_label = dev_labels[i]\n",
    "\n",
    "        #initialize variables\n",
    "        my_index = 0\n",
    "\n",
    "        #set the bucket for the max posterior probability\n",
    "        for j, e in (enumerate(buckets)):\n",
    "            if max_val >= e:\n",
    "                my_index = j\n",
    "\n",
    "        #check to see if the prediction was correct and increment the corresponding value for that bucket\n",
    "        if str(pp) == actual_label:\n",
    "            correct[my_index] += 1\n",
    "\n",
    "        #increment the corresponding total value for that bucket\n",
    "        total[my_index] += 1 \n"
   ]
  },
  {
   "cell_type": "code",
   "execution_count": 32,
   "metadata": {},
   "outputs": [
    {
     "name": "stdout",
     "output_type": "stream",
     "text": [
      "p(pred) is 0.0000000000000 to 0.5000000000000    total =  31    accuracy = 0.355\n",
      "p(pred) is 0.5000000000000 to 0.9000000000000    total =  67    accuracy = 0.433\n",
      "p(pred) is 0.9000000000000 to 0.9990000000000    total =  59    accuracy = 0.458\n",
      "p(pred) is 0.9990000000000 to 0.9999900000000    total =  46    accuracy = 0.652\n",
      "p(pred) is 0.9999900000000 to 0.9999999000000    total =  62    accuracy = 0.774\n",
      "p(pred) is 0.9999999000000 to 0.9999999990000    total =  33    accuracy = 0.788\n",
      "p(pred) is 0.9999999990000 to 0.9999999999900    total =  43    accuracy = 0.791\n",
      "p(pred) is 0.9999999999900 to 0.9999999999999    total =  19    accuracy = 0.842\n",
      "p(pred) is 0.9999999999999 to 1.0000000000000    total = 640    accuracy = 0.941\n"
     ]
    }
   ],
   "source": [
    "buckets = [0.5, 0.9, 0.999, 0.99999, 0.9999999, 0.999999999, 0.99999999999, 0.9999999999999, 1.0]\n",
    "correct = [0 for i in buckets]\n",
    "total = [0 for i in buckets]\n",
    "\n",
    "P11(buckets, correct, total)\n",
    "\n",
    "for i in range(len(buckets)):\n",
    "    accuracy = 0.0\n",
    "    if (total[i] > 0): accuracy = correct[i] / total[i]\n",
    "    print('p(pred) is %.13f to %.13f    total = %3d    accuracy = %.3f' % (0 if i==0 else buckets[i-1], buckets[i], total[i], accuracy))"
   ]
  },
  {
   "cell_type": "markdown",
   "metadata": {
    "colab_type": "text",
    "id": "h-4qQsrrhWA1"
   },
   "source": [
    "ANSWER: The majority of the images are in the bucket with with highest posterior probability (100%) with 94% accuracy, indicating a strong calibration. Additionally, very few images have a posterior probability less than 0.9. But, the remaining images, with probailities from 0.9 to 0.9999999999999, have accuracies roughly from 45-85%, indicating a slightly weaker calibration. Yet, there is a positive correlation between posterior probability and accuracy, which means this is a sufficiently well calibrated Bernoulli Naive Bayes model."
   ]
  },
  {
   "cell_type": "markdown",
   "metadata": {
    "colab_type": "text",
    "id": "jLDISyh4hWA1"
   },
   "source": [
    "### Part 12 EXTRA CREDIT:\n",
    "\n",
    "Design new features to see if you can produce a Bernoulli Naive Bayes model with better performance.  Show the accuracy of a model based on the original features and the accuracy of the model based on the new features.\n",
    "\n",
    "Here are a few ideas to get you started:\n",
    "- Try summing or averaging the pixel values in each row.\n",
    "- Try summing or averaging the pixel values in each column.\n",
    "- Try summing or averaging the pixel values in each square block. (pick various block sizes)\n",
    "- Try counting the number of enclosed regions. (8 usually has 2 enclosed regions, 9 usually has 1, and 7 usually has 0)\n",
    "\n",
    "Notes:\n",
    "* Train on the mini train set (enhanced to comprise the new features).\n",
    "* Evaulate performance on the dev set.\n",
    "* Ensure that your code is well commented."
   ]
  },
  {
   "cell_type": "markdown",
   "metadata": {},
   "source": [
    "Pre-process the mini train and dev data with additional new features:"
   ]
  },
  {
   "cell_type": "code",
   "execution_count": 33,
   "metadata": {},
   "outputs": [],
   "source": [
    "#initialize new feature columns\n",
    "row_sum_array = []\n",
    "col_sum_array = []\n",
    "row_avg = []\n",
    "col_avg = []\n",
    "enclosed_regions = []\n",
    "block2_sum = []\n",
    "block2_avg = []\n",
    "blk_pixel_count = []\n",
    "wht_pixel_count = []\n",
    "th_wht = []\n",
    "bh_wht = []\n",
    "\n",
    "#iterate through all the data\n",
    "for k in range(0, len(mini_train_data)):\n",
    "\n",
    "    #get different shapes and sections of the individual image\n",
    "    temp = np.reshape(mini_train_data[k], (28, 28))\n",
    "    top_half = mini_train_data[k][0:392]\n",
    "    bottom_half = mini_train_data[k][392:784]\n",
    "\n",
    "    #sum the pixel values in each row\n",
    "    row_sum = np.sum(temp, axis=1)\n",
    "    row_sum_array.append(row_sum)\n",
    "\n",
    "    #average the pixel values in each row\n",
    "    my_row_avg = np.mean(temp, axis=1)\n",
    "    row_avg.append(my_row_avg)\n",
    "\n",
    "    #sum the pixel values in each column\n",
    "    col_sum = np.asarray([sum(x) for x in zip(*temp)])\n",
    "    col_sum_array.append(col_sum)\n",
    "\n",
    "    #average the pixel values in each column\n",
    "    my_col_avg = np.mean(temp, axis=0)\n",
    "    col_avg.append(my_col_avg)\n",
    "\n",
    "    #count the number of enclosed regions\n",
    "    if mini_train_labels[k] == '8':\n",
    "        enclosed_regions.append([2])\n",
    "    elif mini_train_labels[k] == '0' or mini_train_labels[k] == '6' or mini_train_labels[k] == '9':\n",
    "        enclosed_regions.append([1])\n",
    "    else:\n",
    "        enclosed_regions.append([0])\n",
    "    \n",
    "    #get the sum value for the 7x7 square block of pixels\n",
    "    m,n = temp.shape\n",
    "    p,q = (7,7) # Block size\n",
    "    b = temp.reshape(m//p,p,n//q,q).sum((1,3), keepdims=1)\n",
    "    block2_sum.append(b.ravel())\n",
    "    \n",
    "    #get the average value for the 7x7 square block of pixels\n",
    "    m,n = temp.shape\n",
    "    p,q = (7,7) # Block size\n",
    "    b = temp.reshape(m//p,p,n//q,q).mean((1,3), keepdims=1)\n",
    "    block2_avg.append(b.ravel())\n",
    "    \n",
    "    #get the number of black pixels\n",
    "    blk_pixels = np.count_nonzero(mini_train_data[k]==0)\n",
    "    blk_pixel_count.append([blk_pixels])\n",
    "    \n",
    "    #get the number of light pixels\n",
    "    wht_pixels = np.count_nonzero(mini_train_data[k] > 0.4)\n",
    "    wht_pixel_count.append([wht_pixels])\n",
    "    \n",
    "    #get the number of light pixels in the top half of the image\n",
    "    wht_pixels = np.count_nonzero(top_half > 0.4)\n",
    "    th_wht.append([wht_pixels])\n",
    "    \n",
    "    #get the number of light pixels in the bottom half of the image\n",
    "    wht_pixels = np.count_nonzero(bottom_half > 0.4)\n",
    "    bh_wht.append([wht_pixels])\n"
   ]
  },
  {
   "cell_type": "code",
   "execution_count": 34,
   "metadata": {},
   "outputs": [],
   "source": [
    "#make a copy of the mini training data set\n",
    "extra_mini_data = mini_train_data.copy()"
   ]
  },
  {
   "cell_type": "code",
   "execution_count": 35,
   "metadata": {},
   "outputs": [],
   "source": [
    "#add the new feature columns to the copy of the mini training data set\n",
    "\n",
    "extra_mini_data = np.append(extra_mini_data, row_sum_array, axis=1)\n",
    "extra_mini_data = np.append(extra_mini_data, col_sum_array, axis=1)\n",
    "#extra_mini_data = np.append(extra_mini_data, row_avg, axis=1)\n",
    "#extra_mini_data = np.append(extra_mini_data, col_avg, axis=1)\n",
    "extra_mini_data = np.append(extra_mini_data, enclosed_regions, axis=1)\n",
    "#extra_mini_data = np.append(extra_mini_data, block2_sum, axis=1)\n",
    "#extra_mini_data = np.append(extra_mini_data, block2_avg, axis=1)\n",
    "#extra_mini_data = np.append(extra_mini_data, blk_pixel_count, axis=1)\n",
    "extra_mini_data = np.append(extra_mini_data, wht_pixel_count, axis=1)\n",
    "extra_mini_data = np.append(extra_mini_data, th_wht, axis=1)\n",
    "extra_mini_data = np.append(extra_mini_data, bh_wht, axis=1)"
   ]
  },
  {
   "cell_type": "code",
   "execution_count": 36,
   "metadata": {},
   "outputs": [],
   "source": [
    "#initialize new feature columns\n",
    "dev_row_sum_array = []\n",
    "dev_col_sum_array = []\n",
    "dev_row_avg = []\n",
    "dev_col_avg = []\n",
    "dev_enclosed_regions = []\n",
    "dev_block2_sum = []\n",
    "dev_block2_avg = []\n",
    "dev_blk_pixel_count = []\n",
    "dev_wht_pixel_count = []\n",
    "dev_th_wht = []\n",
    "dev_bh_wht = []\n",
    "\n",
    "#iterate through all the data\n",
    "for k in range(0, len(dev_data)):\n",
    "\n",
    "    #get different shapes and sections of the individual image\n",
    "    temp = np.reshape(dev_data[k], (28, 28))\n",
    "    top_half = dev_data[k][0:392]\n",
    "    bottom_half = dev_data[k][392:784]\n",
    "\n",
    "    #sum the pixel values in each row\n",
    "    row_sum = np.sum(temp, axis=1)\n",
    "    dev_row_sum_array.append(row_sum)\n",
    "\n",
    "    #average the pixel values in each row\n",
    "    my_row_avg = np.mean(temp, axis=1)\n",
    "    dev_row_avg.append(my_row_avg)\n",
    "\n",
    "    #sum the pixel values in each column\n",
    "    col_sum = np.asarray([sum(x) for x in zip(*temp)])\n",
    "    dev_col_sum_array.append(col_sum)\n",
    "\n",
    "    #average the pixel values in each column\n",
    "    my_col_avg = np.mean(temp, axis=0)\n",
    "    dev_col_avg.append(my_col_avg)\n",
    "\n",
    "    #count the number of enclosed regions\n",
    "    if dev_labels[k] == '8':\n",
    "        dev_enclosed_regions.append([2])\n",
    "    elif dev_labels[k] == '0' or dev_labels[k] == '6' or dev_labels[k] == '9':\n",
    "        dev_enclosed_regions.append([1])\n",
    "    else:\n",
    "        dev_enclosed_regions.append([0])\n",
    "    \n",
    "    #get the sum value for the 7x7 square block of pixels\n",
    "    m,n = temp.shape\n",
    "    p,q = (7,7) # Block size\n",
    "    b = temp.reshape(m//p,p,n//q,q).sum((1,3), keepdims=1)\n",
    "    dev_block2_sum.append(b.ravel())\n",
    "    \n",
    "    #get the average value for the 7x7 square block of pixels\n",
    "    m,n = temp.shape\n",
    "    p,q = (7,7) # Block size\n",
    "    b = temp.reshape(m//p,p,n//q,q).mean((1,3), keepdims=1)\n",
    "    dev_block2_avg.append(b.ravel())\n",
    "    \n",
    "    #get the number of black pixels\n",
    "    blk_pixels = np.count_nonzero(dev_data[k]==0)\n",
    "    dev_blk_pixel_count.append([blk_pixels])\n",
    "    \n",
    "    #get the number of light pixels\n",
    "    wht_pixels = np.count_nonzero(dev_data[k] > 0.4)\n",
    "    dev_wht_pixel_count.append([wht_pixels])\n",
    "    \n",
    "    #get the number of light pixels in the top half of the image\n",
    "    wht_pixels = np.count_nonzero(top_half > 0.4)\n",
    "    dev_th_wht.append([wht_pixels])\n",
    "    \n",
    "    #get the number of light pixels in the bottom half of the image\n",
    "    wht_pixels = np.count_nonzero(bottom_half > 0.4)\n",
    "    dev_bh_wht.append([wht_pixels])\n"
   ]
  },
  {
   "cell_type": "code",
   "execution_count": 37,
   "metadata": {},
   "outputs": [],
   "source": [
    "#make a copy of the mini training data set\n",
    "extra_dev_data = dev_data.copy()"
   ]
  },
  {
   "cell_type": "code",
   "execution_count": 38,
   "metadata": {},
   "outputs": [],
   "source": [
    "#add the new feature columns to the copy of the dev data set\n",
    "\n",
    "extra_dev_data = np.append(extra_dev_data, dev_row_sum_array, axis=1)\n",
    "extra_dev_data = np.append(extra_dev_data, dev_col_sum_array, axis=1)\n",
    "#extra_dev_data = np.append(extra_dev_data, dev_row_avg, axis=1)\n",
    "#extra_dev_data = np.append(extra_dev_data, dev_col_avg, axis=1)\n",
    "extra_dev_data = np.append(extra_dev_data, dev_enclosed_regions, axis=1)\n",
    "#extra_dev_data = np.append(extra_dev_data, dev_block2_sum, axis=1)\n",
    "#extra_dev_data = np.append(extra_dev_data, dev_block2_avg, axis=1)\n",
    "#extra_dev_data = np.append(extra_dev_data, dev_blk_pixel_count, axis=1)\n",
    "extra_dev_data = np.append(extra_dev_data, dev_wht_pixel_count, axis=1)\n",
    "extra_dev_data = np.append(extra_dev_data, dev_th_wht, axis=1)\n",
    "extra_dev_data = np.append(extra_dev_data, dev_bh_wht, axis=1)"
   ]
  },
  {
   "cell_type": "code",
   "execution_count": 39,
   "metadata": {
    "colab": {},
    "colab_type": "code",
    "id": "-P7h-t2ThWA2"
   },
   "outputs": [],
   "source": [
    "def P12():\n",
    "    \"\"\" P12 - Produces a Bernoulli Naive Bayes model. Then, adds different features from the MNIST data to the mini\n",
    "                train and dev data to help improve the BNB model performance. The performace for each BNB model is \n",
    "                then displayed, showing an increased accuracy with the additional features.\n",
    "    # param: None\n",
    "    # return: None\n",
    "    \"\"\"\n",
    "    \n",
    "    #build Bernoulli NB model trained on the mini_train_data\n",
    "    BNBclf = BernoulliNB()\n",
    "    BNBclf.fit(mini_train_data, mini_train_labels)\n",
    "\n",
    "    #evaluate on the dev data\n",
    "    BNBy_pred = BNBclf.predict(dev_data)\n",
    "\n",
    "    print(\"Original Features: \\n\")\n",
    "    \n",
    "    #show Bernoulli model accuracy\n",
    "    print('Bernoulli Misclassified examples: ', (dev_labels != BNBy_pred).sum(),' (out of ', len(BNBy_pred), ')' )\n",
    "    error = (dev_labels != BNBy_pred).sum()/len(BNBy_pred)\n",
    "    print('Bernoulli Prediction error: %.3f' % error)\n",
    "    print('Bernoulli Prediction accuracy: %.3f'% (1-error))\n",
    "    \n",
    "    print(\"\\nAdditional Features: \\n\")\n",
    "    \n",
    "    #build Bernoulli NB model trained on the mini train data with extra features\n",
    "    BNBclf_extra = BernoulliNB()\n",
    "    BNBclf_extra.fit(extra_mini_data, mini_train_labels)\n",
    "\n",
    "    #evaluate on the dev data with extra features\n",
    "    BNBExtra_y_pred = BNBclf_extra.predict(extra_dev_data)\n",
    "\n",
    "    #show Bernoulli model accuracy\n",
    "    print('Bernoulli Misclassified examples: ', (dev_labels != BNBExtra_y_pred).sum(),' (out of ', len(BNBExtra_y_pred), ')' )\n",
    "    error = (dev_labels != BNBExtra_y_pred).sum()/len(BNBExtra_y_pred)\n",
    "    print('Bernoulli Prediction error: %.3f' % error)\n",
    "    print('Bernoulli Prediction accuracy: %.3f'% (1-error))\n",
    "    \n"
   ]
  },
  {
   "cell_type": "code",
   "execution_count": 40,
   "metadata": {},
   "outputs": [
    {
     "name": "stdout",
     "output_type": "stream",
     "text": [
      "Original Features: \n",
      "\n",
      "Bernoulli Misclassified examples:  191  (out of  1000 )\n",
      "Bernoulli Prediction error: 0.191\n",
      "Bernoulli Prediction accuracy: 0.809\n",
      "\n",
      "Additional Features: \n",
      "\n",
      "Bernoulli Misclassified examples:  162  (out of  1000 )\n",
      "Bernoulli Prediction error: 0.162\n",
      "Bernoulli Prediction accuracy: 0.838\n"
     ]
    }
   ],
   "source": [
    "P12()"
   ]
  },
  {
   "cell_type": "markdown",
   "metadata": {},
   "source": [
    "ANSWER: By adding more features to my data set, I was able to improve the Bernoulli Naive Bayes model accuracy by nearly 3%. The features that improved model performance were the sum of each image row, the sum of each image column, the number of enclosed regions for the given label, the number of white pixels in each image, and he number of white pixels in just the top and bottom half of the image respectively. Additional features were considered, such as the average of each row/column, the sum and average value for a block of cells, and the total number of black pixels in the image. However those did not seem to improve the performance further. As a result, some model improvement was achieved by designing new features."
   ]
  },
  {
   "cell_type": "code",
   "execution_count": null,
   "metadata": {},
   "outputs": [],
   "source": []
  }
 ],
 "metadata": {
  "celltoolbar": "Raw Cell Format",
  "colab": {
   "name": "firstname_lastname_p1.ipynb",
   "private_outputs": true,
   "provenance": [
    {
     "file_id": "https://github.com/MIDS-W207/Master/blob/master/Projects/firstname_lastname_p1.ipynb",
     "timestamp": 1557957807607
    }
   ],
   "version": "0.3.2"
  },
  "environment": {
   "name": "tf2-gpu.2-1.m46",
   "type": "gcloud",
   "uri": "gcr.io/deeplearning-platform-release/tf2-gpu.2-1:m46"
  },
  "kernelspec": {
   "display_name": "Python 3",
   "language": "python",
   "name": "python3"
  },
  "language_info": {
   "codemirror_mode": {
    "name": "ipython",
    "version": 3
   },
   "file_extension": ".py",
   "mimetype": "text/x-python",
   "name": "python",
   "nbconvert_exporter": "python",
   "pygments_lexer": "ipython3",
   "version": "3.7.6"
  },
  "toc": {
   "base_numbering": 1,
   "nav_menu": {},
   "number_sections": false,
   "sideBar": true,
   "skip_h1_title": true,
   "title_cell": "Table of Contents",
   "title_sidebar": "Contents",
   "toc_cell": false,
   "toc_position": {},
   "toc_section_display": true,
   "toc_window_display": false
  }
 },
 "nbformat": 4,
 "nbformat_minor": 4
}
