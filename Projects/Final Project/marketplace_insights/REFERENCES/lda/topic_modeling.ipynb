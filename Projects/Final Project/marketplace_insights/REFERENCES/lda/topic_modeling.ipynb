{
 "cells": [
  {
   "cell_type": "code",
   "execution_count": 31,
   "metadata": {
    "collapsed": true,
    "jupyter": {
     "outputs_hidden": true
    }
   },
   "outputs": [
    {
     "name": "stdout",
     "output_type": "stream",
     "text": [
      "Collecting package metadata (current_repodata.json): done\n",
      "Solving environment: \\ \n",
      "The environment is inconsistent, please check the package plan carefully\n",
      "The following packages are causing the inconsistency:\n",
      "\n",
      "  - defaults/linux-64::scikit-learn==0.22.1=py36hd81dba3_0\n",
      "  - defaults/linux-64::bkcharts==0.2=py36_0\n",
      "  - defaults/noarch::dask==2.14.0=py_0\n",
      "  - defaults/linux-64::pytorch==1.4.0=cuda101py36h02f0884_0\n",
      "  - defaults/linux-64::pytest-arraydiff==0.3=py36h39e3cac_0\n",
      "  - defaults/linux-64::bottleneck==1.3.2=py36heb32a55_0\n",
      "  - defaults/linux-64::pywavelets==1.1.1=py36h7b6447c_0\n",
      "  - defaults/noarch::pytest-astropy==0.8.0=py_0\n",
      "  - defaults/linux-64::numexpr==2.7.1=py36h423224d_0\n",
      "  - defaults/linux-64::h5py==2.10.0=py36h7918eee_0\n",
      "  - defaults/linux-64::numpy-base==1.18.1=py36hde5b4d6_1\n",
      "  - defaults/linux-64::patsy==0.5.1=py36_0\n",
      "  - defaults/linux-64::scikit-image==0.16.2=py36h0573a6f_0\n",
      "  - defaults/linux-64::matplotlib-base==3.1.3=py36hef1b27d_0\n",
      "  - defaults/linux-64::pytables==3.6.1=py36h71ec239_0\n",
      "  - defaults/linux-64::mkl_fft==1.0.15=py36ha843d7b_0\n",
      "  - defaults/linux-64::statsmodels==0.11.0=py36h7b6447c_0\n",
      "  - defaults/linux-64::bokeh==2.0.1=py36_0\n",
      "  - defaults/noarch::seaborn==0.10.0=py_0\n",
      "  - pytorch/linux-64::faiss-cpu==1.6.3=py36h6bb024c_0\n",
      "  - defaults/linux-64::numba==0.48.0=py36h0573a6f_0\n",
      "  - defaults/linux-64::scipy==1.4.1=py36h0b6359f_0\n",
      "  - defaults/noarch::pytest-doctestplus==0.5.0=py_0\n",
      "  - defaults/noarch::imageio==2.8.0=py_0\n",
      "  - defaults/linux-64::astropy==4.0.1.post1=py36h7b6447c_0\n",
      "  - defaults/linux-64::mkl_random==1.1.0=py36hd6b4f25_0\n",
      "  - defaults/linux-64::matplotlib==3.1.3=py36_0\n",
      "  - defaults/linux-64::pandas==1.0.3=py36h0573a6f_0\n",
      "  - defaults/linux-64::numpy==1.18.1=py36h4f9e942_0\n",
      "done\n",
      "\n",
      "## Package Plan ##\n",
      "\n",
      "  environment location: /home/ec2-user/anaconda3/envs/python3\n",
      "\n",
      "  added / updated specs:\n",
      "    - pyldavis\n",
      "\n",
      "\n",
      "The following packages will be downloaded:\n",
      "\n",
      "    package                    |            build\n",
      "    ---------------------------|-----------------\n",
      "    funcy-1.14                 |             py_0          28 KB  conda-forge\n",
      "    mkl_fft-1.1.0              |   py36h23d657b_0         144 KB\n",
      "    numpy-1.18.5               |   py36ha1c710e_0           5 KB\n",
      "    numpy-base-1.18.5          |   py36hde5b4d6_0         4.1 MB\n",
      "    openssl-1.1.1g             |       h516909a_1         2.1 MB  conda-forge\n",
      "    pyldavis-2.1.2             |             py_0          81 KB  conda-forge\n",
      "    scikit-learn-0.23.1        |   py36h423224d_0         5.1 MB\n",
      "    scipy-1.5.0                |   py36h0b6359f_0        14.4 MB\n",
      "    threadpoolctl-2.1.0        |     pyh5ca1d4c_0          15 KB  conda-forge\n",
      "    ------------------------------------------------------------\n",
      "                                           Total:        25.9 MB\n",
      "\n",
      "The following NEW packages will be INSTALLED:\n",
      "\n",
      "  funcy              conda-forge/noarch::funcy-1.14-py_0\n",
      "  pyldavis           conda-forge/noarch::pyldavis-2.1.2-py_0\n",
      "  threadpoolctl      conda-forge/noarch::threadpoolctl-2.1.0-pyh5ca1d4c_0\n",
      "\n",
      "The following packages will be UPDATED:\n",
      "\n",
      "  mkl_fft                             1.0.15-py36ha843d7b_0 --> 1.1.0-py36h23d657b_0\n",
      "  mkl_random         pkgs/main::mkl_random-1.1.0-py36hd6b4~ --> conda-forge::mkl_random-1.1.1-py36h830a2c2_0\n",
      "  numpy                               1.18.1-py36h4f9e942_0 --> 1.18.5-py36ha1c710e_0\n",
      "  numpy-base                          1.18.1-py36hde5b4d6_1 --> 1.18.5-py36hde5b4d6_0\n",
      "  openssl              pkgs/main::openssl-1.1.1g-h7b6447c_0 --> conda-forge::openssl-1.1.1g-h516909a_1\n",
      "  scikit-learn                        0.22.1-py36hd81dba3_0 --> 0.23.1-py36h423224d_0\n",
      "  scipy                                1.4.1-py36h0b6359f_0 --> 1.5.0-py36h0b6359f_0\n",
      "\n",
      "The following packages will be SUPERSEDED by a higher-priority channel:\n",
      "\n",
      "  ca-certificates    pkgs/main::ca-certificates-2020.6.24-0 --> conda-forge::ca-certificates-2020.6.20-hecda079_0\n",
      "  certifi               pkgs/main::certifi-2020.6.20-py36_0 --> conda-forge::certifi-2020.6.20-py36h9f0ad1d_0\n",
      "\n",
      "\n",
      "\n",
      "Downloading and Extracting Packages\n",
      "threadpoolctl-2.1.0  | 15 KB     | ##################################### | 100% \n",
      "openssl-1.1.1g       | 2.1 MB    | ##################################### | 100% \n",
      "scikit-learn-0.23.1  | 5.1 MB    | ##################################### | 100% \n",
      "mkl_fft-1.1.0        | 144 KB    | ##################################### | 100% \n",
      "funcy-1.14           | 28 KB     | ##################################### | 100% \n",
      "numpy-base-1.18.5    | 4.1 MB    | ##################################### | 100% \n",
      "scipy-1.5.0          | 14.4 MB   | ##################################### | 100% \n",
      "numpy-1.18.5         | 5 KB      | ##################################### | 100% \n",
      "pyldavis-2.1.2       | 81 KB     | ##################################### | 100% \n",
      "Preparing transaction: done\n",
      "Verifying transaction: done\n",
      "Executing transaction: done\n"
     ]
    }
   ],
   "source": [
    "! conda install -y -c conda-forge pyldavis"
   ]
  },
  {
   "cell_type": "code",
   "execution_count": 34,
   "metadata": {
    "collapsed": true,
    "jupyter": {
     "outputs_hidden": true
    }
   },
   "outputs": [
    {
     "name": "stdout",
     "output_type": "stream",
     "text": [
      "Collecting package metadata (current_repodata.json): done\n",
      "Solving environment: done\n",
      "\n",
      "## Package Plan ##\n",
      "\n",
      "  environment location: /home/ec2-user/anaconda3/envs/python3\n",
      "\n",
      "  added / updated specs:\n",
      "    - scipy\n",
      "\n",
      "\n",
      "The following packages will be UPDATED:\n",
      "\n",
      "  ca-certificates    conda-forge::ca-certificates-2020.6.2~ --> pkgs/main::ca-certificates-2020.6.24-0\n",
      "\n",
      "The following packages will be SUPERSEDED by a higher-priority channel:\n",
      "\n",
      "  certifi            conda-forge::certifi-2020.6.20-py36h9~ --> pkgs/main::certifi-2020.6.20-py36_0\n",
      "  openssl            conda-forge::openssl-1.1.1g-h516909a_1 --> pkgs/main::openssl-1.1.1g-h7b6447c_0\n",
      "\n",
      "\n",
      "Preparing transaction: done\n",
      "Verifying transaction: done\n",
      "Executing transaction: done\n"
     ]
    }
   ],
   "source": [
    "! conda install -y scipy"
   ]
  },
  {
   "cell_type": "code",
   "execution_count": 102,
   "metadata": {},
   "outputs": [],
   "source": [
    "import sys\n",
    "import pickle\n",
    "import dill\n",
    "import numpy as np\n",
    "import pandas as pd\n",
    "import html.parser\n",
    "import gensim\n",
    "import matplotlib.pyplot as plt\n",
    "from sklearn.model_selection import train_test_split\n",
    "from sklearn.utils import resample\n",
    "from sklearn.feature_extraction.text import CountVectorizer\n",
    "from sklearn.feature_extraction.text import TfidfVectorizer\n",
    "from sklearn.linear_model import LogisticRegression\n",
    "from sklearn.model_selection import GridSearchCV\n",
    "from sklearn.naive_bayes import MultinomialNB\n",
    "\n",
    "from tensorflow.python.keras.preprocessing.text import Tokenizer"
   ]
  },
  {
   "cell_type": "code",
   "execution_count": 3,
   "metadata": {},
   "outputs": [],
   "source": [
    "pd.set_option('display.max_colwidth', None)"
   ]
  },
  {
   "cell_type": "code",
   "execution_count": 4,
   "metadata": {},
   "outputs": [],
   "source": [
    "df = pd.read_csv(\"../data/Reviews.csv\")"
   ]
  },
  {
   "cell_type": "code",
   "execution_count": 5,
   "metadata": {},
   "outputs": [],
   "source": [
    "sys.path.insert(0, '..')\n",
    "\n",
    "%load_ext autoreload\n",
    "%autoreload 2"
   ]
  },
  {
   "cell_type": "code",
   "execution_count": 6,
   "metadata": {},
   "outputs": [],
   "source": [
    "from utils.text_processing import apply_regexes, unescape_html, remove_html_tags, remove_line_breaks, preprocess"
   ]
  },
  {
   "cell_type": "markdown",
   "metadata": {},
   "source": [
    "# Text Preprocessing"
   ]
  },
  {
   "cell_type": "code",
   "execution_count": 7,
   "metadata": {},
   "outputs": [],
   "source": [
    "df['cleaned_text'] = df['Text'] + ' ' + df['Summary']\n",
    "df['cleaned_text'].fillna(\"\", inplace=True)\n",
    "\n",
    "df['cleaned_text'] = df['cleaned_text'] \\\n",
    "    .apply(lambda x: unescape_html(remove_html_tags(remove_line_breaks(x), 'html.parser')))"
   ]
  },
  {
   "cell_type": "code",
   "execution_count": 8,
   "metadata": {},
   "outputs": [],
   "source": [
    "df['preprocessed_text'] = df['cleaned_text'].apply(preprocess)"
   ]
  },
  {
   "cell_type": "markdown",
   "metadata": {},
   "source": [
    "# Standard LDA With TFIDF "
   ]
  },
  {
   "cell_type": "code",
   "execution_count": 8,
   "metadata": {},
   "outputs": [],
   "source": [
    "tfidf_vectorizer = TfidfVectorizer()\n",
    "tfidf = tfidf_vectorizer.fit_transform(df['preprocessed_text'])"
   ]
  },
  {
   "cell_type": "code",
   "execution_count": 16,
   "metadata": {},
   "outputs": [],
   "source": [
    "from sklearn.decomposition import LatentDirichletAllocation\n",
    "\n",
    "lda = LatentDirichletAllocation(\n",
    "    n_components=10, \n",
    "    learning_method='online',\n",
    "    learning_offset=10.,\n",
    "    max_iter=10\n",
    ")\n",
    "\n",
    "lda_tfidf = lda.fit(tfidf)"
   ]
  },
  {
   "cell_type": "code",
   "execution_count": 17,
   "metadata": {},
   "outputs": [],
   "source": [
    "\n",
    "pickle.dump(lda_tfidf, open('../model/lda_tfidf.pkl', 'wb'))"
   ]
  },
  {
   "cell_type": "code",
   "execution_count": 21,
   "metadata": {},
   "outputs": [],
   "source": [
    "def get_topics(model, words, n=10):\n",
    "    for i, topic in enumerate(model.components_):\n",
    "        print(f\"Topic {i}:\")\n",
    "        print()\n",
    "        print(\" \".join(\n",
    "            [words[i] for i in topic.argsort()[: -n - 1: -1]]))\n",
    "        print('\\n')\n",
    "    print()"
   ]
  },
  {
   "cell_type": "code",
   "execution_count": 25,
   "metadata": {},
   "outputs": [
    {
     "name": "stdout",
     "output_type": "stream",
     "text": [
      "Topic 0:\n",
      "\n",
      "peanut butter cinnamon pretzel cooky pb cookie popchips oreo call\n",
      "\n",
      "\n",
      "Topic 1:\n",
      "\n",
      "pumpkin blood beer pup punch root soda nutty yuck flax\n",
      "\n",
      "\n",
      "Topic 2:\n",
      "\n",
      "raspberry trap stocking remembered watermelon stinky bonsai tree taffy intended\n",
      "\n",
      "\n",
      "Topic 3:\n",
      "\n",
      "dog cat food treat love pet chicken training puppy chew\n",
      "\n",
      "\n",
      "Topic 4:\n",
      "\n",
      "coffee cup bold pod keurig blend decaf smooth mountain brew\n",
      "\n",
      "\n",
      "Topic 5:\n",
      "\n",
      "sauce soup pasta noodle chicken tomato curry seasoning spicy dish\n",
      "\n",
      "\n",
      "Topic 6:\n",
      "\n",
      "great good tea like taste product flavor love one best\n",
      "\n",
      "\n",
      "Topic 7:\n",
      "\n",
      "cider gummy salsa cola addicting pas bear target salted finished\n",
      "\n",
      "\n",
      "Topic 8:\n",
      "\n",
      "jerky quaker jack beef sampler belly im jelly kcups link\n",
      "\n",
      "\n",
      "Topic 9:\n",
      "\n",
      "timely manner ride addict bomb goji dirt grapefruit tartar telling\n",
      "\n",
      "\n",
      "\n"
     ]
    }
   ],
   "source": [
    "get_topics(lda_tfidf, tfidf_vectorizer.get_feature_names())"
   ]
  },
  {
   "cell_type": "markdown",
   "metadata": {},
   "source": [
    "# Gensim Model With n-Grams"
   ]
  },
  {
   "cell_type": "code",
   "execution_count": 77,
   "metadata": {},
   "outputs": [],
   "source": [
    "from pprint import pprint\n",
    "\n",
    "import gensim\n",
    "import gensim.corpora as corpora\n",
    "from gensim.utils import simple_preprocess\n",
    "from gensim.models import CoherenceModel\n",
    "\n",
    "# import pyLDAvis\n",
    "# import pyLDAvis.gensim"
   ]
  },
  {
   "cell_type": "markdown",
   "metadata": {},
   "source": [
    "## Text Processing"
   ]
  },
  {
   "cell_type": "code",
   "execution_count": 59,
   "metadata": {},
   "outputs": [],
   "source": [
    "text = df['preprocessed_text'].tolist()\n",
    "text = [t.split(' ') for t in text]"
   ]
  },
  {
   "cell_type": "code",
   "execution_count": 60,
   "metadata": {},
   "outputs": [],
   "source": [
    "bigram = gensim.models.Phrases(text, min_count=5, threshold=80)\n",
    "trigram = gensim.models.Phrases(bigram[text], threshold=60)  \n",
    "\n",
    "bigram_mod = gensim.models.phrases.Phraser(bigram)\n",
    "trigram_mod = gensim.models.phrases.Phraser(trigram)"
   ]
  },
  {
   "cell_type": "code",
   "execution_count": 61,
   "metadata": {},
   "outputs": [
    {
     "name": "stdout",
     "output_type": "stream",
     "text": [
      "['looking', 'secret', 'ingredient', 'robitussin', 'believe', 'found', 'got', 'addition', 'root_beer', 'extract', 'ordered', 'good', 'made', 'cherry', 'soda', 'flavor', 'medicinal', 'cough_medicine']\n"
     ]
    }
   ],
   "source": [
    "# See trigram example\n",
    "print(trigram_mod[bigram_mod[text[3]]])"
   ]
  },
  {
   "cell_type": "code",
   "execution_count": 62,
   "metadata": {},
   "outputs": [],
   "source": [
    "text_trigrams = [trigram_mod[bigram_mod[review]] for review in text]"
   ]
  },
  {
   "cell_type": "markdown",
   "metadata": {},
   "source": [
    "## Creating Corpus"
   ]
  },
  {
   "cell_type": "code",
   "execution_count": 63,
   "metadata": {},
   "outputs": [
    {
     "name": "stdout",
     "output_type": "stream",
     "text": [
      "[[(0, 1), (1, 2), (2, 1), (3, 1), (4, 2), (5, 1), (6, 2), (7, 1), (8, 2), (9, 1), (10, 1), (11, 1), (12, 1), (13, 1), (14, 3), (15, 2), (16, 1), (17, 1), (18, 1), (19, 1)]]\n"
     ]
    }
   ],
   "source": [
    "# Create Dictionary\n",
    "id2word = corpora.Dictionary(text_trigrams)\n",
    "\n",
    "# Term Document Frequency\n",
    "corpus = [id2word.doc2bow(review) for review in text_trigrams]\n",
    "\n",
    "# View\n",
    "print(corpus[:1])"
   ]
  },
  {
   "cell_type": "code",
   "execution_count": 66,
   "metadata": {},
   "outputs": [
    {
     "data": {
      "text/plain": [
       "[[('appreciates', 1),\n",
       "  ('better', 2),\n",
       "  ('bought', 1),\n",
       "  ('canned', 1),\n",
       "  ('dog', 2),\n",
       "  ('finicky', 1),\n",
       "  ('food', 2),\n",
       "  ('found', 1),\n",
       "  ('good', 2),\n",
       "  ('labrador', 1),\n",
       "  ('like', 1),\n",
       "  ('look', 1),\n",
       "  ('meat', 1),\n",
       "  ('processed', 1),\n",
       "  ('product', 3),\n",
       "  ('quality', 2),\n",
       "  ('several', 1),\n",
       "  ('smell', 1),\n",
       "  ('stew', 1),\n",
       "  ('vitality', 1)]]"
      ]
     },
     "execution_count": 66,
     "metadata": {},
     "output_type": "execute_result"
    }
   ],
   "source": [
    "# Human readable format of corpus (term-frequency)\n",
    "[[(id2word[id], freq) for id, freq in cp] for cp in corpus[:1]]"
   ]
  },
  {
   "cell_type": "markdown",
   "metadata": {},
   "source": [
    "## Building Topic Model"
   ]
  },
  {
   "cell_type": "code",
   "execution_count": null,
   "metadata": {},
   "outputs": [],
   "source": [
    "lda_model = gensim.models.ldamodel.LdaModel(\n",
    "    corpus=corpus,\n",
    "    id2word=id2word,\n",
    "    num_topics=10, \n",
    "    random_state=100,\n",
    "    update_every=1,\n",
    "    chunksize=100,\n",
    "    passes=10,\n",
    "    alpha='auto',\n",
    "    per_word_topics=True\n",
    ")"
   ]
  },
  {
   "cell_type": "code",
   "execution_count": 72,
   "metadata": {},
   "outputs": [],
   "source": [
    "with open(\"../model/lda_gensim_tri_grams.model\", 'wb') as f:\n",
    "    dill.dump(lda_model, f)"
   ]
  },
  {
   "cell_type": "code",
   "execution_count": 75,
   "metadata": {},
   "outputs": [],
   "source": [
    "with open(\"../model/lda_gensim_tri_grams.model\", \"rb\") as f:\n",
    "    lda_model = dill.load(f)"
   ]
  },
  {
   "cell_type": "code",
   "execution_count": 77,
   "metadata": {},
   "outputs": [
    {
     "name": "stdout",
     "output_type": "stream",
     "text": [
      "[(0,\n",
      "  '0.077*\"good\" + 0.074*\"great\" + 0.072*\"taste\" + 0.061*\"love\" + '\n",
      "  '0.032*\"really\" + 0.025*\"little\" + 0.023*\"chocolate\" + 0.020*\"delicious\" + '\n",
      "  '0.018*\"well\" + 0.016*\"sweet\"'),\n",
      " (1,\n",
      "  '0.084*\"price\" + 0.077*\"amazon\" + 0.065*\"find\" + 0.059*\"store\" + '\n",
      "  '0.044*\"order\" + 0.025*\"item\" + 0.024*\"shipping\" + 0.021*\"per\" + '\n",
      "  '0.018*\"arrived\" + 0.017*\"case\"'),\n",
      " (2,\n",
      "  '0.029*\"food\" + 0.024*\"treat\" + 0.023*\"dog\" + 0.018*\"eat\" + 0.015*\"day\" + '\n",
      "  '0.012*\"year\" + 0.011*\"two\" + 0.011*\"sauce\" + 0.011*\"cat\" + 0.010*\"since\"'),\n",
      " (3,\n",
      "  '0.130*\"coffee\" + 0.080*\"cup\" + 0.044*\"favorite\" + 0.025*\"strong\" + '\n",
      "  '0.023*\"bean\" + 0.018*\"blend\" + 0.018*\"dark\" + 0.016*\"breakfast\" + '\n",
      "  '0.013*\"espresso\" + 0.013*\"bold\"'),\n",
      " (4,\n",
      "  '0.142*\"tea\" + 0.103*\"hot\" + 0.066*\"drink\" + 0.024*\"green\" + 0.020*\"bitter\" '\n",
      "  '+ 0.019*\"either\" + 0.017*\"honey\" + 0.014*\"cold\" + 0.014*\"morning\" + '\n",
      "  '0.013*\"stevia\"'),\n",
      " (5,\n",
      "  '0.050*\"like\" + 0.036*\"product\" + 0.035*\"one\" + 0.034*\"flavor\" + '\n",
      "  '0.022*\"would\" + 0.022*\"get\" + 0.021*\"best\" + 0.017*\"much\" + 0.015*\"time\" + '\n",
      "  '0.015*\"buy\"'),\n",
      " (6,\n",
      "  '0.037*\"make\" + 0.029*\"use\" + 0.023*\"cooky\" + 0.020*\"sugar\" + '\n",
      "  '0.019*\"oatmeal\" + 0.017*\"cookie\" + 0.017*\"protein\" + 0.016*\"water\" + '\n",
      "  '0.016*\"add\" + 0.015*\"mix\"'),\n",
      " (7,\n",
      "  '0.104*\"chip\" + 0.056*\"yummy\" + 0.036*\"raisin\" + 0.027*\"original\" + '\n",
      "  '0.027*\"son\" + 0.023*\"mouth\" + 0.019*\"smaller\" + 0.017*\"expected\" + '\n",
      "  '0.014*\"chili\" + 0.014*\"larger\"'),\n",
      " (8,\n",
      "  '0.050*\"far\" + 0.040*\"ball\" + 0.033*\"fruit\" + 0.033*\"toy\" + 0.026*\"cereal\" + '\n",
      "  '0.025*\"piece\" + 0.025*\"hair\" + 0.023*\"black\" + 0.018*\"everlasting\" + '\n",
      "  '0.015*\"close\"'),\n",
      " (9,\n",
      "  '0.083*\"bag\" + 0.074*\"box\" + 0.040*\"pack\" + 0.036*\"ordered\" + 0.034*\"fresh\" '\n",
      "  '+ 0.033*\"peanut_butter\" + 0.032*\"bar\" + 0.026*\"received\" + 0.024*\"week\" + '\n",
      "  '0.023*\"candy\"')]\n"
     ]
    }
   ],
   "source": [
    "pprint(lda_model.print_topics())\n",
    "doc_lda = lda_model[corpus]"
   ]
  },
  {
   "cell_type": "code",
   "execution_count": 75,
   "metadata": {},
   "outputs": [
    {
     "data": {
      "text/plain": [
       "0.44649299881745713"
      ]
     },
     "execution_count": 75,
     "metadata": {},
     "output_type": "execute_result"
    }
   ],
   "source": [
    "CoherenceModel(model=lda_model, texts=text_trigrams, dictionary=id2word, coherence='c_v').get_coherence()"
   ]
  },
  {
   "cell_type": "markdown",
   "metadata": {},
   "source": [
    "**TODO**: Coherence explanation"
   ]
  },
  {
   "cell_type": "markdown",
   "metadata": {},
   "source": [
    "# Gensim Mallet Model With n-Grams"
   ]
  },
  {
   "cell_type": "markdown",
   "metadata": {},
   "source": [
    "*TODO* Mallet explanation Using Same Corpus"
   ]
  },
  {
   "cell_type": "code",
   "execution_count": 79,
   "metadata": {},
   "outputs": [
    {
     "name": "stdout",
     "output_type": "stream",
     "text": [
      "2020-08-04 23:46:52.323141\n"
     ]
    }
   ],
   "source": [
    "from datetime import datetime\n",
    "print(datetime.now())"
   ]
  },
  {
   "cell_type": "markdown",
   "metadata": {},
   "source": [
    "## Building Topic Model"
   ]
  },
  {
   "cell_type": "code",
   "execution_count": 80,
   "metadata": {},
   "outputs": [],
   "source": [
    "mallet_path = 'mallet-2.0.8/bin/mallet'\n",
    "\n",
    "lda_mallet_model = gensim.models.wrappers.LdaMallet(\n",
    "    mallet_path, \n",
    "    corpus=corpus, \n",
    "    num_topics=10, \n",
    "    id2word=id2word,\n",
    ")"
   ]
  },
  {
   "cell_type": "code",
   "execution_count": 82,
   "metadata": {},
   "outputs": [
    {
     "data": {
      "text/plain": [
       "0.4922391306034511"
      ]
     },
     "execution_count": 82,
     "metadata": {},
     "output_type": "execute_result"
    }
   ],
   "source": [
    "CoherenceModel(model=lda_mallet_model, texts=text_trigrams, dictionary=id2word, coherence='c_v').get_coherence()"
   ]
  },
  {
   "cell_type": "code",
   "execution_count": 91,
   "metadata": {},
   "outputs": [
    {
     "name": "stdout",
     "output_type": "stream",
     "text": [
      "[(17,\n",
      "  '0.063*\"water\" + 0.060*\"drink\" + 0.032*\"day\" + 0.031*\"bottle\" + '\n",
      "  '0.030*\"taste\" + 0.022*\"work\" + 0.018*\"coconut\" + 0.016*\"juice\" + '\n",
      "  '0.016*\"feel\" + 0.015*\"energy\"'),\n",
      " (3,\n",
      "  '0.101*\"bag\" + 0.081*\"box\" + 0.051*\"pack\" + 0.040*\"package\" + 0.030*\"candy\" '\n",
      "  '+ 0.026*\"size\" + 0.021*\"fresh\" + 0.021*\"oz\" + 0.021*\"packaging\" + '\n",
      "  '0.021*\"ounce\"'),\n",
      " (11,\n",
      "  '0.204*\"coffee\" + 0.100*\"cup\" + 0.026*\"strong\" + 0.020*\"blend\" + 0.016*\"pod\" '\n",
      "  '+ 0.015*\"bean\" + 0.015*\"bitter\" + 0.014*\"smooth\" + 0.014*\"morning\" + '\n",
      "  '0.013*\"bold\"'),\n",
      " (5,\n",
      "  '0.248*\"good\" + 0.155*\"taste\" + 0.087*\"chocolate\" + 0.029*\"pretty\" + '\n",
      "  '0.019*\"vanilla\" + 0.018*\"dark\" + 0.014*\"tasting\" + 0.014*\"cocoa\" + '\n",
      "  '0.012*\"thing\" + 0.011*\"nice\"'),\n",
      " (13,\n",
      "  '0.027*\"time\" + 0.025*\"work\" + 0.017*\"put\" + 0.014*\"container\" + 0.014*\"top\" '\n",
      "  '+ 0.011*\"bit\" + 0.011*\"plastic\" + 0.010*\"make\" + 0.010*\"hand\" + '\n",
      "  '0.009*\"long\"'),\n",
      " (14,\n",
      "  '0.101*\"price\" + 0.061*\"amazon\" + 0.056*\"find\" + 0.056*\"store\" + 0.054*\"buy\" '\n",
      "  '+ 0.026*\"buying\" + 0.023*\"local\" + 0.022*\"expensive\" + 0.021*\"deal\" + '\n",
      "  '0.020*\"cost\"'),\n",
      " (19,\n",
      "  '0.227*\"flavor\" + 0.053*\"taste\" + 0.051*\"sweet\" + 0.029*\"favorite\" + '\n",
      "  '0.028*\"nice\" + 0.024*\"fruit\" + 0.018*\"bit\" + 0.015*\"flavored\" + '\n",
      "  '0.014*\"cinnamon\" + 0.014*\"variety\"'),\n",
      " (2,\n",
      "  '0.056*\"snack\" + 0.047*\"bar\" + 0.046*\"chip\" + 0.038*\"healthy\" + '\n",
      "  '0.036*\"calorie\" + 0.027*\"cereal\" + 0.024*\"fat\" + 0.023*\"eat\" + '\n",
      "  '0.023*\"tasty\" + 0.022*\"protein\"'),\n",
      " (16,\n",
      "  '0.040*\"bad\" + 0.040*\"review\" + 0.027*\"give\" + 0.026*\"thought\" + '\n",
      "  '0.026*\"star\" + 0.026*\"smell\" + 0.024*\"thing\" + 0.017*\"people\" + '\n",
      "  '0.015*\"bought\" + 0.012*\"tasted\"'),\n",
      " (4,\n",
      "  '0.307*\"great\" + 0.157*\"product\" + 0.060*\"love\" + 0.046*\"excellent\" + '\n",
      "  '0.033*\"quality\" + 0.020*\"easy\" + 0.019*\"recommend\" + 0.017*\"make\" + '\n",
      "  '0.015*\"highly_recommend\" + 0.013*\"fast\"')]\n"
     ]
    }
   ],
   "source": [
    "pprint(lda_mallet_model_small.show_topics(formatted=True))"
   ]
  },
  {
   "cell_type": "markdown",
   "metadata": {},
   "source": [
    "# Finding Best Number of Topics"
   ]
  },
  {
   "cell_type": "code",
   "execution_count": 242,
   "metadata": {},
   "outputs": [],
   "source": [
    "def compute_coherence_values(dictionary, corpus, texts, limit, start=2, step=2):\n",
    "    coherence_values = []\n",
    "    \n",
    "    model_list = []\n",
    "    \n",
    "    for num_topics in range(start, limit, step):\n",
    "        model = gensim.models.wrappers.LdaMallet(\n",
    "            mallet_path, \n",
    "            corpus=corpus, \n",
    "            num_topics=num_topics, \n",
    "            id2word=dictionary\n",
    "        )\n",
    "        model_list.append(model)\n",
    "        \n",
    "        coherence_model = CoherenceModel(\n",
    "            model=model, \n",
    "            texts=texts, \n",
    "            dictionary=dictionary, \n",
    "            coherence='c_v'\n",
    "        )\n",
    "        coherence_values.append(coherence_model.get_coherence())\n",
    "\n",
    "    return model_list, coherence_values"
   ]
  },
  {
   "cell_type": "markdown",
   "metadata": {},
   "source": [
    "*TODO*: Mention need to resample due to time/computation limits"
   ]
  },
  {
   "cell_type": "markdown",
   "metadata": {},
   "source": [
    "## Text Processing"
   ]
  },
  {
   "cell_type": "code",
   "execution_count": 126,
   "metadata": {},
   "outputs": [],
   "source": [
    "df_small = resample(\n",
    "    df, \n",
    "    replace=True,\n",
    "    n_samples=100000,\n",
    "    random_state=1,\n",
    "    stratify=df['Score']\n",
    ")"
   ]
  },
  {
   "cell_type": "code",
   "execution_count": 127,
   "metadata": {},
   "outputs": [],
   "source": [
    "text_small = df_small['preprocessed_text'].tolist()\n",
    "text_small = [t.split(' ') for t in text_small]"
   ]
  },
  {
   "cell_type": "code",
   "execution_count": 128,
   "metadata": {},
   "outputs": [],
   "source": [
    "bigram_small = gensim.models.Phrases(text_small, min_count=5, threshold=80)\n",
    "trigram_small = gensim.models.Phrases(bigram_small[text_small], threshold=60)  \n",
    "\n",
    "bigram_small_mod = gensim.models.phrases.Phraser(bigram_small)\n",
    "trigram_small_mod = gensim.models.phrases.Phraser(trigram_small)"
   ]
  },
  {
   "cell_type": "code",
   "execution_count": 129,
   "metadata": {},
   "outputs": [],
   "source": [
    "text_trigrams_small = [trigram_small_mod[bigram_small_mod[review]] for review in text_small]"
   ]
  },
  {
   "cell_type": "markdown",
   "metadata": {},
   "source": [
    "## Creating Corpus"
   ]
  },
  {
   "cell_type": "code",
   "execution_count": 130,
   "metadata": {},
   "outputs": [],
   "source": [
    "# Create Dictionary\n",
    "id2word_small = corpora.Dictionary(text_trigrams_small)\n",
    "\n",
    "# Term Document Frequency\n",
    "corpus_small = [id2word_small.doc2bow(review) for review in text_trigrams_small]"
   ]
  },
  {
   "cell_type": "markdown",
   "metadata": {},
   "source": [
    "## Finding Best Coherence Model"
   ]
  },
  {
   "cell_type": "code",
   "execution_count": 131,
   "metadata": {},
   "outputs": [],
   "source": [
    "model_list, coherence_values = compute_coherence_values(\n",
    "    dictionary=id2word_small, \n",
    "    corpus=corpus_small, \n",
    "    texts=text_trigrams_small, \n",
    "    start=5,\n",
    "    step=5,\n",
    "    limit=60\n",
    ")"
   ]
  },
  {
   "cell_type": "code",
   "execution_count": 146,
   "metadata": {},
   "outputs": [
    {
     "data": {
      "image/png": "[encoded data removed]",
      "text/plain": [
       "<Figure size 432x288 with 1 Axes>"
      ]
     },
     "metadata": {
      "needs_background": "light"
     },
     "output_type": "display_data"
    }
   ],
   "source": [
    "x = range(5, 60, 5)\n",
    "\n",
    "plt.plot(x, coherence_values, label=\"Coherence Score\")\n",
    "\n",
    "plt.xlabel(\"Number of Topics\")\n",
    "plt.ylabel(\"LDA Mallet Coherence Score\")\n",
    "\n",
    "plt.legend(loc='best')\n",
    "\n",
    "plt.show()"
   ]
  },
  {
   "cell_type": "code",
   "execution_count": 152,
   "metadata": {},
   "outputs": [
    {
     "name": "stdout",
     "output_type": "stream",
     "text": [
      "The best LDA model is built with 35 topics.\n"
     ]
    }
   ],
   "source": [
    "best_model = model_list[np.array(coherence_values).argmax()]\n",
    "best_num_topics = best_model.num_topics\n",
    "\n",
    "print(f'The best LDA model is built with {best_num_topics} topics.')"
   ]
  },
  {
   "cell_type": "markdown",
   "metadata": {},
   "source": [
    "# Understanding Topics For Individual Products"
   ]
  },
  {
   "cell_type": "markdown",
   "metadata": {},
   "source": [
    "*TODO*: explain for highly rated helpful reviews? "
   ]
  },
  {
   "cell_type": "markdown",
   "metadata": {},
   "source": [
    "## Adding Sentiment and Picking Product Example"
   ]
  },
  {
   "cell_type": "code",
   "execution_count": 277,
   "metadata": {},
   "outputs": [],
   "source": [
    "df.loc[df['Score'] < 3, 'sentiment'] = 0\n",
    "df.loc[df['Score'] >= 3, 'sentiment'] = 1"
   ]
  },
  {
   "cell_type": "code",
   "execution_count": 278,
   "metadata": {},
   "outputs": [
    {
     "data": {
      "text/plain": [
       "ProductId\n",
       "B000KV61FC    167\n",
       "B000KV7ZGQ    167\n",
       "B0041NYV8E    146\n",
       "B000X1Q1G8    141\n",
       "B005K4Q1YA    141\n",
       "Name: ProductId, dtype: int64"
      ]
     },
     "execution_count": 278,
     "metadata": {},
     "output_type": "execute_result"
    }
   ],
   "source": [
    "df[df['sentiment'] == 0].groupby('ProductId')['ProductId'].count().nlargest(5)"
   ]
  },
  {
   "cell_type": "code",
   "execution_count": 190,
   "metadata": {},
   "outputs": [
    {
     "data": {
      "text/plain": [
       "ProductId\n",
       "B007JFMH8M    913\n",
       "B0026RQTGE    632\n",
       "B002QWHJOU    632\n",
       "B002QWP89S    632\n",
       "B002QWP8H0    632\n",
       "Name: ProductId, dtype: int64"
      ]
     },
     "execution_count": 190,
     "metadata": {},
     "output_type": "execute_result"
    }
   ],
   "source": [
    "df.groupby('ProductId')['ProductId'].count().nlargest(5)"
   ]
  },
  {
   "cell_type": "code",
   "execution_count": 313,
   "metadata": {},
   "outputs": [],
   "source": [
    "df_product = df[df.ProductId == 'B000KV61FC']"
   ]
  },
  {
   "cell_type": "code",
   "execution_count": 314,
   "metadata": {},
   "outputs": [
    {
     "data": {
      "text/plain": [
       "Score\n",
       "5    197\n",
       "3    101\n",
       "4     91\n",
       "1     89\n",
       "2     78\n",
       "Name: Score, dtype: int64"
      ]
     },
     "execution_count": 314,
     "metadata": {},
     "output_type": "execute_result"
    }
   ],
   "source": [
    "df_product.groupby('Score')['Score'].count().nlargest(5)"
   ]
  },
  {
   "cell_type": "markdown",
   "metadata": {},
   "source": [
    "## Negative Reviews"
   ]
  },
  {
   "cell_type": "code",
   "execution_count": 279,
   "metadata": {},
   "outputs": [],
   "source": [
    "text_product_negative = df_product[df_product['sentiment'] == 0]['preprocessed_text'].tolist()\n",
    "text_product_negative = [t.split(' ') for t in text_product_negative]"
   ]
  },
  {
   "cell_type": "code",
   "execution_count": 280,
   "metadata": {},
   "outputs": [],
   "source": [
    "bigram_product_negative = gensim.models.Phrases(text_product_negative, min_count=5, threshold=80)\n",
    "trigram_product_negative = gensim.models.Phrases(bigram_product_negative[text_product_negative], threshold=60)  \n",
    "\n",
    "bigram_mod_product_negative = gensim.models.phrases.Phraser(bigram_product_negative)\n",
    "trigram_mod_product_negative = gensim.models.phrases.Phraser(trigram_product_negative)"
   ]
  },
  {
   "cell_type": "code",
   "execution_count": 281,
   "metadata": {},
   "outputs": [],
   "source": [
    "text_trigrams_product_negative = [trigram_mod_product_negative[bigram_mod_product_negative[review]] for review in text_product_negative]"
   ]
  },
  {
   "cell_type": "markdown",
   "metadata": {},
   "source": [
    "## Creating Corpus"
   ]
  },
  {
   "cell_type": "code",
   "execution_count": 282,
   "metadata": {},
   "outputs": [],
   "source": [
    "# Create Dictionary\n",
    "id2word_product_negative = corpora.Dictionary(text_trigrams_product_negative)\n",
    "\n",
    "# Term Document Frequency\n",
    "corpus_product_negative = [id2word_product_negative.doc2bow(review) for review in text_trigrams_product_negative]"
   ]
  },
  {
   "cell_type": "markdown",
   "metadata": {},
   "source": [
    "## Building Topic Model"
   ]
  },
  {
   "cell_type": "code",
   "execution_count": 283,
   "metadata": {},
   "outputs": [],
   "source": [
    "model_list_product_negative, coherence_values_product_negative = compute_coherence_values(\n",
    "    dictionary=id2word_product_negative,\n",
    "    corpus=corpus_product_negative, \n",
    "    texts=text_trigrams_product_negative, \n",
    "    start=2,\n",
    "    step=1,\n",
    "    limit=10\n",
    ")"
   ]
  },
  {
   "cell_type": "code",
   "execution_count": 284,
   "metadata": {},
   "outputs": [
    {
     "data": {
      "image/png": "[encoded data removed]",
      "text/plain": [
       "<Figure size 432x288 with 1 Axes>"
      ]
     },
     "metadata": {
      "needs_background": "light"
     },
     "output_type": "display_data"
    }
   ],
   "source": [
    "plt.plot(range(2, 10, 1), coherence_values_product_negative, label=\"Coherence Score\")\n",
    "\n",
    "plt.xlabel(\"Number of Topics\")\n",
    "plt.ylabel(\"LDA Mallet Coherence Score\")\n",
    "\n",
    "plt.legend(loc='best')\n",
    "plt.title('Finding Optimal No. Topics For Top Product')\n",
    "\n",
    "plt.show()"
   ]
  },
  {
   "cell_type": "code",
   "execution_count": 285,
   "metadata": {},
   "outputs": [
    {
     "name": "stdout",
     "output_type": "stream",
     "text": [
      "The best LDA model is built with 7 topics.\n"
     ]
    }
   ],
   "source": [
    "best_model_product_negative = model_list_product_negative[np.array(coherence_values_product_negative).argmax()]\n",
    "best_num_topics_product_negative = best_model_product_negative.num_topics\n",
    "\n",
    "print(f'The best LDA model is built with {best_num_topics_product_negative} topics.')"
   ]
  },
  {
   "cell_type": "code",
   "execution_count": 286,
   "metadata": {},
   "outputs": [
    {
     "name": "stdout",
     "output_type": "stream",
     "text": [
      "[(0,\n",
      "  '0.196*\"rope\" + 0.106*\"bottle\" + 0.053*\"minute\" + 0.049*\"chewed\" + '\n",
      "  '0.046*\"chewer\" + 0.027*\"chew\" + 0.026*\"tug\" + 0.021*\"figure\" + 0.015*\"neck\" '\n",
      "  '+ 0.015*\"item\"'),\n",
      " (1,\n",
      "  '0.184*\"treat\" + 0.039*\"play\" + 0.038*\"jug\" + 0.027*\"back\" + 0.026*\"end\" + '\n",
      "  '0.026*\"thought\" + 0.022*\"inside\" + 0.021*\"long\" + 0.021*\"put\" + '\n",
      "  '0.020*\"quickly\"'),\n",
      " (2,\n",
      "  '0.072*\"plastic\" + 0.037*\"floor\" + 0.036*\"bottom\" + 0.036*\"lab\" + '\n",
      "  '0.028*\"broke\" + 0.028*\"piece\" + 0.027*\"durable\" + 0.023*\"week\" + '\n",
      "  '0.023*\"lasted\" + 0.020*\"month_old\"'),\n",
      " (3,\n",
      "  '0.198*\"toy\" + 0.061*\"dog\" + 0.057*\"good\" + 0.057*\"great\" + 0.032*\"idea\" + '\n",
      "  '0.031*\"hour\" + 0.025*\"le\" + 0.017*\"purchased\" + 0.015*\"destroyed\" + '\n",
      "  '0.015*\"year_old\"'),\n",
      " (4,\n",
      "  '0.249*\"dog\" + 0.034*\"small\" + 0.030*\"big\" + 0.025*\"lb\" + 0.024*\"size\" + '\n",
      "  '0.022*\"mix\" + 0.018*\"smart\" + 0.017*\"large\" + 0.015*\"gave\" + 0.014*\"hold\"'),\n",
      " (5,\n",
      "  '0.089*\"food\" + 0.053*\"kibble\" + 0.051*\"time\" + 0.051*\"hard\" + '\n",
      "  '0.034*\"tug_jug\" + 0.032*\"puppy\" + 0.028*\"made\" + 0.028*\"thing\" + '\n",
      "  '0.021*\"pretty\" + 0.020*\"interested\"'),\n",
      " (6,\n",
      "  '0.120*\"toy\" + 0.058*\"rubber\" + 0.045*\"work\" + 0.043*\"love\" + 0.043*\"day\" + '\n",
      "  '0.039*\"ball\" + 0.032*\"product\" + 0.029*\"bought\" + 0.025*\"busy\" + '\n",
      "  '0.025*\"figured\"')]\n"
     ]
    }
   ],
   "source": [
    "pprint(best_model_product_negative.show_topics())"
   ]
  },
  {
   "cell_type": "markdown",
   "metadata": {},
   "source": [
    "## Positive Reviews"
   ]
  },
  {
   "cell_type": "code",
   "execution_count": 315,
   "metadata": {},
   "outputs": [],
   "source": [
    "text_product_positive = df_product[df_product['sentiment'] == 1]['preprocessed_text'].tolist()\n",
    "text_product_positive = [t.split(' ') for t in text_product_positive]"
   ]
  },
  {
   "cell_type": "code",
   "execution_count": 316,
   "metadata": {},
   "outputs": [],
   "source": [
    "bigram_product_positive = gensim.models.Phrases(text_product_positive, min_count=5, threshold=80)\n",
    "trigram_product_positive = gensim.models.Phrases(bigram_product_positive[text_product_positive], threshold=60)  \n",
    "\n",
    "bigram_mod_product_positive = gensim.models.phrases.Phraser(bigram_product_positive)\n",
    "trigram_mod_product_positive = gensim.models.phrases.Phraser(trigram_product_positive)"
   ]
  },
  {
   "cell_type": "code",
   "execution_count": 317,
   "metadata": {},
   "outputs": [],
   "source": [
    "text_trigrams_product_positive = [trigram_mod_product_positive[bigram_mod_product_positive[review]] for review in text_product_positive]"
   ]
  },
  {
   "cell_type": "markdown",
   "metadata": {},
   "source": [
    "## Creating Corpus"
   ]
  },
  {
   "cell_type": "code",
   "execution_count": 318,
   "metadata": {},
   "outputs": [],
   "source": [
    "# Create Dictionary\n",
    "id2word_product_positive = corpora.Dictionary(text_trigrams_product_positive)\n",
    "\n",
    "# Term Document Frequency\n",
    "corpus_product_positive = [id2word_product_positive.doc2bow(review) for review in text_trigrams_product_positive]"
   ]
  },
  {
   "cell_type": "markdown",
   "metadata": {},
   "source": [
    "## Building Topic Model"
   ]
  },
  {
   "cell_type": "code",
   "execution_count": 319,
   "metadata": {},
   "outputs": [],
   "source": [
    "model_list_product_positive, coherence_values_product_positive = compute_coherence_values(\n",
    "    dictionary=id2word_product_positive,\n",
    "    corpus=corpus_product_positive, \n",
    "    texts=text_trigrams_product_positive, \n",
    "    start=2,\n",
    "    step=1,\n",
    "    limit=10\n",
    ")"
   ]
  },
  {
   "cell_type": "code",
   "execution_count": 320,
   "metadata": {},
   "outputs": [
    {
     "data": {
      "image/png": "[encoded data removed]",
      "text/plain": [
       "<Figure size 432x288 with 1 Axes>"
      ]
     },
     "metadata": {
      "needs_background": "light"
     },
     "output_type": "display_data"
    }
   ],
   "source": [
    "plt.plot(range(2, 10, 1), coherence_values_product_positive, label=\"Coherence Score\")\n",
    "\n",
    "plt.xlabel(\"Number of Topics\")\n",
    "plt.ylabel(\"LDA Mallet Coherence Score\")\n",
    "\n",
    "plt.legend(loc='best')\n",
    "plt.title('Finding Optimal No. Topics For Top Product')\n",
    "\n",
    "plt.show()"
   ]
  },
  {
   "cell_type": "code",
   "execution_count": 321,
   "metadata": {},
   "outputs": [
    {
     "name": "stdout",
     "output_type": "stream",
     "text": [
      "The best LDA model is built with 2 topics.\n"
     ]
    }
   ],
   "source": [
    "best_model_product_positive = model_list_product_positive[np.array(coherence_values_product_positive).argmax()]\n",
    "best_num_topics_product_positive = best_model_product_positive.num_topics\n",
    "\n",
    "print(f'The best LDA model is built with {best_num_topics_product_positive} topics.')"
   ]
  },
  {
   "cell_type": "code",
   "execution_count": 322,
   "metadata": {},
   "outputs": [
    {
     "name": "stdout",
     "output_type": "stream",
     "text": [
      "[(0,\n",
      "  '0.052*\"dog\" + 0.041*\"rope\" + 0.039*\"food\" + 0.019*\"time\" + 0.019*\"kibble\" + '\n",
      "  '0.019*\"bottle\" + 0.011*\"small\" + 0.011*\"rubber\" + 0.010*\"size\" + '\n",
      "  '0.010*\"hard\"'),\n",
      " (1,\n",
      "  '0.096*\"toy\" + 0.048*\"treat\" + 0.037*\"dog\" + 0.031*\"love\" + 0.031*\"jug\" + '\n",
      "  '0.024*\"great\" + 0.019*\"tug\" + 0.017*\"good\" + 0.016*\"put\" + 0.016*\"play\"')]\n"
     ]
    }
   ],
   "source": [
    "pprint(best_model_product_positive.show_topics())"
   ]
  },
  {
   "cell_type": "code",
   "execution_count": null,
   "metadata": {},
   "outputs": [],
   "source": []
  },
  {
   "cell_type": "code",
   "execution_count": null,
   "metadata": {},
   "outputs": [],
   "source": []
  },
  {
   "cell_type": "code",
   "execution_count": null,
   "metadata": {},
   "outputs": [],
   "source": []
  },
  {
   "cell_type": "code",
   "execution_count": null,
   "metadata": {},
   "outputs": [],
   "source": []
  },
  {
   "cell_type": "code",
   "execution_count": null,
   "metadata": {},
   "outputs": [],
   "source": []
  },
  {
   "cell_type": "code",
   "execution_count": null,
   "metadata": {},
   "outputs": [],
   "source": []
  },
  {
   "cell_type": "code",
   "execution_count": null,
   "metadata": {},
   "outputs": [],
   "source": []
  },
  {
   "cell_type": "code",
   "execution_count": null,
   "metadata": {},
   "outputs": [],
   "source": []
  },
  {
   "cell_type": "code",
   "execution_count": null,
   "metadata": {},
   "outputs": [],
   "source": []
  },
  {
   "cell_type": "code",
   "execution_count": null,
   "metadata": {},
   "outputs": [],
   "source": []
  },
  {
   "cell_type": "code",
   "execution_count": null,
   "metadata": {},
   "outputs": [],
   "source": []
  },
  {
   "cell_type": "code",
   "execution_count": null,
   "metadata": {},
   "outputs": [],
   "source": []
  },
  {
   "cell_type": "code",
   "execution_count": null,
   "metadata": {},
   "outputs": [],
   "source": []
  },
  {
   "cell_type": "code",
   "execution_count": null,
   "metadata": {},
   "outputs": [],
   "source": []
  },
  {
   "cell_type": "code",
   "execution_count": null,
   "metadata": {},
   "outputs": [],
   "source": []
  },
  {
   "cell_type": "code",
   "execution_count": null,
   "metadata": {},
   "outputs": [],
   "source": []
  },
  {
   "cell_type": "code",
   "execution_count": null,
   "metadata": {},
   "outputs": [],
   "source": []
  },
  {
   "cell_type": "code",
   "execution_count": null,
   "metadata": {},
   "outputs": [],
   "source": []
  },
  {
   "cell_type": "code",
   "execution_count": null,
   "metadata": {},
   "outputs": [],
   "source": []
  },
  {
   "cell_type": "code",
   "execution_count": null,
   "metadata": {},
   "outputs": [],
   "source": []
  },
  {
   "cell_type": "code",
   "execution_count": null,
   "metadata": {},
   "outputs": [],
   "source": []
  },
  {
   "cell_type": "code",
   "execution_count": null,
   "metadata": {},
   "outputs": [],
   "source": []
  },
  {
   "cell_type": "code",
   "execution_count": null,
   "metadata": {},
   "outputs": [],
   "source": []
  },
  {
   "cell_type": "code",
   "execution_count": null,
   "metadata": {},
   "outputs": [],
   "source": []
  },
  {
   "cell_type": "code",
   "execution_count": null,
   "metadata": {},
   "outputs": [],
   "source": []
  },
  {
   "cell_type": "code",
   "execution_count": null,
   "metadata": {},
   "outputs": [],
   "source": []
  },
  {
   "cell_type": "code",
   "execution_count": null,
   "metadata": {},
   "outputs": [],
   "source": []
  },
  {
   "cell_type": "code",
   "execution_count": null,
   "metadata": {},
   "outputs": [],
   "source": []
  },
  {
   "cell_type": "code",
   "execution_count": null,
   "metadata": {},
   "outputs": [],
   "source": []
  },
  {
   "cell_type": "code",
   "execution_count": null,
   "metadata": {},
   "outputs": [],
   "source": []
  },
  {
   "cell_type": "code",
   "execution_count": null,
   "metadata": {},
   "outputs": [],
   "source": []
  },
  {
   "cell_type": "code",
   "execution_count": null,
   "metadata": {},
   "outputs": [],
   "source": []
  },
  {
   "cell_type": "code",
   "execution_count": null,
   "metadata": {},
   "outputs": [],
   "source": []
  },
  {
   "cell_type": "code",
   "execution_count": null,
   "metadata": {},
   "outputs": [],
   "source": []
  },
  {
   "cell_type": "code",
   "execution_count": null,
   "metadata": {},
   "outputs": [],
   "source": []
  },
  {
   "cell_type": "code",
   "execution_count": null,
   "metadata": {},
   "outputs": [],
   "source": []
  },
  {
   "cell_type": "code",
   "execution_count": null,
   "metadata": {},
   "outputs": [],
   "source": []
  },
  {
   "cell_type": "code",
   "execution_count": null,
   "metadata": {},
   "outputs": [],
   "source": []
  },
  {
   "cell_type": "code",
   "execution_count": null,
   "metadata": {},
   "outputs": [],
   "source": []
  },
  {
   "cell_type": "code",
   "execution_count": null,
   "metadata": {},
   "outputs": [],
   "source": []
  },
  {
   "cell_type": "code",
   "execution_count": null,
   "metadata": {},
   "outputs": [],
   "source": []
  }
 ],
 "metadata": {
  "kernelspec": {
   "display_name": "conda_python3",
   "language": "python",
   "name": "conda_python3"
  },
  "language_info": {
   "codemirror_mode": {
    "name": "ipython",
    "version": 3
   },
   "file_extension": ".py",
   "mimetype": "text/x-python",
   "name": "python",
   "nbconvert_exporter": "python",
   "pygments_lexer": "ipython3",
   "version": "3.6.10"
  }
 },
 "nbformat": 4,
 "nbformat_minor": 4
}
