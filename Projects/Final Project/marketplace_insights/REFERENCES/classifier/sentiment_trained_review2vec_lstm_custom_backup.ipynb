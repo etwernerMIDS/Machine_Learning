{
 "cells": [
  {
   "cell_type": "code",
   "execution_count": 49,
   "metadata": {},
   "outputs": [],
   "source": [
    "import sys\n",
    "import pickle\n",
    "import dill\n",
    "import numpy as np\n",
    "import pandas as pd\n",
    "import html.parser\n",
    "import gensim\n",
    "import matplotlib.pyplot as plt\n",
    "\n",
    "from imblearn.over_sampling import SMOTE\n",
    "\n",
    "from sklearn.model_selection import train_test_split\n",
    "from sklearn.utils import resample\n",
    "\n",
    "from keras.preprocessing.text import Tokenizer\n",
    "from keras.preprocessing.sequence import pad_sequences\n",
    "from keras.models import Sequential\n",
    "from keras.layers import Dense, Flatten, Conv1D, MaxPooling1D, Dropout, Activation, LSTM\n",
    "from keras.layers.embeddings import Embedding\n",
    "from keras.optimizers import Adam\n",
    "from keras.initializers import Constant"
   ]
  },
  {
   "cell_type": "code",
   "execution_count": 2,
   "metadata": {},
   "outputs": [],
   "source": [
    "sys.path.insert(0, '..')\n",
    "\n",
    "%load_ext autoreload\n",
    "%autoreload 2"
   ]
  },
  {
   "cell_type": "code",
   "execution_count": 4,
   "metadata": {},
   "outputs": [],
   "source": [
    "from utils.text_processing import apply_regexes, unescape_html, remove_html_tags, remove_line_breaks, preprocess"
   ]
  },
  {
   "cell_type": "code",
   "execution_count": 3,
   "metadata": {},
   "outputs": [],
   "source": [
    "pd.set_option('display.max_colwidth', None)"
   ]
  },
  {
   "cell_type": "markdown",
   "metadata": {},
   "source": [
    "# Data Loading and Preprocessing"
   ]
  },
  {
   "cell_type": "code",
   "execution_count": 5,
   "metadata": {},
   "outputs": [],
   "source": [
    "df = pd.read_csv(\"../data/Reviews.csv\")"
   ]
  },
  {
   "cell_type": "markdown",
   "metadata": {},
   "source": [
    "## Text Cleanup"
   ]
  },
  {
   "cell_type": "code",
   "execution_count": 6,
   "metadata": {},
   "outputs": [],
   "source": [
    "df['cleaned_text'] = df['Text'] + ' ' + df['Summary']\n",
    "df['cleaned_text'].fillna(\"\", inplace=True)\n",
    "\n",
    "df['cleaned_text'] = df['cleaned_text'] \\\n",
    "    .apply(lambda x: unescape_html(remove_html_tags(remove_line_breaks(x), 'html.parser')))"
   ]
  },
  {
   "cell_type": "code",
   "execution_count": 7,
   "metadata": {},
   "outputs": [],
   "source": [
    "df['preprocessed_text'] = df['cleaned_text'].apply(preprocess)"
   ]
  },
  {
   "cell_type": "code",
   "execution_count": 8,
   "metadata": {},
   "outputs": [],
   "source": [
    "df.loc[df['Score'] <= 3, 'sentiment'] = 0\n",
    "df.loc[df['Score'] > 3, 'sentiment'] = 1"
   ]
  },
  {
   "cell_type": "code",
   "execution_count": 9,
   "metadata": {},
   "outputs": [],
   "source": [
    "review2vec = gensim.models.Word2Vec.load(\"../model/review2vec.model\")"
   ]
  },
  {
   "cell_type": "markdown",
   "metadata": {},
   "source": [
    "## Word Embedding and Feature Engineering"
   ]
  },
  {
   "cell_type": "code",
   "execution_count": 11,
   "metadata": {},
   "outputs": [
    {
     "data": {
      "text/plain": [
       "[('expiration', 0.8875916004180908),\n",
       " ('date', 0.8579495549201965),\n",
       " ('expires', 0.8161500096321106),\n",
       " ('expire', 0.7890604138374329),\n",
       " ('outdated', 0.7780749797821045),\n",
       " ('exp', 0.775046169757843),\n",
       " ('expiring', 0.7295963168144226),\n",
       " ('expiry', 0.7203924059867859),\n",
       " ('stale', 0.7186417579650879),\n",
       " ('oct', 0.695559024810791)]"
      ]
     },
     "execution_count": 11,
     "metadata": {},
     "output_type": "execute_result"
    }
   ],
   "source": [
    "review2vec.wv.most_similar('expired')"
   ]
  },
  {
   "cell_type": "code",
   "execution_count": 18,
   "metadata": {},
   "outputs": [
    {
     "data": {
      "text/plain": [
       "0.81793463"
      ]
     },
     "execution_count": 18,
     "metadata": {},
     "output_type": "execute_result"
    }
   ],
   "source": [
    "review2vec.wv.similarity('taste', 'flavor')"
   ]
  },
  {
   "cell_type": "code",
   "execution_count": 20,
   "metadata": {},
   "outputs": [],
   "source": [
    "# tokenizing the reviews words\n",
    "k = 10000 # TODO: increase size\n",
    "\n",
    "tokenizer = Tokenizer(num_words=k)\n",
    "tokenizer.fit_on_texts(df['preprocessed_text'])\n",
    "\n",
    "X = tokenizer.texts_to_sequences(df['preprocessed_text'])\n",
    "\n",
    "# creating embedding matrix for directly feeding to Embedding() layer of Keras\n",
    "\n",
    "num_words = len(tokenizer.word_index) + 1\n",
    "embedding_matrix = np.zeros((num_words, 100)) # We trained review2vec with dim=100\n",
    "\n",
    "for word, i in tokenizer.word_index.items():\n",
    "    \n",
    "    if i > num_words:\n",
    "        continue\n",
    "    \n",
    "    if word in review2vec.wv.vocab:\n",
    "        embedding_vector = review2vec.wv[word]\n",
    "        embedding_matrix[i] = embedding_vector\n",
    "        \n",
    "# TODO: remove\n",
    "# for word, i in tokenizer.word_index.items():\n",
    "    \n",
    "#     if i > num_words:\n",
    "#         continue\n",
    "        \n",
    "#     embedding_vector = embeddings_index.get(word)\n",
    "    \n",
    "#     if embedding_vector is not None:\n",
    "#         embedding_matrix[i] = embedding_vector"
   ]
  },
  {
   "cell_type": "markdown",
   "metadata": {},
   "source": [
    "### Standardizing Sequence Length"
   ]
  },
  {
   "cell_type": "markdown",
   "metadata": {},
   "source": [
    "*TODO*: explain why . benefit is also for SMOTE.\n",
    "\n",
    "How to choose sequence length? "
   ]
  },
  {
   "cell_type": "code",
   "execution_count": 29,
   "metadata": {},
   "outputs": [],
   "source": [
    "num_words_per_review = df['preprocessed_text'].str.split().str.len()"
   ]
  },
  {
   "cell_type": "code",
   "execution_count": 35,
   "metadata": {},
   "outputs": [
    {
     "data": {
      "text/plain": [
       "Text(0.5, 1.0, 'Number of Words Per Review')"
      ]
     },
     "execution_count": 35,
     "metadata": {},
     "output_type": "execute_result"
    },
    {
     "data": {
      "image/png": "[encoded data removed]",
      "text/plain": [
       "<Figure size 432x288 with 1 Axes>"
      ]
     },
     "metadata": {
      "needs_background": "light"
     },
     "output_type": "display_data"
    }
   ],
   "source": [
    "plt.hist(num_words_per_review, bins=[10 * i for i in range(1, 30)])\n",
    "plt.grid(True)\n",
    "\n",
    "plt.xlabel('No. Words')\n",
    "plt.title('Number of Words Per Review')"
   ]
  },
  {
   "cell_type": "code",
   "execution_count": 36,
   "metadata": {},
   "outputs": [],
   "source": [
    "MAX_PAD_LENGTH = 80\n",
    "\n",
    "X = pad_sequences(X, maxlen=MAX_PAD_LENGTH, padding='post')\n",
    "y = df['sentiment']"
   ]
  },
  {
   "cell_type": "markdown",
   "metadata": {},
   "source": [
    "## Resampling"
   ]
  },
  {
   "cell_type": "code",
   "execution_count": 40,
   "metadata": {},
   "outputs": [],
   "source": [
    "smote = SMOTE()\n",
    "\n",
    "X_smote, y_smote = smote.fit_resample(X, y)"
   ]
  },
  {
   "cell_type": "code",
   "execution_count": 41,
   "metadata": {},
   "outputs": [],
   "source": [
    "import dill\n",
    "\n",
    "with open(\"../data/X_smote\", 'wb') as f:\n",
    "    dill.dump(X_smote, f)\n",
    "\n",
    "with open(\"../data/y_smote\", 'wb') as f:\n",
    "    dill.dump(y_smote, f)"
   ]
  },
  {
   "cell_type": "code",
   "execution_count": 43,
   "metadata": {},
   "outputs": [
    {
     "name": "stdout",
     "output_type": "stream",
     "text": [
      "Number of train samples: 532532\n",
      "Number of validation samples: 177511\n",
      "Number of test samples: 177511\n"
     ]
    }
   ],
   "source": [
    "# Resampling: Train 60%, Validation 20%, Test 20%\n",
    "\n",
    "X_train, X_valid_test, y_train, y_valid_test = train_test_split(\n",
    "    X_smote, \n",
    "    y_smote, \n",
    "    test_size=0.4, \n",
    "    random_state=1, \n",
    "    stratify=y_smote\n",
    ")\n",
    "\n",
    "X_valid, X_test, y_valid, y_test = train_test_split(\n",
    "    X_valid_test, \n",
    "    y_valid_test, \n",
    "    test_size=0.5, \n",
    "    random_state=1, \n",
    "    stratify=y_valid_test\n",
    ")\n",
    "\n",
    "print(f'Number of train samples: {len(X_train)}')\n",
    "print(f'Number of validation samples: {len(X_valid)}')\n",
    "print(f'Number of test samples: {len(X_test)}')"
   ]
  },
  {
   "cell_type": "code",
   "execution_count": null,
   "metadata": {},
   "outputs": [],
   "source": []
  },
  {
   "cell_type": "code",
   "execution_count": null,
   "metadata": {},
   "outputs": [],
   "source": []
  },
  {
   "cell_type": "markdown",
   "metadata": {},
   "source": [
    "# LSTM + Word2Vec Training"
   ]
  },
  {
   "cell_type": "code",
   "execution_count": 52,
   "metadata": {},
   "outputs": [
    {
     "name": "stdout",
     "output_type": "stream",
     "text": [
      "Model: \"sequential_4\"\n",
      "_________________________________________________________________\n",
      "Layer (type)                 Output Shape              Param #   \n",
      "=================================================================\n",
      "embedding_3 (Embedding)      (None, 80, 100)           10437600  \n",
      "_________________________________________________________________\n",
      "dropout_4 (Dropout)          (None, 80, 100)           0         \n",
      "_________________________________________________________________\n",
      "conv1d_3 (Conv1D)            (None, 76, 64)            32064     \n",
      "_________________________________________________________________\n",
      "max_pooling1d_3 (MaxPooling1 (None, 19, 64)            0         \n",
      "_________________________________________________________________\n",
      "lstm_2 (LSTM)                (None, 100)               66000     \n",
      "_________________________________________________________________\n",
      "dropout_5 (Dropout)          (None, 100)               0         \n",
      "_________________________________________________________________\n",
      "dense_2 (Dense)              (None, 1)                 101       \n",
      "=================================================================\n",
      "Total params: 10,535,765\n",
      "Trainable params: 98,165\n",
      "Non-trainable params: 10,437,600\n",
      "_________________________________________________________________\n"
     ]
    }
   ],
   "source": [
    "model_review2vec = Sequential()\n",
    "\n",
    "adam = Adam(lr=1e-3, beta_1=0.9, beta_2=0.999)\n",
    "loss = 'binary_crossentropy'\n",
    "\n",
    "embedding_layer = Embedding(\n",
    "    num_words,\n",
    "    100, # Dimension of trained review2vec\n",
    "    embeddings_initializer=Constant(embedding_matrix),\n",
    "    input_length=MAX_PAD_LENGTH,\n",
    "    trainable=False\n",
    ")\n",
    "model_review2vec.add(embedding_layer)\n",
    "model_review2vec.add(Dropout(0.2))\n",
    "\n",
    "model_review2vec.add(Conv1D(64, 5, activation='relu'))\n",
    "model_review2vec.add(MaxPooling1D(pool_size=4))\n",
    "\n",
    "model_review2vec.add(LSTM(100))\n",
    "model_review2vec.add(Dropout(0.4))\n",
    "\n",
    "model_review2vec.add(Dense(1, activation='sigmoid'))\n",
    "\n",
    "model_review2vec.compile(loss=loss, optimizer=adam, metrics=['accuracy'])\n",
    "model_review2vec.summary()"
   ]
  },
  {
   "cell_type": "code",
   "execution_count": 53,
   "metadata": {},
   "outputs": [
    {
     "name": "stdout",
     "output_type": "stream",
     "text": [
      "Train on 532532 samples, validate on 177511 samples\n",
      "Epoch 1/10\n",
      "532532/532532 [==============================] - 624s 1ms/step - loss: 0.2772 - accuracy: 0.8815 - val_loss: 0.2137 - val_accuracy: 0.9118\n",
      "Epoch 2/10\n",
      "532532/532532 [==============================] - 621s 1ms/step - loss: 0.2205 - accuracy: 0.9085 - val_loss: 0.1950 - val_accuracy: 0.9218\n",
      "Epoch 3/10\n",
      "532532/532532 [==============================] - 621s 1ms/step - loss: 0.2015 - accuracy: 0.9173 - val_loss: 0.1782 - val_accuracy: 0.9281\n",
      "Epoch 4/10\n",
      "532532/532532 [==============================] - 621s 1ms/step - loss: 0.1902 - accuracy: 0.9223 - val_loss: 0.1793 - val_accuracy: 0.9272\n",
      "Epoch 5/10\n",
      "532532/532532 [==============================] - 621s 1ms/step - loss: 0.1816 - accuracy: 0.9266 - val_loss: 0.1730 - val_accuracy: 0.9316\n",
      "Epoch 6/10\n",
      "532532/532532 [==============================] - 623s 1ms/step - loss: 0.1764 - accuracy: 0.9287 - val_loss: 0.1705 - val_accuracy: 0.9331\n",
      "Epoch 7/10\n",
      "532532/532532 [==============================] - 623s 1ms/step - loss: 0.1714 - accuracy: 0.9313 - val_loss: 0.1631 - val_accuracy: 0.9354\n",
      "Epoch 8/10\n",
      "532532/532532 [==============================] - 623s 1ms/step - loss: 0.1685 - accuracy: 0.9326 - val_loss: 0.1612 - val_accuracy: 0.9366\n",
      "Epoch 9/10\n",
      "532532/532532 [==============================] - 622s 1ms/step - loss: 0.1661 - accuracy: 0.9336 - val_loss: 0.1647 - val_accuracy: 0.9347\n",
      "Epoch 10/10\n",
      "532532/532532 [==============================] - 623s 1ms/step - loss: 0.1642 - accuracy: 0.9342 - val_loss: 0.1677 - val_accuracy: 0.9339\n"
     ]
    }
   ],
   "source": [
    "model_review2vec_history = model_review2vec.fit(\n",
    "    X_train, \n",
    "    y_train, \n",
    "    batch_size=32, \n",
    "    epochs=10, \n",
    "    validation_data=(X_valid, y_valid)\n",
    ")"
   ]
  },
  {
   "cell_type": "code",
   "execution_count": 58,
   "metadata": {},
   "outputs": [],
   "source": [
    "with open(\"../model/lstm_review2vec_history.pkl\", 'wb') as f:\n",
    "    dill.dump(model_review2vec_history, f)"
   ]
  },
  {
   "cell_type": "code",
   "execution_count": 67,
   "metadata": {},
   "outputs": [],
   "source": [
    "with open(\"../model/lstm_review2vec.pkl\", 'wb') as f:\n",
    "    dill.dump(model_review2vec, f)"
   ]
  },
  {
   "cell_type": "code",
   "execution_count": 59,
   "metadata": {},
   "outputs": [],
   "source": [
    "with open(\"../model/lstm_review2vec_history.pkl\", 'rb') as f:\n",
    "    test_history = dill.load(f)"
   ]
  },
  {
   "cell_type": "code",
   "execution_count": 62,
   "metadata": {},
   "outputs": [],
   "source": [
    "val_accuracy = model_review2vec_history.history['val_accuracy']\n",
    "val_loss = model_review2vec_history.history['val_loss']\n",
    "\n",
    "train_accuracy = model_review2vec_history.history['accuracy']\n",
    "train_loss = model_review2vec_history.history['loss']\n",
    "\n",
    "epochs = range(1, len(train_accuracy) + 1)"
   ]
  },
  {
   "cell_type": "code",
   "execution_count": 63,
   "metadata": {},
   "outputs": [
    {
     "data": {
      "image/png": "[encoded data removed]",
      "text/plain": [
       "<Figure size 432x288 with 1 Axes>"
      ]
     },
     "metadata": {
      "needs_background": "light"
     },
     "output_type": "display_data"
    }
   ],
   "source": [
    "plt.plot(epochs, train_accuracy, 'g', label='Training Accuracy')\n",
    "plt.plot(epochs, val_accuracy, 'b', label='Validation Accuracy')\n",
    "\n",
    "plt.title('Training and Validation Accuracy')\n",
    "plt.xlabel('Epochs')\n",
    "plt.ylabel('Accuracy')\n",
    "\n",
    "plt.legend()\n",
    "plt.show()"
   ]
  },
  {
   "cell_type": "code",
   "execution_count": 66,
   "metadata": {},
   "outputs": [
    {
     "data": {
      "image/png": "[encoded data removed]",
      "text/plain": [
       "<Figure size 432x288 with 1 Axes>"
      ]
     },
     "metadata": {
      "needs_background": "light"
     },
     "output_type": "display_data"
    }
   ],
   "source": [
    "plt.plot(epochs, train_loss, 'g', label='Training Loss')\n",
    "plt.plot(epochs, val_loss, 'b', label='Validation Loss')\n",
    "\n",
    "plt.title('Training and Validation Loss')\n",
    "plt.xlabel('Epochs')\n",
    "plt.ylabel('Loss')\n",
    "\n",
    "plt.legend()\n",
    "plt.show()"
   ]
  },
  {
   "cell_type": "code",
   "execution_count": 64,
   "metadata": {},
   "outputs": [
    {
     "name": "stdout",
     "output_type": "stream",
     "text": [
      "177511/177511 [==============================] - 24s 137us/step\n"
     ]
    },
    {
     "data": {
      "text/plain": [
       "[0.1674115820749521, 0.9339928030967712]"
      ]
     },
     "execution_count": 64,
     "metadata": {},
     "output_type": "execute_result"
    }
   ],
   "source": [
    "model_review2vec.evaluate(X_test, y_test)"
   ]
  },
  {
   "cell_type": "markdown",
   "metadata": {},
   "source": [
    "# LSTM + Custom Word Embedding"
   ]
  },
  {
   "cell_type": "code",
   "execution_count": 74,
   "metadata": {},
   "outputs": [
    {
     "name": "stdout",
     "output_type": "stream",
     "text": [
      "Model: \"sequential_10\"\n",
      "_________________________________________________________________\n",
      "Layer (type)                 Output Shape              Param #   \n",
      "=================================================================\n",
      "embedding_9 (Embedding)      (None, 80, 100)           10437600  \n",
      "_________________________________________________________________\n",
      "dropout_8 (Dropout)          (None, 80, 100)           0         \n",
      "_________________________________________________________________\n",
      "conv1d_5 (Conv1D)            (None, 76, 64)            32064     \n",
      "_________________________________________________________________\n",
      "max_pooling1d_5 (MaxPooling1 (None, 19, 64)            0         \n",
      "_________________________________________________________________\n",
      "lstm_4 (LSTM)                (None, 100)               66000     \n",
      "_________________________________________________________________\n",
      "dropout_9 (Dropout)          (None, 100)               0         \n",
      "_________________________________________________________________\n",
      "dense_4 (Dense)              (None, 1)                 101       \n",
      "=================================================================\n",
      "Total params: 10,535,765\n",
      "Trainable params: 10,535,765\n",
      "Non-trainable params: 0\n",
      "_________________________________________________________________\n"
     ]
    }
   ],
   "source": [
    "model_custom = Sequential()\n",
    "\n",
    "adam = Adam(lr=1e-3, beta_1=0.9, beta_2=0.999)\n",
    "loss = 'binary_crossentropy'\n",
    "\n",
    "embedding_layer_custom = Embedding(\n",
    "    num_words,\n",
    "    100,\n",
    "    input_length=MAX_PAD_LENGTH\n",
    ")\n",
    "model_custom.add(embedding_layer_custom)\n",
    "model_custom.add(Dropout(0.2))\n",
    "\n",
    "model_custom.add(Conv1D(64, 5, activation='relu'))\n",
    "model_custom.add(MaxPooling1D(pool_size=4))\n",
    "\n",
    "model_custom.add(LSTM(100))\n",
    "model_custom.add(Dropout(0.4))\n",
    "\n",
    "model_custom.add(Dense(1, activation='sigmoid'))\n",
    "\n",
    "model_custom.compile(loss=loss, optimizer=adam, metrics=['accuracy'])\n",
    "model_custom.summary()"
   ]
  },
  {
   "cell_type": "code",
   "execution_count": null,
   "metadata": {},
   "outputs": [
    {
     "name": "stderr",
     "output_type": "stream",
     "text": [
      "/home/ec2-user/anaconda3/envs/python3/lib/python3.6/site-packages/tensorflow/python/framework/indexed_slices.py:434: UserWarning: Converting sparse IndexedSlices to a dense Tensor of unknown shape. This may consume a large amount of memory.\n",
      "  \"Converting sparse IndexedSlices to a dense Tensor of unknown shape. \"\n"
     ]
    },
    {
     "name": "stdout",
     "output_type": "stream",
     "text": [
      "Train on 532532 samples, validate on 177511 samples\n",
      "Epoch 1/10\n",
      "532532/532532 [==============================] - 650s 1ms/step - loss: 0.2566 - accuracy: 0.8947 - val_loss: 0.1805 - val_accuracy: 0.9313\n",
      "Epoch 2/10\n",
      "532532/532532 [==============================] - 649s 1ms/step - loss: 0.1584 - accuracy: 0.9407 - val_loss: 0.1628 - val_accuracy: 0.9396\n",
      "Epoch 3/10\n",
      "532532/532532 [==============================] - 650s 1ms/step - loss: 0.1253 - accuracy: 0.9537 - val_loss: 0.1575 - val_accuracy: 0.9421\n",
      "Epoch 4/10\n",
      "532532/532532 [==============================] - 647s 1ms/step - loss: 0.1063 - accuracy: 0.9613 - val_loss: 0.1625 - val_accuracy: 0.9429\n",
      "Epoch 5/10\n",
      "532532/532532 [==============================] - 646s 1ms/step - loss: 0.0931 - accuracy: 0.9662 - val_loss: 0.1724 - val_accuracy: 0.9432\n",
      "Epoch 6/10\n",
      "532532/532532 [==============================] - 647s 1ms/step - loss: 0.0839 - accuracy: 0.9697 - val_loss: 0.1896 - val_accuracy: 0.9399\n",
      "Epoch 7/10\n",
      "532532/532532 [==============================] - 649s 1ms/step - loss: 0.0764 - accuracy: 0.9727 - val_loss: 0.1856 - val_accuracy: 0.9428\n",
      "Epoch 8/10\n",
      "532532/532532 [==============================] - 650s 1ms/step - loss: 0.0711 - accuracy: 0.9748 - val_loss: 0.1836 - val_accuracy: 0.9434\n",
      "Epoch 9/10\n",
      "532532/532532 [==============================] - 648s 1ms/step - loss: 0.0666 - accuracy: 0.9762 - val_loss: 0.1865 - val_accuracy: 0.9447\n",
      "Epoch 10/10\n",
      "251872/532532 [=============>................] - ETA: 5:33 - loss: 0.0604 - accuracy: 0.9787"
     ]
    }
   ],
   "source": [
    "model_custom_history = model_custom.fit(\n",
    "    X_train, y_train, batch_size=32, \n",
    "    epochs=10, validation_data=(X_valid, y_valid))"
   ]
  },
  {
   "cell_type": "code",
   "execution_count": null,
   "metadata": {},
   "outputs": [],
   "source": [
    "with open(\"../model/lstm_custom.pkl\", 'wb') as f:\n",
    "    dill.dump(model_custom, f)"
   ]
  },
  {
   "cell_type": "code",
   "execution_count": 81,
   "metadata": {},
   "outputs": [],
   "source": [
    "with open(\"../model/lstm_custom_history.pkl\", 'wb') as f:\n",
    "    dill.dump(model_custom_history, f)"
   ]
  },
  {
   "cell_type": "code",
   "execution_count": 78,
   "metadata": {},
   "outputs": [],
   "source": [
    "val_accuracy_custom = model_custom_history.history['val_accuracy']\n",
    "val_loss_custom = model_custom_history.history['val_loss']\n",
    "\n",
    "train_accuracy_custom = model_custom_history.history['accuracy']\n",
    "train_loss_custom = model_custom_history.history['loss']\n",
    "\n",
    "epochs_custom = range(1, len(train_accuracy_custom) + 1)"
   ]
  },
  {
   "cell_type": "code",
   "execution_count": 79,
   "metadata": {},
   "outputs": [
    {
     "data": {
      "image/png": "[encoded data removed]",
      "text/plain": [
       "<Figure size 432x288 with 1 Axes>"
      ]
     },
     "metadata": {
      "needs_background": "light"
     },
     "output_type": "display_data"
    }
   ],
   "source": [
    "plt.plot(epochs_custom, train_accuracy_custom, 'g', label='Training Accuracy')\n",
    "plt.plot(epochs_custom, val_accuracy_custom, 'b', label='Validation Accuracy')\n",
    "\n",
    "plt.title('Training and Validation Accuracy')\n",
    "plt.xlabel('Epochs')\n",
    "plt.ylabel('Accuracy')\n",
    "\n",
    "plt.legend()\n",
    "plt.show()"
   ]
  },
  {
   "cell_type": "code",
   "execution_count": 80,
   "metadata": {},
   "outputs": [
    {
     "data": {
      "image/png": "[encoded data removed]",
      "text/plain": [
       "<Figure size 432x288 with 1 Axes>"
      ]
     },
     "metadata": {
      "needs_background": "light"
     },
     "output_type": "display_data"
    }
   ],
   "source": [
    "plt.plot(epochs, train_loss_custom, 'g', label='Training Loss')\n",
    "plt.plot(epochs, val_loss_custom, 'b', label='Validation Loss')\n",
    "\n",
    "plt.title('Training and Validation Loss')\n",
    "plt.xlabel('Epochs')\n",
    "plt.ylabel('Loss')\n",
    "\n",
    "plt.legend()\n",
    "plt.show()"
   ]
  },
  {
   "cell_type": "code",
   "execution_count": 77,
   "metadata": {},
   "outputs": [
    {
     "name": "stdout",
     "output_type": "stream",
     "text": [
      "177511/177511 [==============================] - 24s 137us/step\n"
     ]
    },
    {
     "data": {
      "text/plain": [
       "[0.19211047443615542, 0.9431697130203247]"
      ]
     },
     "execution_count": 77,
     "metadata": {},
     "output_type": "execute_result"
    }
   ],
   "source": [
    "model_custom.evaluate(X_test, y_test)"
   ]
  }
 ],
 "metadata": {
  "kernelspec": {
   "display_name": "conda_python3",
   "language": "python",
   "name": "conda_python3"
  },
  "language_info": {
   "codemirror_mode": {
    "name": "ipython",
    "version": 3
   },
   "file_extension": ".py",
   "mimetype": "text/x-python",
   "name": "python",
   "nbconvert_exporter": "python",
   "pygments_lexer": "ipython3",
   "version": "3.6.10"
  }
 },
 "nbformat": 4,
 "nbformat_minor": 4
}
