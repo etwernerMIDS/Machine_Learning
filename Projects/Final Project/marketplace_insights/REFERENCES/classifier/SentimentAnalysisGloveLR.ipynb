{
 "cells": [
  {
   "cell_type": "markdown",
   "metadata": {},
   "source": [
    "# Sentiment Analysis using Glove and Logistic Regression"
   ]
  },
  {
   "cell_type": "markdown",
   "metadata": {},
   "source": [
    "Citations:\n",
    "- https://medium.com/@jonathan_hui/nlp-word-embedding-glove-5e7f523999f6\n",
    "- https://towardsdatascience.com/light-on-math-ml-intuitive-guide-to-understanding-glove-embeddings-b13b4f19c010"
   ]
  },
  {
   "cell_type": "code",
   "execution_count": 24,
   "metadata": {},
   "outputs": [],
   "source": [
    "import re\n",
    "import pickle\n",
    "import pandas as pd\n",
    "import numpy as np\n",
    "import matplotlib.pyplot as plt\n",
    "from tqdm import tqdm\n",
    "import seaborn as sns\n",
    "from nltk.corpus import stopwords\n",
    "from nltk.stem import WordNetLemmatizer \n",
    "from nltk import word_tokenize\n",
    "from sklearn.model_selection import train_test_split\n",
    "from sklearn.feature_extraction.text import CountVectorizer\n",
    "from sklearn.feature_extraction.text import TfidfVectorizer\n",
    "from sklearn.linear_model import LogisticRegression\n",
    "from sklearn.model_selection import GridSearchCV\n",
    "\n",
    "%matplotlib inline"
   ]
  },
  {
   "cell_type": "code",
   "execution_count": 2,
   "metadata": {},
   "outputs": [],
   "source": [
    "embeddings_index = {}\n",
    "with open('glove/glove.6B.300d.txt', encoding=\"utf8\") as f:\n",
    "    line = f.readline()\n",
    "    while line:\n",
    "        values = line.split()\n",
    "        word = values[0]\n",
    "        try:\n",
    "           coefs = np.asarray(values[1:], dtype='float32')\n",
    "           embeddings_index[word] = coefs\n",
    "        except ValueError:\n",
    "           pass\n",
    "        line = f.readline()\n"
   ]
  },
  {
   "cell_type": "code",
   "execution_count": 3,
   "metadata": {},
   "outputs": [],
   "source": [
    "stop_words = set(stopwords.words('english'))\n",
    "lemmatizer = WordNetLemmatizer()\n",
    "\n",
    "df = pd.read_csv('../data/Reviews.csv')\n",
    "df['Text'] = df['Text'] + ' ' + df['Summary']"
   ]
  },
  {
   "cell_type": "code",
   "execution_count": 4,
   "metadata": {},
   "outputs": [],
   "source": [
    "# Delete unused columns\n",
    "del df['Id']\n",
    "del df['ProfileName']\n",
    "del df['Summary']\n",
    "del df['HelpfulnessNumerator']\n",
    "del df['HelpfulnessDenominator']\n",
    "del df['Time']\n",
    "del df['ProductId']"
   ]
  },
  {
   "cell_type": "code",
   "execution_count": 5,
   "metadata": {},
   "outputs": [
    {
     "data": {
      "text/html": [
       "<div>\n",
       "<style scoped>\n",
       "    .dataframe tbody tr th:only-of-type {\n",
       "        vertical-align: middle;\n",
       "    }\n",
       "\n",
       "    .dataframe tbody tr th {\n",
       "        vertical-align: top;\n",
       "    }\n",
       "\n",
       "    .dataframe thead th {\n",
       "        text-align: right;\n",
       "    }\n",
       "</style>\n",
       "<table border=\"1\" class=\"dataframe\">\n",
       "  <thead>\n",
       "    <tr style=\"text-align: right;\">\n",
       "      <th></th>\n",
       "      <th>UserId</th>\n",
       "      <th>Score</th>\n",
       "      <th>Text</th>\n",
       "    </tr>\n",
       "  </thead>\n",
       "  <tbody>\n",
       "    <tr>\n",
       "      <th>0</th>\n",
       "      <td>A3SGXH7AUHU8GW</td>\n",
       "      <td>5</td>\n",
       "      <td>I have bought several of the Vitality canned d...</td>\n",
       "    </tr>\n",
       "    <tr>\n",
       "      <th>1</th>\n",
       "      <td>A1D87F6ZCVE5NK</td>\n",
       "      <td>1</td>\n",
       "      <td>Product arrived labeled as Jumbo Salted Peanut...</td>\n",
       "    </tr>\n",
       "    <tr>\n",
       "      <th>2</th>\n",
       "      <td>ABXLMWJIXXAIN</td>\n",
       "      <td>4</td>\n",
       "      <td>This is a confection that has been around a fe...</td>\n",
       "    </tr>\n",
       "    <tr>\n",
       "      <th>3</th>\n",
       "      <td>A395BORC6FGVXV</td>\n",
       "      <td>2</td>\n",
       "      <td>If you are looking for the secret ingredient i...</td>\n",
       "    </tr>\n",
       "    <tr>\n",
       "      <th>4</th>\n",
       "      <td>A1UQRSCLF8GW1T</td>\n",
       "      <td>5</td>\n",
       "      <td>Great taffy at a great price.  There was a wid...</td>\n",
       "    </tr>\n",
       "  </tbody>\n",
       "</table>\n",
       "</div>"
      ],
      "text/plain": [
       "           UserId  Score                                               Text\n",
       "0  A3SGXH7AUHU8GW      5  I have bought several of the Vitality canned d...\n",
       "1  A1D87F6ZCVE5NK      1  Product arrived labeled as Jumbo Salted Peanut...\n",
       "2   ABXLMWJIXXAIN      4  This is a confection that has been around a fe...\n",
       "3  A395BORC6FGVXV      2  If you are looking for the secret ingredient i...\n",
       "4  A1UQRSCLF8GW1T      5  Great taffy at a great price.  There was a wid..."
      ]
     },
     "execution_count": 5,
     "metadata": {},
     "output_type": "execute_result"
    }
   ],
   "source": [
    "df.head()"
   ]
  },
  {
   "cell_type": "code",
   "execution_count": 6,
   "metadata": {},
   "outputs": [],
   "source": [
    "df.loc[df['Score'] <= 3, 'ReviewSentiment'] = 0\n",
    "df.loc[df['Score'] > 3, 'ReviewSentiment'] = 1\n",
    "\n",
    "df['ReviewSentiment'] = df['ReviewSentiment'].astype(int)"
   ]
  },
  {
   "cell_type": "code",
   "execution_count": 7,
   "metadata": {},
   "outputs": [
    {
     "data": {
      "text/plain": [
       "UserId              0\n",
       "Score               0\n",
       "Text               27\n",
       "ReviewSentiment     0\n",
       "dtype: int64"
      ]
     },
     "execution_count": 7,
     "metadata": {},
     "output_type": "execute_result"
    }
   ],
   "source": [
    "df.isna().sum()"
   ]
  },
  {
   "cell_type": "code",
   "execution_count": 8,
   "metadata": {},
   "outputs": [],
   "source": [
    "#convert na to \"\"\n",
    "df['Text'].fillna(\"\", inplace=True)"
   ]
  },
  {
   "cell_type": "code",
   "execution_count": 9,
   "metadata": {},
   "outputs": [],
   "source": [
    "def preprocess(s):\n",
    "    # Remove html tags\n",
    "    s = re.sub('<\\S+>', '', s)\n",
    "    # Replace urls with token\n",
    "    s = re.sub(r'http:\\S+', 'url', s)\n",
    "    s = re.sub(r'https:\\S+', 'url', s)\n",
    "    \n",
    "    s = s.lower()\n",
    "    # Remove any other special characters\n",
    "    s = re.sub(r'[^a-z ]', ' ', s)\n",
    "    \n",
    "    words = s.split()\n",
    "    result = []\n",
    "    \n",
    "    # Remove stop words and lemmatize the words\n",
    "    for word in words:\n",
    "        if word in stop_words:\n",
    "            continue\n",
    "        word = lemmatizer.lemmatize(word)\n",
    "        result.append(word)\n",
    "    return ' '.join(result)\n",
    "\n",
    "df['Text'] = df['Text'].apply(preprocess)"
   ]
  },
  {
   "cell_type": "code",
   "execution_count": 10,
   "metadata": {},
   "outputs": [
    {
     "name": "stdout",
     "output_type": "stream",
     "text": [
      "Number of train samples: 454763\n",
      "Number of test samples: 113691\n"
     ]
    }
   ],
   "source": [
    "x_train, x_test, y_train, y_test = train_test_split(df['Text'], df['ReviewSentiment'], test_size=0.2, random_state=1, stratify=df['ReviewSentiment'])\n",
    "print('Number of train samples:', len(x_train))\n",
    "print('Number of test samples:', len(x_test))"
   ]
  },
  {
   "cell_type": "code",
   "execution_count": 11,
   "metadata": {},
   "outputs": [],
   "source": [
    "# Delete unused objects\n",
    "del stop_words\n",
    "del lemmatizer\n",
    "del df"
   ]
  },
  {
   "cell_type": "code",
   "execution_count": 12,
   "metadata": {},
   "outputs": [],
   "source": [
    "def doc2vec(s):\n",
    "    words = word_tokenize(s)\n",
    "    M = []\n",
    "    for w in words:\n",
    "        try:\n",
    "            M.append(embeddings_index[w])\n",
    "        except:\n",
    "            continue\n",
    "    M = np.array(M)\n",
    "    v = M.sum(axis=0)\n",
    "    if type(v) != np.ndarray:\n",
    "        return np.zeros(300)\n",
    "    return v / np.sqrt((v ** 2).sum())"
   ]
  },
  {
   "cell_type": "code",
   "execution_count": 13,
   "metadata": {},
   "outputs": [
    {
     "name": "stdout",
     "output_type": "stream",
     "text": [
      "bought several vitality canned dog food product found good quality product look like stew processed meat smell better labrador finicky appreciates product better good quality dog food\n",
      "1\n"
     ]
    }
   ],
   "source": [
    "print(x_train[0])\n",
    "print(y_train[0])"
   ]
  },
  {
   "cell_type": "code",
   "execution_count": 14,
   "metadata": {},
   "outputs": [
    {
     "name": "stderr",
     "output_type": "stream",
     "text": [
      "100%|██████████| 454763/454763 [02:48<00:00, 2693.87it/s]\n"
     ]
    }
   ],
   "source": [
    "xtrain_glove = [doc2vec(x) for x in tqdm(x_train)]"
   ]
  },
  {
   "cell_type": "code",
   "execution_count": 15,
   "metadata": {},
   "outputs": [
    {
     "name": "stderr",
     "output_type": "stream",
     "text": [
      "100%|██████████| 113691/113691 [00:42<00:00, 2649.83it/s]\n"
     ]
    }
   ],
   "source": [
    "xtest_glove = [doc2vec(x) for x in tqdm(x_test)]"
   ]
  },
  {
   "cell_type": "code",
   "execution_count": null,
   "metadata": {},
   "outputs": [],
   "source": [
    "print('Starting GridSearchCV Training...')\n",
    "lr = LogisticRegression(penalty='l2', random_state=1, solver='sag', max_iter=1000, class_weight='balanced', verbose=1)\n",
    "parameters = {'C':[2,5,8,10]}\n",
    "#lr.fit(xtrain_glove, y_train.tolist())\n",
    "grid_cv = GridSearchCV(lr, parameters)\n",
    "grid_cv.fit(xtrain_glove, y_train.tolist())\n",
    "print('GridSearchCV Training Complete.')"
   ]
  },
  {
   "cell_type": "code",
   "execution_count": null,
   "metadata": {},
   "outputs": [],
   "source": [
    "print('Accuracy on Test data:', grid_cv.score(xtest_glove, y_test))"
   ]
  },
  {
   "cell_type": "code",
   "execution_count": 23,
   "metadata": {},
   "outputs": [
    {
     "name": "stdout",
     "output_type": "stream",
     "text": [
      "Loaded GridCV Model on test data: 0.8092285229261771\n"
     ]
    }
   ],
   "source": [
    "#pickle.dump(grid_cv, open('model/lr_glove_grid_model', 'wb'))\n",
    "loaded_grid_cv = pickle.load(open('model/lr_glove_grid_model', 'rb'))\n",
    "print('Loaded GridCV Model on test data:', loaded_grid_cv.score(xtest_glove, y_test.tolist()))"
   ]
  },
  {
   "cell_type": "code",
   "execution_count": 25,
   "metadata": {},
   "outputs": [
    {
     "data": {
      "text/plain": [
       "Text(0.5, 1.0, 'C vs Mean Test Score')"
      ]
     },
     "execution_count": 25,
     "metadata": {},
     "output_type": "execute_result"
    },
    {
     "data": {
      "image/png": "[encoded data removed]",
      "text/plain": [
       "<Figure size 432x288 with 1 Axes>"
      ]
     },
     "metadata": {},
     "output_type": "display_data"
    }
   ],
   "source": [
    "sns.set_style(\"darkgrid\")\n",
    "\n",
    "C = []\n",
    "mean_acc = []\n",
    "for i, param in enumerate(loaded_grid_cv.cv_results_['params']):\n",
    "    C.append(param['C'])\n",
    "    mean_acc.append(loaded_grid_cv.cv_results_['mean_test_score'][i])\n",
    "data = pd.DataFrame({'C':C, 'MeanTestScore':mean_acc})\n",
    "\n",
    "sns.lineplot(x='C',y='MeanTestScore', data=data, ci= None).set_title('C vs Mean Test Score')"
   ]
  },
  {
   "cell_type": "code",
   "execution_count": null,
   "metadata": {},
   "outputs": [],
   "source": []
  }
 ],
 "metadata": {
  "environment": {
   "name": "tf2-2-2-gpu.2-2.m50",
   "type": "gcloud",
   "uri": "gcr.io/deeplearning-platform-release/tf2-2-2-gpu.2-2:m50"
  },
  "kernelspec": {
   "display_name": "Python 3",
   "language": "python",
   "name": "python3"
  },
  "language_info": {
   "codemirror_mode": {
    "name": "ipython",
    "version": 3
   },
   "file_extension": ".py",
   "mimetype": "text/x-python",
   "name": "python",
   "nbconvert_exporter": "python",
   "pygments_lexer": "ipython3",
   "version": "3.7.6"
  }
 },
 "nbformat": 4,
 "nbformat_minor": 4
}
