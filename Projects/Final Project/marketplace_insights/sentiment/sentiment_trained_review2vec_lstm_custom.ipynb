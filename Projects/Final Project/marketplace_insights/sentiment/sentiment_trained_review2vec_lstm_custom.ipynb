{
 "cells": [
  {
   "cell_type": "markdown",
   "metadata": {},
   "source": [
    "# Sentiment Analysis With Custom Trained Word2Vec + Deep Learning"
   ]
  },
  {
   "cell_type": "markdown",
   "metadata": {},
   "source": [
    "## Imports and Notebook Setup"
   ]
  },
  {
   "cell_type": "code",
   "execution_count": 55,
   "metadata": {},
   "outputs": [],
   "source": [
    "import sys\n",
    "import pickle\n",
    "import dill\n",
    "import numpy as np\n",
    "import pandas as pd\n",
    "import html.parser\n",
    "import gensim\n",
    "import matplotlib.pyplot as plt\n",
    "\n",
    "from imblearn.over_sampling import SMOTE\n",
    "\n",
    "from scipy import spatial\n",
    "\n",
    "from sklearn.model_selection import train_test_split\n",
    "from sklearn.utils import resample\n",
    "\n",
    "from keras.preprocessing.text import Tokenizer\n",
    "from keras.preprocessing.sequence import pad_sequences\n",
    "from keras.models import Sequential\n",
    "from keras.layers import Dense, Flatten, Conv1D, MaxPooling1D, Dropout, Activation, LSTM\n",
    "from keras.layers.embeddings import Embedding\n",
    "from keras.optimizers import Adam\n",
    "from keras.initializers import Constant"
   ]
  },
  {
   "cell_type": "code",
   "execution_count": 4,
   "metadata": {},
   "outputs": [],
   "source": [
    "sys.path.insert(0, '..')\n",
    "\n",
    "%load_ext autoreload\n",
    "%autoreload 2"
   ]
  },
  {
   "cell_type": "code",
   "execution_count": 11,
   "metadata": {},
   "outputs": [],
   "source": [
    "from utils.text_processing import apply_regexes, unescape_html, remove_html_tags, remove_line_breaks, preprocess"
   ]
  },
  {
   "cell_type": "code",
   "execution_count": 12,
   "metadata": {},
   "outputs": [],
   "source": [
    "pd.set_option('display.max_colwidth', None)"
   ]
  },
  {
   "cell_type": "markdown",
   "metadata": {},
   "source": [
    "## Loading Data"
   ]
  },
  {
   "cell_type": "code",
   "execution_count": 13,
   "metadata": {},
   "outputs": [],
   "source": [
    "df = pd.read_csv(\"../data/Reviews.csv\")"
   ]
  },
  {
   "cell_type": "markdown",
   "metadata": {},
   "source": [
    "# Introduction"
   ]
  },
  {
   "cell_type": "markdown",
   "metadata": {},
   "source": [
    "## Custom Trained Word Embeddings"
   ]
  },
  {
   "cell_type": "markdown",
   "metadata": {},
   "source": [
    "Previously, we talked about the idea of word embedding in our models in the [Sentiment Analysis Word Embedding notebook](SentimentAnalysisWordEmbedding.ipynb). Continuing our work, we can use our custom trained Word2Vec model, `review2vec`, generated in the [review2vec](../feature_engineering/review2vec.ipynb), as our main word embedding features. \n",
    "\n",
    "The benefit of this shines particularly when we consider the domain that we are working in. The type of words and their meanings used changes depending on the corpus the embeddings are trained on, and the difference in the embedded locations in the feature space can make a big impact on model performance.\n",
    "\n",
    "We can take a look at an example we gave in the [review2vec notebook](../feature_engineering/review2vec.ipynb). For food reviews, customers may have concerns about the expiry date of the food that they are ordering. Using the pre-trained GloVe model, we can see the 10 closest words in the feature space to the word `expire`. To do this, we load the GloVe data and calculate the distance between embedded words."
   ]
  },
  {
   "cell_type": "code",
   "execution_count": 49,
   "metadata": {},
   "outputs": [],
   "source": [
    "embeddings_index = {}\n",
    "with open('glove/glove.6B.300d.txt', encoding=\"utf8\") as f:\n",
    "    line = f.readline()\n",
    "    while line:\n",
    "        values = line.split()\n",
    "        word = values[0]\n",
    "        try:\n",
    "           coefs = np.asarray(values[1:], dtype='float32')\n",
    "           embeddings_index[word] = coefs\n",
    "        except ValueError:\n",
    "           pass\n",
    "        line = f.readline()"
   ]
  },
  {
   "cell_type": "code",
   "execution_count": 58,
   "metadata": {},
   "outputs": [],
   "source": [
    "def find_closest_embeddings(embedding):\n",
    "    return sorted(embeddings_index.keys(), key=lambda word: spatial.distance.euclidean(embeddings_index[word], embedding))"
   ]
  },
  {
   "cell_type": "code",
   "execution_count": 59,
   "metadata": {},
   "outputs": [
    {
     "data": {
      "text/plain": [
       "['expire',\n",
       " 'expires',\n",
       " 'expiring',\n",
       " 'expired',\n",
       " 'expiration',\n",
       " 'renew',\n",
       " 'expiry',\n",
       " 'extend',\n",
       " 'terminated',\n",
       " 'extended']"
      ]
     },
     "execution_count": 59,
     "metadata": {},
     "output_type": "execute_result"
    }
   ],
   "source": [
    "find_closest_embeddings(embeddings_index[\"expire\"])[0:10]"
   ]
  },
  {
   "cell_type": "markdown",
   "metadata": {},
   "source": [
    "Above shows the list of the 10 closest words to `expire` for the pre-trained GloVe model. We can compare that to the results we got when we trained the `review2vec` model on the review text:\n",
    "\n",
    "```\n",
    "[('expiration', 0.8689521551132202),\n",
    " ('expires', 0.8167486786842346),\n",
    " ('date', 0.8046296834945679),\n",
    " ('expired', 0.7890604734420776),\n",
    " ('expiring', 0.7793307900428772),\n",
    " ('exp', 0.7547811269760132),\n",
    " ('oct', 0.7090200185775757),\n",
    " ('august', 0.702245831489563),\n",
    " ('stale', 0.6954241991043091),\n",
    " ('expiry', 0.6935100555419922)]\n",
    " ```\n",
    " \n",
    "There is a clear difference between how the word embeddings perform across these domains. In the pre-trained model, the word `expire` is related to terms like `renew`, `extend`, and `terminated`. These may be related to things like subscription services or contracts--things that generally require renewals. \n",
    "\n",
    "However, the similar words in the custom embedding model show different ideas. For the word `expire`, instead of finding similar terms like `renew`, which doesn't make sense in the context of food, we see words like `date` and `stale`. Being able to connect these words together with a custom embedding model will help the deep learning model group similar reviews and text together."
   ]
  },
  {
   "cell_type": "markdown",
   "metadata": {},
   "source": [
    "## Handling Class Imbalance"
   ]
  },
  {
   "cell_type": "markdown",
   "metadata": {},
   "source": [
    "In addition to the vectorization of the text described above, another aspect we need to deal with is the class imbalance between reviews with positive sentiment vs. reviews with negative sentiment. With our comparison of the different sampling techniques in the [sampling notebook](../eda/sampling_and_class_balancing.ipynb) notebook, we will proceed with the SMOTE method of generating synthetic samples for our minority class. "
   ]
  },
  {
   "cell_type": "markdown",
   "metadata": {},
   "source": [
    "## Model Building\n",
    "\n",
    "For the models we're using, we'll continue using the LSTM model. We'll explore using both the pre-trained `review2vec` model as well as using custom embedding generated by the embedding layer itself.\n",
    "\n",
    "With these thoughts in mind, we proceed with our work."
   ]
  },
  {
   "cell_type": "markdown",
   "metadata": {},
   "source": [
    "# Text Cleanup"
   ]
  },
  {
   "cell_type": "code",
   "execution_count": 14,
   "metadata": {},
   "outputs": [],
   "source": [
    "df['cleaned_text'] = df['Text'] + ' ' + df['Summary']\n",
    "df['cleaned_text'].fillna(\"\", inplace=True)\n",
    "\n",
    "df['cleaned_text'] = df['cleaned_text'] \\\n",
    "    .apply(lambda x: unescape_html(remove_html_tags(remove_line_breaks(x), 'html.parser')))"
   ]
  },
  {
   "cell_type": "code",
   "execution_count": 15,
   "metadata": {},
   "outputs": [],
   "source": [
    "df['preprocessed_text'] = df['cleaned_text'].apply(preprocess)"
   ]
  },
  {
   "cell_type": "code",
   "execution_count": 16,
   "metadata": {},
   "outputs": [],
   "source": [
    "df.loc[df['Score'] <= 3, 'sentiment'] = 0\n",
    "df.loc[df['Score'] > 3, 'sentiment'] = 1"
   ]
  },
  {
   "cell_type": "markdown",
   "metadata": {},
   "source": [
    "# Word Embedding and Feature Engineering"
   ]
  },
  {
   "cell_type": "markdown",
   "metadata": {},
   "source": [
    "We load the `review2vec` model we trained and double check the examples given above."
   ]
  },
  {
   "cell_type": "code",
   "execution_count": 17,
   "metadata": {},
   "outputs": [],
   "source": [
    "review2vec = gensim.models.Word2Vec.load(\"../model/review2vec.model\")"
   ]
  },
  {
   "cell_type": "code",
   "execution_count": 18,
   "metadata": {},
   "outputs": [
    {
     "data": {
      "text/plain": [
       "[('expiration', 0.8875916004180908),\n",
       " ('date', 0.8579495549201965),\n",
       " ('expires', 0.8161500096321106),\n",
       " ('expire', 0.7890604138374329),\n",
       " ('outdated', 0.7780749797821045),\n",
       " ('exp', 0.775046169757843),\n",
       " ('expiring', 0.7295963168144226),\n",
       " ('expiry', 0.7203924059867859),\n",
       " ('stale', 0.7186417579650879),\n",
       " ('oct', 0.695559024810791)]"
      ]
     },
     "execution_count": 18,
     "metadata": {},
     "output_type": "execute_result"
    }
   ],
   "source": [
    "review2vec.wv.most_similar('expired')"
   ]
  },
  {
   "cell_type": "code",
   "execution_count": 19,
   "metadata": {},
   "outputs": [
    {
     "data": {
      "text/plain": [
       "0.81793463"
      ]
     },
     "execution_count": 19,
     "metadata": {},
     "output_type": "execute_result"
    }
   ],
   "source": [
    "review2vec.wv.similarity('taste', 'flavor')"
   ]
  },
  {
   "cell_type": "markdown",
   "metadata": {},
   "source": [
    "## Standardizing Sequence Length"
   ]
  },
  {
   "cell_type": "markdown",
   "metadata": {},
   "source": [
    "One thing we need to set is the length of our features (in particular, how many words we'll use in the review). First, we take a look at the distribution of the words in each review."
   ]
  },
  {
   "cell_type": "code",
   "execution_count": 20,
   "metadata": {},
   "outputs": [],
   "source": [
    "num_words_per_review = df['preprocessed_text'].str.split().str.len()"
   ]
  },
  {
   "cell_type": "code",
   "execution_count": 21,
   "metadata": {},
   "outputs": [
    {
     "data": {
      "text/plain": [
       "Text(0.5, 1.0, 'Number of Words Per Review')"
      ]
     },
     "execution_count": 21,
     "metadata": {},
     "output_type": "execute_result"
    },
    {
     "data": {
      "image/png": "[encoded data removed]",
      "text/plain": [
       "<Figure size 432x288 with 1 Axes>"
      ]
     },
     "metadata": {
      "needs_background": "light"
     },
     "output_type": "display_data"
    }
   ],
   "source": [
    "plt.hist(num_words_per_review, bins=[10 * i for i in range(1, 30)])\n",
    "plt.grid(True)\n",
    "\n",
    "plt.xlabel('No. Words')\n",
    "plt.title('Number of Words Per Review')"
   ]
  },
  {
   "cell_type": "markdown",
   "metadata": {},
   "source": [
    "We see that the majority of reviews are under 80 words. We'll use that as our max length."
   ]
  },
  {
   "cell_type": "code",
   "execution_count": 22,
   "metadata": {},
   "outputs": [],
   "source": [
    "MAX_SEQUENCE_LENGTH = 80"
   ]
  },
  {
   "cell_type": "markdown",
   "metadata": {},
   "source": [
    "## Splitting Training/Testing Data"
   ]
  },
  {
   "cell_type": "markdown",
   "metadata": {},
   "source": [
    "Now, we'll split our training and testing data. We give the test size 20% of the total samples. Keep in mind that we will still need to use a portion of the training data as our validation set."
   ]
  },
  {
   "cell_type": "code",
   "execution_count": 23,
   "metadata": {},
   "outputs": [],
   "source": [
    "X = df['preprocessed_text']\n",
    "y = df['sentiment']\n",
    "\n",
    "X_train, X_test, y_train, y_test = train_test_split(\n",
    "    X, \n",
    "    y, \n",
    "    test_size=0.2, \n",
    "    random_state=1, \n",
    "    stratify=y\n",
    ")"
   ]
  },
  {
   "cell_type": "markdown",
   "metadata": {},
   "source": [
    "## Featurization"
   ]
  },
  {
   "cell_type": "markdown",
   "metadata": {},
   "source": [
    "Now, we will vectorize the review text for each review. In this case, we'll take the top 10000 words in our training corpus for our tokenizer. Ideally, we'd be able to use a higher number, but unfortunately due to memory limitations we are forced to reduce the size. We can then create the embedding matrix that will be fed into the embedding layer of our model. We'll pad our sequences with the defined `MAX_SEQUENCE_LENGTH` here as well."
   ]
  },
  {
   "cell_type": "code",
   "execution_count": 63,
   "metadata": {},
   "outputs": [],
   "source": [
    "# Tokenizing the reviews words\n",
    "k = 10000\n",
    "\n",
    "tokenizer = Tokenizer(num_words=k)\n",
    "tokenizer.fit_on_texts(X_train)\n",
    "\n",
    "# Creating embedding matrix for directly feeding to Embedding() layer of Keras\n",
    "\n",
    "num_words = len(tokenizer.word_index) + 1\n",
    "embedding_matrix = np.zeros((num_words, 100)) # We trained review2vec with dim=100\n",
    "\n",
    "for word, i in tokenizer.word_index.items():\n",
    "    \n",
    "    if i > num_words:\n",
    "        continue\n",
    "    \n",
    "    if word in review2vec.wv.vocab:\n",
    "        embedding_vector = review2vec.wv[word]\n",
    "        embedding_matrix[i] = embedding_vector"
   ]
  },
  {
   "cell_type": "code",
   "execution_count": 25,
   "metadata": {},
   "outputs": [],
   "source": [
    "X_train = tokenizer.texts_to_sequences(X_train)\n",
    "X_test = tokenizer.texts_to_sequences(X_test)\n",
    "\n",
    "X_train = pad_sequences(X_train, maxlen=MAX_SEQUENCE_LENGTH, padding='post')\n",
    "X_test = pad_sequences(X_test, maxlen=MAX_SEQUENCE_LENGTH, padding='post')"
   ]
  },
  {
   "cell_type": "markdown",
   "metadata": {},
   "source": [
    "## SMOTE Resampling"
   ]
  },
  {
   "cell_type": "markdown",
   "metadata": {},
   "source": [
    "As mentioned in the introduction, we'll rebalance our training dataset with SMOTE. We'll also now split the training set and validation set. "
   ]
  },
  {
   "cell_type": "code",
   "execution_count": 26,
   "metadata": {},
   "outputs": [],
   "source": [
    "smote = SMOTE()\n",
    "\n",
    "X_train_smote, y_train_smote = smote.fit_resample(X_train, y_train)"
   ]
  },
  {
   "cell_type": "code",
   "execution_count": 32,
   "metadata": {},
   "outputs": [],
   "source": [
    "# Saving the vectors\n",
    "with open(\"../data/X_train_smote\", 'wb') as f:\n",
    "    dill.dump(X_train_smote, f)\n",
    "\n",
    "with open(\"../data/y_train_smote\", 'wb') as f:\n",
    "    dill.dump(y_train_smote, f)"
   ]
  },
  {
   "cell_type": "code",
   "execution_count": 27,
   "metadata": {},
   "outputs": [],
   "source": [
    "# Splitting the training and validation set data\n",
    "\n",
    "X_train_sm, X_valid_sm, y_train_sm, y_valid_sm = train_test_split(\n",
    "    X_train_smote, \n",
    "    y_train_smote, \n",
    "    test_size=0.2, \n",
    "    random_state=1, \n",
    "    stratify=y_train_smote\n",
    ")"
   ]
  },
  {
   "cell_type": "markdown",
   "metadata": {},
   "source": [
    "# Sentiment Analysis Models"
   ]
  },
  {
   "cell_type": "markdown",
   "metadata": {},
   "source": [
    "## LSTM + Word2Vec Training"
   ]
  },
  {
   "cell_type": "markdown",
   "metadata": {},
   "source": [
    "We define the same architecture of the LSTM model in the [Sentiment Analysis Word Embedding notebook](SentimentAnalysisWordEmbedding.ipynb) and train the model."
   ]
  },
  {
   "cell_type": "code",
   "execution_count": 30,
   "metadata": {},
   "outputs": [
    {
     "name": "stdout",
     "output_type": "stream",
     "text": [
      "Model: \"sequential_2\"\n",
      "_________________________________________________________________\n",
      "Layer (type)                 Output Shape              Param #   \n",
      "=================================================================\n",
      "embedding_1 (Embedding)      (None, 80, 100)           9485000   \n",
      "_________________________________________________________________\n",
      "dropout_1 (Dropout)          (None, 80, 100)           0         \n",
      "_________________________________________________________________\n",
      "conv1d_1 (Conv1D)            (None, 76, 64)            32064     \n",
      "_________________________________________________________________\n",
      "max_pooling1d_1 (MaxPooling1 (None, 19, 64)            0         \n",
      "_________________________________________________________________\n",
      "lstm_1 (LSTM)                (None, 100)               66000     \n",
      "_________________________________________________________________\n",
      "dropout_2 (Dropout)          (None, 100)               0         \n",
      "_________________________________________________________________\n",
      "dense_1 (Dense)              (None, 1)                 101       \n",
      "=================================================================\n",
      "Total params: 9,583,165\n",
      "Trainable params: 98,165\n",
      "Non-trainable params: 9,485,000\n",
      "_________________________________________________________________\n"
     ]
    }
   ],
   "source": [
    "model_review2vec = Sequential()\n",
    "\n",
    "adam = Adam(lr=1e-3, beta_1=0.9, beta_2=0.999)\n",
    "loss = 'binary_crossentropy'\n",
    "\n",
    "embedding_layer = Embedding(\n",
    "    num_words,\n",
    "    100, # Dimension of trained review2vec\n",
    "    embeddings_initializer=Constant(embedding_matrix),\n",
    "    input_length=MAX_PAD_LENGTH,\n",
    "    trainable=False\n",
    ")\n",
    "model_review2vec.add(embedding_layer)\n",
    "model_review2vec.add(Dropout(0.2))\n",
    "\n",
    "model_review2vec.add(Conv1D(64, 5, activation='relu'))\n",
    "model_review2vec.add(MaxPooling1D(pool_size=4))\n",
    "\n",
    "model_review2vec.add(LSTM(100))\n",
    "model_review2vec.add(Dropout(0.4))\n",
    "\n",
    "model_review2vec.add(Dense(1, activation='sigmoid'))\n",
    "\n",
    "model_review2vec.compile(loss=loss, optimizer=adam, metrics=['accuracy'])\n",
    "model_review2vec.summary()"
   ]
  },
  {
   "cell_type": "code",
   "execution_count": 33,
   "metadata": {},
   "outputs": [
    {
     "name": "stdout",
     "output_type": "stream",
     "text": [
      "Train on 568033 samples, validate on 142009 samples\n",
      "Epoch 1/10\n",
      "568033/568033 [==============================] - 590s 1ms/step - loss: 0.2621 - accuracy: 0.8892 - val_loss: 0.2038 - val_accuracy: 0.9168\n",
      "Epoch 2/10\n",
      "568033/568033 [==============================] - 594s 1ms/step - loss: 0.2151 - accuracy: 0.9109 - val_loss: 0.1892 - val_accuracy: 0.9246\n",
      "Epoch 3/10\n",
      "568033/568033 [==============================] - 594s 1ms/step - loss: 0.1965 - accuracy: 0.9193 - val_loss: 0.1805 - val_accuracy: 0.9281\n",
      "Epoch 4/10\n",
      "568033/568033 [==============================] - 590s 1ms/step - loss: 0.1852 - accuracy: 0.9251 - val_loss: 0.1702 - val_accuracy: 0.9329\n",
      "Epoch 5/10\n",
      "568033/568033 [==============================] - 591s 1ms/step - loss: 0.1775 - accuracy: 0.9287 - val_loss: 0.1659 - val_accuracy: 0.9354\n",
      "Epoch 6/10\n",
      "568033/568033 [==============================] - 594s 1ms/step - loss: 0.1717 - accuracy: 0.9312 - val_loss: 0.1650 - val_accuracy: 0.9363\n",
      "Epoch 7/10\n",
      "568033/568033 [==============================] - 590s 1ms/step - loss: 0.1682 - accuracy: 0.9326 - val_loss: 0.1631 - val_accuracy: 0.9363\n",
      "Epoch 8/10\n",
      "568033/568033 [==============================] - 589s 1ms/step - loss: 0.1658 - accuracy: 0.9339 - val_loss: 0.1667 - val_accuracy: 0.9345\n",
      "Epoch 9/10\n",
      "568033/568033 [==============================] - 586s 1ms/step - loss: 0.1634 - accuracy: 0.9348 - val_loss: 0.1588 - val_accuracy: 0.9375\n",
      "Epoch 10/10\n",
      "568033/568033 [==============================] - 586s 1ms/step - loss: 0.1614 - accuracy: 0.9357 - val_loss: 0.1565 - val_accuracy: 0.9385\n"
     ]
    }
   ],
   "source": [
    "model_review2vec_history = model_review2vec.fit(\n",
    "    X_train_sm, \n",
    "    y_train_sm, \n",
    "    batch_size=32, \n",
    "    epochs=10, \n",
    "    validation_data=(X_valid_sm, y_valid_sm)\n",
    ")"
   ]
  },
  {
   "cell_type": "code",
   "execution_count": 39,
   "metadata": {},
   "outputs": [],
   "source": [
    "with open(\"../model/lstm_review2vec_history.pkl\", 'wb') as f:\n",
    "    dill.dump(model_review2vec_history, f)"
   ]
  },
  {
   "cell_type": "code",
   "execution_count": 40,
   "metadata": {},
   "outputs": [],
   "source": [
    "with open(\"../model/lstm_review2vec.pkl\", 'wb') as f:\n",
    "    dill.dump(model_review2vec, f)"
   ]
  },
  {
   "cell_type": "markdown",
   "metadata": {},
   "source": [
    "### Plot Accuracy and Loss"
   ]
  },
  {
   "cell_type": "code",
   "execution_count": 34,
   "metadata": {},
   "outputs": [],
   "source": [
    "val_accuracy = model_review2vec_history.history['val_accuracy']\n",
    "val_loss = model_review2vec_history.history['val_loss']\n",
    "\n",
    "train_accuracy = model_review2vec_history.history['accuracy']\n",
    "train_loss = model_review2vec_history.history['loss']\n",
    "\n",
    "epochs = range(1, len(train_accuracy) + 1)"
   ]
  },
  {
   "cell_type": "code",
   "execution_count": 35,
   "metadata": {},
   "outputs": [
    {
     "data": {
      "image/png": "[encoded data removed]",
      "text/plain": [
       "<Figure size 432x288 with 1 Axes>"
      ]
     },
     "metadata": {
      "needs_background": "light"
     },
     "output_type": "display_data"
    }
   ],
   "source": [
    "plt.plot(epochs, train_accuracy, 'g', label='Training Accuracy')\n",
    "plt.plot(epochs, val_accuracy, 'b', label='Validation Accuracy')\n",
    "\n",
    "plt.title('Training and Validation Accuracy')\n",
    "plt.xlabel('Epochs')\n",
    "plt.ylabel('Accuracy')\n",
    "\n",
    "plt.legend()\n",
    "plt.show()"
   ]
  },
  {
   "cell_type": "code",
   "execution_count": 36,
   "metadata": {},
   "outputs": [
    {
     "data": {
      "image/png": "[encoded data removed]",
      "text/plain": [
       "<Figure size 432x288 with 1 Axes>"
      ]
     },
     "metadata": {
      "needs_background": "light"
     },
     "output_type": "display_data"
    }
   ],
   "source": [
    "plt.plot(epochs, train_loss, 'g', label='Training Loss')\n",
    "plt.plot(epochs, val_loss, 'b', label='Validation Loss')\n",
    "\n",
    "plt.title('Training and Validation Loss')\n",
    "plt.xlabel('Epochs')\n",
    "plt.ylabel('Loss')\n",
    "\n",
    "plt.legend()\n",
    "plt.show()"
   ]
  },
  {
   "cell_type": "markdown",
   "metadata": {},
   "source": [
    "### Evaluate Model"
   ]
  },
  {
   "cell_type": "code",
   "execution_count": 64,
   "metadata": {},
   "outputs": [
    {
     "name": "stdout",
     "output_type": "stream",
     "text": [
      "177511/177511 [==============================] - 24s 137us/step\n"
     ]
    },
    {
     "data": {
      "text/plain": [
       "[0.1674115820749521, 0.9339928030967712]"
      ]
     },
     "execution_count": 64,
     "metadata": {},
     "output_type": "execute_result"
    }
   ],
   "source": [
    "model_review2vec.evaluate(X_test, y_test)"
   ]
  },
  {
   "cell_type": "markdown",
   "metadata": {},
   "source": [
    "## LSTM + Custom Word Embedding"
   ]
  },
  {
   "cell_type": "markdown",
   "metadata": {},
   "source": [
    "We'll now apply the same neural net architecture, but instead let the model determine the embedding weights."
   ]
  },
  {
   "cell_type": "code",
   "execution_count": 38,
   "metadata": {},
   "outputs": [
    {
     "name": "stdout",
     "output_type": "stream",
     "text": [
      "Model: \"sequential_3\"\n",
      "_________________________________________________________________\n",
      "Layer (type)                 Output Shape              Param #   \n",
      "=================================================================\n",
      "embedding_2 (Embedding)      (None, 80, 100)           9485000   \n",
      "_________________________________________________________________\n",
      "dropout_3 (Dropout)          (None, 80, 100)           0         \n",
      "_________________________________________________________________\n",
      "conv1d_2 (Conv1D)            (None, 76, 64)            32064     \n",
      "_________________________________________________________________\n",
      "max_pooling1d_2 (MaxPooling1 (None, 19, 64)            0         \n",
      "_________________________________________________________________\n",
      "lstm_2 (LSTM)                (None, 100)               66000     \n",
      "_________________________________________________________________\n",
      "dropout_4 (Dropout)          (None, 100)               0         \n",
      "_________________________________________________________________\n",
      "dense_2 (Dense)              (None, 1)                 101       \n",
      "=================================================================\n",
      "Total params: 9,583,165\n",
      "Trainable params: 9,583,165\n",
      "Non-trainable params: 0\n",
      "_________________________________________________________________\n"
     ]
    }
   ],
   "source": [
    "model_custom = Sequential()\n",
    "\n",
    "adam = Adam(lr=1e-3, beta_1=0.9, beta_2=0.999)\n",
    "loss = 'binary_crossentropy'\n",
    "\n",
    "embedding_layer_custom = Embedding(\n",
    "    num_words,\n",
    "    100,\n",
    "    input_length=MAX_PAD_LENGTH\n",
    ")\n",
    "model_custom.add(embedding_layer_custom)\n",
    "model_custom.add(Dropout(0.2))\n",
    "\n",
    "model_custom.add(Conv1D(64, 5, activation='relu'))\n",
    "model_custom.add(MaxPooling1D(pool_size=4))\n",
    "\n",
    "model_custom.add(LSTM(100))\n",
    "model_custom.add(Dropout(0.4))\n",
    "\n",
    "model_custom.add(Dense(1, activation='sigmoid'))\n",
    "\n",
    "model_custom.compile(loss=loss, optimizer=adam, metrics=['accuracy'])\n",
    "model_custom.summary()"
   ]
  },
  {
   "cell_type": "code",
   "execution_count": null,
   "metadata": {},
   "outputs": [
    {
     "name": "stderr",
     "output_type": "stream",
     "text": [
      "/home/ec2-user/anaconda3/envs/python3/lib/python3.6/site-packages/tensorflow/python/framework/indexed_slices.py:434: UserWarning: Converting sparse IndexedSlices to a dense Tensor of unknown shape. This may consume a large amount of memory.\n",
      "  \"Converting sparse IndexedSlices to a dense Tensor of unknown shape. \"\n"
     ]
    },
    {
     "name": "stdout",
     "output_type": "stream",
     "text": [
      "Train on 568033 samples, validate on 142009 samples\n",
      "Epoch 1/10\n",
      "568033/568033 [==============================] - 614s 1ms/step - loss: 0.2501 - accuracy: 0.8974 - val_loss: 0.1895 - val_accuracy: 0.9292\n",
      "Epoch 2/10\n",
      "568033/568033 [==============================] - 614s 1ms/step - loss: 0.1552 - accuracy: 0.9416 - val_loss: 0.1543 - val_accuracy: 0.9406\n",
      "Epoch 3/10\n",
      "568033/568033 [==============================] - 614s 1ms/step - loss: 0.1249 - accuracy: 0.9536 - val_loss: 0.1544 - val_accuracy: 0.9443\n",
      "Epoch 4/10\n",
      "568033/568033 [==============================] - 617s 1ms/step - loss: 0.1066 - accuracy: 0.9611 - val_loss: 0.1573 - val_accuracy: 0.9440\n",
      "Epoch 5/10\n",
      "568033/568033 [==============================] - 618s 1ms/step - loss: 0.0945 - accuracy: 0.9658 - val_loss: 0.1598 - val_accuracy: 0.9437\n",
      "Epoch 6/10\n",
      "568033/568033 [==============================] - 619s 1ms/step - loss: 0.0851 - accuracy: 0.9693 - val_loss: 0.1633 - val_accuracy: 0.9449\n",
      "Epoch 7/10\n",
      "568033/568033 [==============================] - 617s 1ms/step - loss: 0.0794 - accuracy: 0.9714 - val_loss: 0.1708 - val_accuracy: 0.9456\n",
      "Epoch 8/10\n",
      "285344/568033 [==============>...............] - ETA: 4:57 - loss: 0.0692 - accuracy: 0.9753"
     ]
    }
   ],
   "source": [
    "model_custom_history = model_custom.fit(\n",
    "    X_train_sm, \n",
    "    y_train_sm, \n",
    "    batch_size=32, \n",
    "    epochs=10, \n",
    "    validation_data=(X_valid_sm, y_valid_sm)\n",
    ")"
   ]
  },
  {
   "cell_type": "code",
   "execution_count": 46,
   "metadata": {},
   "outputs": [],
   "source": [
    "with open(\"../model/lstm_custom.pkl\", 'wb') as f:\n",
    "    dill.dump(model_custom, f)"
   ]
  },
  {
   "cell_type": "code",
   "execution_count": 47,
   "metadata": {},
   "outputs": [],
   "source": [
    "with open(\"../model/lstm_custom_history.pkl\", 'wb') as f:\n",
    "    dill.dump(model_custom_history, f)"
   ]
  },
  {
   "cell_type": "markdown",
   "metadata": {},
   "source": [
    "### Plot Accuracy and Loss"
   ]
  },
  {
   "cell_type": "code",
   "execution_count": 42,
   "metadata": {},
   "outputs": [],
   "source": [
    "val_accuracy_custom = model_custom_history.history['val_accuracy']\n",
    "val_loss_custom = model_custom_history.history['val_loss']\n",
    "\n",
    "train_accuracy_custom = model_custom_history.history['accuracy']\n",
    "train_loss_custom = model_custom_history.history['loss']\n",
    "\n",
    "epochs_custom = range(1, len(train_accuracy_custom) + 1)"
   ]
  },
  {
   "cell_type": "code",
   "execution_count": 43,
   "metadata": {},
   "outputs": [
    {
     "data": {
      "image/png": "[encoded data removed]",
      "text/plain": [
       "<Figure size 432x288 with 1 Axes>"
      ]
     },
     "metadata": {
      "needs_background": "light"
     },
     "output_type": "display_data"
    }
   ],
   "source": [
    "plt.plot(epochs_custom, train_accuracy_custom, 'g', label='Training Accuracy')\n",
    "plt.plot(epochs_custom, val_accuracy_custom, 'b', label='Validation Accuracy')\n",
    "\n",
    "plt.title('Training and Validation Accuracy')\n",
    "plt.xlabel('Epochs')\n",
    "plt.ylabel('Accuracy')\n",
    "\n",
    "plt.legend()\n",
    "plt.show()"
   ]
  },
  {
   "cell_type": "code",
   "execution_count": 44,
   "metadata": {},
   "outputs": [
    {
     "data": {
      "image/png": "[encoded data removed]",
      "text/plain": [
       "<Figure size 432x288 with 1 Axes>"
      ]
     },
     "metadata": {
      "needs_background": "light"
     },
     "output_type": "display_data"
    }
   ],
   "source": [
    "plt.plot(epochs, train_loss_custom, 'g', label='Training Loss')\n",
    "plt.plot(epochs, val_loss_custom, 'b', label='Validation Loss')\n",
    "\n",
    "plt.title('Training and Validation Loss')\n",
    "plt.xlabel('Epochs')\n",
    "plt.ylabel('Loss')\n",
    "\n",
    "plt.legend()\n",
    "plt.show()"
   ]
  },
  {
   "cell_type": "code",
   "execution_count": 77,
   "metadata": {},
   "outputs": [
    {
     "name": "stdout",
     "output_type": "stream",
     "text": [
      "177511/177511 [==============================] - 24s 137us/step\n"
     ]
    },
    {
     "data": {
      "text/plain": [
       "[0.19211047443615542, 0.9431697130203247]"
      ]
     },
     "execution_count": 77,
     "metadata": {},
     "output_type": "execute_result"
    }
   ],
   "source": [
    "model_custom.evaluate(X_test, y_test)"
   ]
  },
  {
   "cell_type": "markdown",
   "metadata": {},
   "source": [
    "# Conclusion"
   ]
  },
  {
   "cell_type": "markdown",
   "metadata": {},
   "source": [
    "The combination of custom trained word embeddings and SMOTE yield very good results. They are substantially higher than the standard CNN/LSTM models and even higher than the ensemble method with Naive Bayes and Logistic Regression described in the [Review Extraction notebook](ReviewExtraction.ipynb). "
   ]
  },
  {
   "cell_type": "code",
   "execution_count": null,
   "metadata": {},
   "outputs": [],
   "source": []
  }
 ],
 "metadata": {
  "environment": {
   "name": "tf2-2-2-gpu.2-2.m50",
   "type": "gcloud",
   "uri": "gcr.io/deeplearning-platform-release/tf2-2-2-gpu.2-2:m50"
  },
  "kernelspec": {
   "display_name": "conda_python3",
   "language": "python",
   "name": "conda_python3"
  },
  "language_info": {
   "codemirror_mode": {
    "name": "ipython",
    "version": 3
   },
   "file_extension": ".py",
   "mimetype": "text/x-python",
   "name": "python",
   "nbconvert_exporter": "python",
   "pygments_lexer": "ipython3",
   "version": "3.6.10"
  }
 },
 "nbformat": 4,
 "nbformat_minor": 4
}
