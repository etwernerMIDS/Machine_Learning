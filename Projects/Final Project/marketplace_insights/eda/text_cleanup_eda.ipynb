{
 "cells": [
  {
   "cell_type": "markdown",
   "metadata": {},
   "source": [
    "# Text Cleanup EDA"
   ]
  },
  {
   "cell_type": "markdown",
   "metadata": {},
   "source": [
    "As with any user inputted text on the internet, we will see some dirtiness in the data and will need to do some preprocessing. This can include:\n",
    "\n",
    "* Removing characteristics of scraped HTML like tags or line breaks\n",
    "* Replacing standard unescaped or badly encoded characters\n",
    "* Reducing unneeded text by removing stop words and lemmanizing "
   ]
  },
  {
   "cell_type": "markdown",
   "metadata": {},
   "source": [
    "## Imports and Notebook Setup"
   ]
  },
  {
   "cell_type": "code",
   "execution_count": 10,
   "metadata": {},
   "outputs": [],
   "source": [
    "import sys\n",
    "import re\n",
    "import numpy as np\n",
    "import pandas as pd\n",
    "import html.parser\n",
    "from nltk.corpus import stopwords\n",
    "from nltk.stem import WordNetLemmatizer\n",
    "\n",
    "from bs4 import BeautifulSoup"
   ]
  },
  {
   "cell_type": "code",
   "execution_count": 2,
   "metadata": {},
   "outputs": [],
   "source": [
    "pd.set_option('display.max_colwidth', None)"
   ]
  },
  {
   "cell_type": "markdown",
   "metadata": {},
   "source": [
    "## Loading Data"
   ]
  },
  {
   "cell_type": "code",
   "execution_count": 3,
   "metadata": {},
   "outputs": [],
   "source": [
    "df = pd.read_csv(\"../data/Reviews.csv\")"
   ]
  },
  {
   "cell_type": "code",
   "execution_count": 6,
   "metadata": {},
   "outputs": [],
   "source": [
    "review_text = df[['Summary', 'Text']]"
   ]
  },
  {
   "cell_type": "code",
   "execution_count": 4,
   "metadata": {},
   "outputs": [],
   "source": [
    "sys.path.insert(0, '..')\n",
    "\n",
    "%load_ext autoreload\n",
    "%autoreload 2"
   ]
  },
  {
   "cell_type": "markdown",
   "metadata": {},
   "source": [
    "# Text Issues"
   ]
  },
  {
   "cell_type": "markdown",
   "metadata": {},
   "source": [
    "Taking a look at the data, we see that there are multiple HTML issues."
   ]
  },
  {
   "cell_type": "markdown",
   "metadata": {},
   "source": [
    "Scraped HTML will retain any formatting tags that the rich-text uses to display on the web. Examples include things like line breaks `<br/>`, links `<a href=>`, bullets `<ol>` and `<ul>`, etc. We can check examples with a regex match."
   ]
  },
  {
   "cell_type": "code",
   "execution_count": 9,
   "metadata": {},
   "outputs": [
    {
     "data": {
      "text/html": [
       "<div>\n",
       "<style scoped>\n",
       "    .dataframe tbody tr th:only-of-type {\n",
       "        vertical-align: middle;\n",
       "    }\n",
       "\n",
       "    .dataframe tbody tr th {\n",
       "        vertical-align: top;\n",
       "    }\n",
       "\n",
       "    .dataframe thead th {\n",
       "        text-align: right;\n",
       "    }\n",
       "</style>\n",
       "<table border=\"1\" class=\"dataframe\">\n",
       "  <thead>\n",
       "    <tr style=\"text-align: right;\">\n",
       "      <th></th>\n",
       "      <th>Summary</th>\n",
       "      <th>Text</th>\n",
       "    </tr>\n",
       "  </thead>\n",
       "  <tbody>\n",
       "    <tr>\n",
       "      <th>10</th>\n",
       "      <td>The Best Hot Sauce in the World</td>\n",
       "      <td>I don't know if it's the cactus or the tequila or just the unique combination of ingredients, but the flavour of this hot sauce makes it one of a kind!  We picked up a bottle once on a trip we were on and brought it back home with us and were totally blown away!  When we realized that we simply couldn't find it anywhere in our city we were bummed.&lt;br /&gt;&lt;br /&gt;Now, because of the magic of the internet, we have a case of the sauce and are ecstatic because of it.&lt;br /&gt;&lt;br /&gt;If you love hot sauce..I mean really love hot sauce, but don't want a sauce that tastelessly burns your throat, grab a bottle of Tequila Picante Gourmet de Inclan.  Just realize that once you taste it, you will never want to use any other sauce.&lt;br /&gt;&lt;br /&gt;Thank you for the personal, incredible service!</td>\n",
       "    </tr>\n",
       "    <tr>\n",
       "      <th>18</th>\n",
       "      <td>GREAT SWEET CANDY!</td>\n",
       "      <td>Twizzlers, Strawberry my childhood favorite candy, made in Lancaster Pennsylvania by Y &amp; S Candies, Inc. one of the oldest confectionery Firms in the United States, now a Subsidiary of the Hershey Company, the Company was established in 1845 as Young and Smylie, they also make Apple Licorice Twists, Green Color and Blue Raspberry Licorice Twists, I like them all&lt;br /&gt;&lt;br /&gt;I keep it in a dry cool place because is not recommended it to put it in the fridge. According to the Guinness Book of Records, the longest Licorice Twist ever made measured 1.200 Feet (370 M) and weighted 100 Pounds (45 Kg) and was made by Y &amp; S Candies, Inc. This Record-Breaking Twist became a Guinness World Record on July 19, 1998. This Product is Kosher! Thank You</td>\n",
       "    </tr>\n",
       "    <tr>\n",
       "      <th>21</th>\n",
       "      <td>TWIZZLERS</td>\n",
       "      <td>I bought these for my husband who is currently overseas. He loves these, and apparently his staff likes them also.&lt;br /&gt;There are generous amounts of Twizzlers in each 16-ounce bag, and this was well worth the price. &lt;a href=\"http://www.amazon.com/gp/product/B001GVISJM\"&gt;Twizzlers, Strawberry, 16-Ounce Bags (Pack of 6)&lt;/a&gt;</td>\n",
       "    </tr>\n",
       "    <tr>\n",
       "      <th>24</th>\n",
       "      <td>Please sell these in Mexico!!</td>\n",
       "      <td>I have lived out of the US for over 7 yrs now, and I so miss my Twizzlers!!  When I go back to visit or someone visits me, I always stock up.  All I can say is YUM!&lt;br /&gt;Sell these in Mexico and you will have a faithful buyer, more often than I'm able to buy them right now.</td>\n",
       "    </tr>\n",
       "    <tr>\n",
       "      <th>25</th>\n",
       "      <td>Twizzlers - Strawberry</td>\n",
       "      <td>Product received is as advertised.&lt;br /&gt;&lt;br /&gt;&lt;a href=\"http://www.amazon.com/gp/product/B001GVISJM\"&gt;Twizzlers, Strawberry, 16-Ounce Bags (Pack of 6)&lt;/a&gt;</td>\n",
       "    </tr>\n",
       "  </tbody>\n",
       "</table>\n",
       "</div>"
      ],
      "text/plain": [
       "                            Summary  \\\n",
       "10  The Best Hot Sauce in the World   \n",
       "18               GREAT SWEET CANDY!   \n",
       "21                        TWIZZLERS   \n",
       "24    Please sell these in Mexico!!   \n",
       "25           Twizzlers - Strawberry   \n",
       "\n",
       "                                                                                                                                                                                                                                                                                                                                                                                                                                                                                                                                                                                                                                                                                                                                                                                                           Text  \n",
       "10  I don't know if it's the cactus or the tequila or just the unique combination of ingredients, but the flavour of this hot sauce makes it one of a kind!  We picked up a bottle once on a trip we were on and brought it back home with us and were totally blown away!  When we realized that we simply couldn't find it anywhere in our city we were bummed.<br /><br />Now, because of the magic of the internet, we have a case of the sauce and are ecstatic because of it.<br /><br />If you love hot sauce..I mean really love hot sauce, but don't want a sauce that tastelessly burns your throat, grab a bottle of Tequila Picante Gourmet de Inclan.  Just realize that once you taste it, you will never want to use any other sauce.<br /><br />Thank you for the personal, incredible service!  \n",
       "18                                   Twizzlers, Strawberry my childhood favorite candy, made in Lancaster Pennsylvania by Y & S Candies, Inc. one of the oldest confectionery Firms in the United States, now a Subsidiary of the Hershey Company, the Company was established in 1845 as Young and Smylie, they also make Apple Licorice Twists, Green Color and Blue Raspberry Licorice Twists, I like them all<br /><br />I keep it in a dry cool place because is not recommended it to put it in the fridge. According to the Guinness Book of Records, the longest Licorice Twist ever made measured 1.200 Feet (370 M) and weighted 100 Pounds (45 Kg) and was made by Y & S Candies, Inc. This Record-Breaking Twist became a Guinness World Record on July 19, 1998. This Product is Kosher! Thank You  \n",
       "21                                                                                                                                                                                                                                                                                                                                                                                                                                                                          I bought these for my husband who is currently overseas. He loves these, and apparently his staff likes them also.<br />There are generous amounts of Twizzlers in each 16-ounce bag, and this was well worth the price. <a href=\"http://www.amazon.com/gp/product/B001GVISJM\">Twizzlers, Strawberry, 16-Ounce Bags (Pack of 6)</a>  \n",
       "24                                                                                                                                                                                                                                                                                                                                                                                                                                                                                                                           I have lived out of the US for over 7 yrs now, and I so miss my Twizzlers!!  When I go back to visit or someone visits me, I always stock up.  All I can say is YUM!<br />Sell these in Mexico and you will have a faithful buyer, more often than I'm able to buy them right now.  \n",
       "25                                                                                                                                                                                                                                                                                                                                                                                                                                                                                                                                                                                                                                                     Product received is as advertised.<br /><br /><a href=\"http://www.amazon.com/gp/product/B001GVISJM\">Twizzlers, Strawberry, 16-Ounce Bags (Pack of 6)</a>  "
      ]
     },
     "execution_count": 9,
     "metadata": {},
     "output_type": "execute_result"
    }
   ],
   "source": [
    "# HTML Tags\n",
    "review_text[review_text['Text'].str.contains(r'<[^>]*>')].head()"
   ]
  },
  {
   "cell_type": "markdown",
   "metadata": {},
   "source": [
    "We can also have unescaped HTML characters. For instance, punctuation like quotes and ampersands can appear like `&quot;` and `&amp;`, and UTF-8 characers with accent markings like ñ may appear like `&ntilde;`. Below show some examples."
   ]
  },
  {
   "cell_type": "code",
   "execution_count": 8,
   "metadata": {},
   "outputs": [
    {
     "data": {
      "text/html": [
       "<div>\n",
       "<style scoped>\n",
       "    .dataframe tbody tr th:only-of-type {\n",
       "        vertical-align: middle;\n",
       "    }\n",
       "\n",
       "    .dataframe tbody tr th {\n",
       "        vertical-align: top;\n",
       "    }\n",
       "\n",
       "    .dataframe thead th {\n",
       "        text-align: right;\n",
       "    }\n",
       "</style>\n",
       "<table border=\"1\" class=\"dataframe\">\n",
       "  <thead>\n",
       "    <tr style=\"text-align: right;\">\n",
       "      <th></th>\n",
       "      <th>Summary</th>\n",
       "      <th>Text</th>\n",
       "    </tr>\n",
       "  </thead>\n",
       "  <tbody>\n",
       "    <tr>\n",
       "      <th>999</th>\n",
       "      <td>Not hot, not habanero</td>\n",
       "      <td>I have to admit, I was a sucker for the large quantity, 12 oz, when shopping for hot sauces ...but now seeing the size of the bottle, it reminds of wing-sauce bottle sizes.  Plastic bottle.  It does have a convenient squirt top.  But overall, not very hot or tasty, and made mostly from jalape&amp;ntilde;os.  If I had seen the ingredients list I would not have bought it:&lt;br /&gt;Jalapenos&lt;br /&gt;Water&lt;br /&gt;Vinegar&lt;br /&gt;Brown Sugar&lt;br /&gt;Lime Juice&lt;br /&gt;Fish Sauce&lt;br /&gt;Cilantro&lt;br /&gt;Habanero&lt;br /&gt;Garlic&lt;br /&gt;Spice Blend&lt;br /&gt;Salt&lt;br /&gt;Potassium Sorbate&lt;br /&gt;Xanthan Gum</td>\n",
       "    </tr>\n",
       "    <tr>\n",
       "      <th>1243</th>\n",
       "      <td>WOW Make your own 'slickers' !</td>\n",
       "      <td>I just received my shipment and could hardly wait to try this product. We love &amp;quot;slickers&amp;quot; which is what we call them, instead of stickers because they can be removed so easily. My daughter designed signs to be  printed in reverse to use on her car windows. They printed beautifully (we  have 'The Print Shop' program). I am going to have a lot of fun with this  product because there are windows everywhere and other surfaces like tv  screens and computer monitors.</td>\n",
       "    </tr>\n",
       "    <tr>\n",
       "      <th>1461</th>\n",
       "      <td>One of my favorites</td>\n",
       "      <td>I love the McDougall Asian Entr&amp;eacute;es and although I haven't tried all of them this one is amazing. It has a really peanutty flavor that you wouldn't expect in a product containing only 3 grams of fat per serving. I would imagine these would make a great dinner added to a pound of mixed stir-fry vegetables...I am buying a case now to test just that! The peanut flavor is strong enough that I bet it'd distribute among a fair amount of vegetables or tofu when added so you wouldn't get very saucy noodles and dry veggies.&lt;br /&gt;&lt;br /&gt;I recommend this product. The best-tasting peanut noodle you'll be able to find for only 3 grams of fat.</td>\n",
       "    </tr>\n",
       "    <tr>\n",
       "      <th>1471</th>\n",
       "      <td>Noodles not good</td>\n",
       "      <td>The noodles for this product are what make me gag.  I am not a fan of this meal at all and I &amp;lt;3 Asian food.  For those looking for a delicious snack who are not already 100% vegan - I would either A) go try 1 first or B) skip buying this package as it is not delicious.</td>\n",
       "    </tr>\n",
       "    <tr>\n",
       "      <th>1615</th>\n",
       "      <td>Great chips - and tasty too</td>\n",
       "      <td>Good flavorful chips - too bad the selection does not include jalape&amp;ntilde;o or paramsan garlic. Packaging is difficult to open, but they fresh.</td>\n",
       "    </tr>\n",
       "  </tbody>\n",
       "</table>\n",
       "</div>"
      ],
      "text/plain": [
       "                             Summary  \\\n",
       "999            Not hot, not habanero   \n",
       "1243  WOW Make your own 'slickers' !   \n",
       "1461             One of my favorites   \n",
       "1471                Noodles not good   \n",
       "1615     Great chips - and tasty too   \n",
       "\n",
       "                                                                                                                                                                                                                                                                                                                                                                                                                                                                                                                                                                                                                                                                    Text  \n",
       "999                                                                                  I have to admit, I was a sucker for the large quantity, 12 oz, when shopping for hot sauces ...but now seeing the size of the bottle, it reminds of wing-sauce bottle sizes.  Plastic bottle.  It does have a convenient squirt top.  But overall, not very hot or tasty, and made mostly from jalape&ntilde;os.  If I had seen the ingredients list I would not have bought it:<br />Jalapenos<br />Water<br />Vinegar<br />Brown Sugar<br />Lime Juice<br />Fish Sauce<br />Cilantro<br />Habanero<br />Garlic<br />Spice Blend<br />Salt<br />Potassium Sorbate<br />Xanthan Gum  \n",
       "1243                                                                                                                                                                         I just received my shipment and could hardly wait to try this product. We love &quot;slickers&quot; which is what we call them, instead of stickers because they can be removed so easily. My daughter designed signs to be  printed in reverse to use on her car windows. They printed beautifully (we  have 'The Print Shop' program). I am going to have a lot of fun with this  product because there are windows everywhere and other surfaces like tv  screens and computer monitors.  \n",
       "1461  I love the McDougall Asian Entr&eacute;es and although I haven't tried all of them this one is amazing. It has a really peanutty flavor that you wouldn't expect in a product containing only 3 grams of fat per serving. I would imagine these would make a great dinner added to a pound of mixed stir-fry vegetables...I am buying a case now to test just that! The peanut flavor is strong enough that I bet it'd distribute among a fair amount of vegetables or tofu when added so you wouldn't get very saucy noodles and dry veggies.<br /><br />I recommend this product. The best-tasting peanut noodle you'll be able to find for only 3 grams of fat.  \n",
       "1471                                                                                                                                                                                                                                                                                                                                                                                    The noodles for this product are what make me gag.  I am not a fan of this meal at all and I &lt;3 Asian food.  For those looking for a delicious snack who are not already 100% vegan - I would either A) go try 1 first or B) skip buying this package as it is not delicious.  \n",
       "1615                                                                                                                                                                                                                                                                                                                                                                                                                                                                                                                   Good flavorful chips - too bad the selection does not include jalape&ntilde;o or paramsan garlic. Packaging is difficult to open, but they fresh.  "
      ]
     },
     "execution_count": 8,
     "metadata": {},
     "output_type": "execute_result"
    }
   ],
   "source": [
    "# HTML unescaped characters\n",
    "review_text[review_text['Text'].str.contains(r'&[a-z]+;')].head()"
   ]
  },
  {
   "cell_type": "markdown",
   "metadata": {},
   "source": [
    "We will need to tackle these before proceeding with further text processing. Also, sometimes the removing line breaks will result in concatenated words."
   ]
  },
  {
   "cell_type": "markdown",
   "metadata": {},
   "source": [
    "Thus, the order of cleanup should follow:\n",
    "\n",
    "* Replace line breaks with spaces\n",
    "* Remove html tags\n",
    "* Unescape HTML\n",
    "* Final preprocessing for stop words and lemmanization "
   ]
  },
  {
   "cell_type": "markdown",
   "metadata": {},
   "source": [
    "# Text Cleanup"
   ]
  },
  {
   "cell_type": "code",
   "execution_count": 12,
   "metadata": {},
   "outputs": [
    {
     "name": "stderr",
     "output_type": "stream",
     "text": [
      "/home/ec2-user/anaconda3/envs/python3/lib/python3.6/site-packages/ipykernel/__main__.py:1: SettingWithCopyWarning: \n",
      "A value is trying to be set on a copy of a slice from a DataFrame.\n",
      "Try using .loc[row_indexer,col_indexer] = value instead\n",
      "\n",
      "See the caveats in the documentation: https://pandas.pydata.org/pandas-docs/stable/user_guide/indexing.html#returning-a-view-versus-a-copy\n",
      "  if __name__ == '__main__':\n"
     ]
    }
   ],
   "source": [
    "review_text['cleaned_text'] = review_text['Text']"
   ]
  },
  {
   "cell_type": "code",
   "execution_count": 14,
   "metadata": {},
   "outputs": [
    {
     "name": "stderr",
     "output_type": "stream",
     "text": [
      "/home/ec2-user/anaconda3/envs/python3/lib/python3.6/site-packages/ipykernel/__main__.py:2: SettingWithCopyWarning: \n",
      "A value is trying to be set on a copy of a slice from a DataFrame.\n",
      "Try using .loc[row_indexer,col_indexer] = value instead\n",
      "\n",
      "See the caveats in the documentation: https://pandas.pydata.org/pandas-docs/stable/user_guide/indexing.html#returning-a-view-versus-a-copy\n",
      "  from ipykernel import kernelapp as app\n"
     ]
    }
   ],
   "source": [
    "# Replacing line breaks with spaces\n",
    "review_text['cleaned_text'] = review_text['cleaned_text'] \\\n",
    "    .apply(lambda x: re.sub(r'< *br *\\/?>', ' ', x))"
   ]
  },
  {
   "cell_type": "code",
   "execution_count": 16,
   "metadata": {},
   "outputs": [
    {
     "data": {
      "text/html": [
       "<div>\n",
       "<style scoped>\n",
       "    .dataframe tbody tr th:only-of-type {\n",
       "        vertical-align: middle;\n",
       "    }\n",
       "\n",
       "    .dataframe tbody tr th {\n",
       "        vertical-align: top;\n",
       "    }\n",
       "\n",
       "    .dataframe thead th {\n",
       "        text-align: right;\n",
       "    }\n",
       "</style>\n",
       "<table border=\"1\" class=\"dataframe\">\n",
       "  <thead>\n",
       "    <tr style=\"text-align: right;\">\n",
       "      <th></th>\n",
       "      <th>Summary</th>\n",
       "      <th>Text</th>\n",
       "      <th>cleaned_text</th>\n",
       "    </tr>\n",
       "  </thead>\n",
       "  <tbody>\n",
       "    <tr>\n",
       "      <th>10</th>\n",
       "      <td>The Best Hot Sauce in the World</td>\n",
       "      <td>I don't know if it's the cactus or the tequila or just the unique combination of ingredients, but the flavour of this hot sauce makes it one of a kind!  We picked up a bottle once on a trip we were on and brought it back home with us and were totally blown away!  When we realized that we simply couldn't find it anywhere in our city we were bummed.&lt;br /&gt;&lt;br /&gt;Now, because of the magic of the internet, we have a case of the sauce and are ecstatic because of it.&lt;br /&gt;&lt;br /&gt;If you love hot sauce..I mean really love hot sauce, but don't want a sauce that tastelessly burns your throat, grab a bottle of Tequila Picante Gourmet de Inclan.  Just realize that once you taste it, you will never want to use any other sauce.&lt;br /&gt;&lt;br /&gt;Thank you for the personal, incredible service!</td>\n",
       "      <td>I don't know if it's the cactus or the tequila or just the unique combination of ingredients, but the flavour of this hot sauce makes it one of a kind!  We picked up a bottle once on a trip we were on and brought it back home with us and were totally blown away!  When we realized that we simply couldn't find it anywhere in our city we were bummed.  Now, because of the magic of the internet, we have a case of the sauce and are ecstatic because of it.  If you love hot sauce..I mean really love hot sauce, but don't want a sauce that tastelessly burns your throat, grab a bottle of Tequila Picante Gourmet de Inclan.  Just realize that once you taste it, you will never want to use any other sauce.  Thank you for the personal, incredible service!</td>\n",
       "    </tr>\n",
       "    <tr>\n",
       "      <th>18</th>\n",
       "      <td>GREAT SWEET CANDY!</td>\n",
       "      <td>Twizzlers, Strawberry my childhood favorite candy, made in Lancaster Pennsylvania by Y &amp; S Candies, Inc. one of the oldest confectionery Firms in the United States, now a Subsidiary of the Hershey Company, the Company was established in 1845 as Young and Smylie, they also make Apple Licorice Twists, Green Color and Blue Raspberry Licorice Twists, I like them all&lt;br /&gt;&lt;br /&gt;I keep it in a dry cool place because is not recommended it to put it in the fridge. According to the Guinness Book of Records, the longest Licorice Twist ever made measured 1.200 Feet (370 M) and weighted 100 Pounds (45 Kg) and was made by Y &amp; S Candies, Inc. This Record-Breaking Twist became a Guinness World Record on July 19, 1998. This Product is Kosher! Thank You</td>\n",
       "      <td>Twizzlers, Strawberry my childhood favorite candy, made in Lancaster Pennsylvania by Y &amp; S Candies, Inc. one of the oldest confectionery Firms in the United States, now a Subsidiary of the Hershey Company, the Company was established in 1845 as Young and Smylie, they also make Apple Licorice Twists, Green Color and Blue Raspberry Licorice Twists, I like them all  I keep it in a dry cool place because is not recommended it to put it in the fridge. According to the Guinness Book of Records, the longest Licorice Twist ever made measured 1.200 Feet (370 M) and weighted 100 Pounds (45 Kg) and was made by Y &amp; S Candies, Inc. This Record-Breaking Twist became a Guinness World Record on July 19, 1998. This Product is Kosher! Thank You</td>\n",
       "    </tr>\n",
       "    <tr>\n",
       "      <th>21</th>\n",
       "      <td>TWIZZLERS</td>\n",
       "      <td>I bought these for my husband who is currently overseas. He loves these, and apparently his staff likes them also.&lt;br /&gt;There are generous amounts of Twizzlers in each 16-ounce bag, and this was well worth the price. &lt;a href=\"http://www.amazon.com/gp/product/B001GVISJM\"&gt;Twizzlers, Strawberry, 16-Ounce Bags (Pack of 6)&lt;/a&gt;</td>\n",
       "      <td>I bought these for my husband who is currently overseas. He loves these, and apparently his staff likes them also. There are generous amounts of Twizzlers in each 16-ounce bag, and this was well worth the price. &lt;a href=\"http://www.amazon.com/gp/product/B001GVISJM\"&gt;Twizzlers, Strawberry, 16-Ounce Bags (Pack of 6)&lt;/a&gt;</td>\n",
       "    </tr>\n",
       "    <tr>\n",
       "      <th>24</th>\n",
       "      <td>Please sell these in Mexico!!</td>\n",
       "      <td>I have lived out of the US for over 7 yrs now, and I so miss my Twizzlers!!  When I go back to visit or someone visits me, I always stock up.  All I can say is YUM!&lt;br /&gt;Sell these in Mexico and you will have a faithful buyer, more often than I'm able to buy them right now.</td>\n",
       "      <td>I have lived out of the US for over 7 yrs now, and I so miss my Twizzlers!!  When I go back to visit or someone visits me, I always stock up.  All I can say is YUM! Sell these in Mexico and you will have a faithful buyer, more often than I'm able to buy them right now.</td>\n",
       "    </tr>\n",
       "    <tr>\n",
       "      <th>25</th>\n",
       "      <td>Twizzlers - Strawberry</td>\n",
       "      <td>Product received is as advertised.&lt;br /&gt;&lt;br /&gt;&lt;a href=\"http://www.amazon.com/gp/product/B001GVISJM\"&gt;Twizzlers, Strawberry, 16-Ounce Bags (Pack of 6)&lt;/a&gt;</td>\n",
       "      <td>Product received is as advertised.  &lt;a href=\"http://www.amazon.com/gp/product/B001GVISJM\"&gt;Twizzlers, Strawberry, 16-Ounce Bags (Pack of 6)&lt;/a&gt;</td>\n",
       "    </tr>\n",
       "  </tbody>\n",
       "</table>\n",
       "</div>"
      ],
      "text/plain": [
       "                            Summary  \\\n",
       "10  The Best Hot Sauce in the World   \n",
       "18               GREAT SWEET CANDY!   \n",
       "21                        TWIZZLERS   \n",
       "24    Please sell these in Mexico!!   \n",
       "25           Twizzlers - Strawberry   \n",
       "\n",
       "                                                                                                                                                                                                                                                                                                                                                                                                                                                                                                                                                                                                                                                                                                                                                                                                           Text  \\\n",
       "10  I don't know if it's the cactus or the tequila or just the unique combination of ingredients, but the flavour of this hot sauce makes it one of a kind!  We picked up a bottle once on a trip we were on and brought it back home with us and were totally blown away!  When we realized that we simply couldn't find it anywhere in our city we were bummed.<br /><br />Now, because of the magic of the internet, we have a case of the sauce and are ecstatic because of it.<br /><br />If you love hot sauce..I mean really love hot sauce, but don't want a sauce that tastelessly burns your throat, grab a bottle of Tequila Picante Gourmet de Inclan.  Just realize that once you taste it, you will never want to use any other sauce.<br /><br />Thank you for the personal, incredible service!   \n",
       "18                                   Twizzlers, Strawberry my childhood favorite candy, made in Lancaster Pennsylvania by Y & S Candies, Inc. one of the oldest confectionery Firms in the United States, now a Subsidiary of the Hershey Company, the Company was established in 1845 as Young and Smylie, they also make Apple Licorice Twists, Green Color and Blue Raspberry Licorice Twists, I like them all<br /><br />I keep it in a dry cool place because is not recommended it to put it in the fridge. According to the Guinness Book of Records, the longest Licorice Twist ever made measured 1.200 Feet (370 M) and weighted 100 Pounds (45 Kg) and was made by Y & S Candies, Inc. This Record-Breaking Twist became a Guinness World Record on July 19, 1998. This Product is Kosher! Thank You   \n",
       "21                                                                                                                                                                                                                                                                                                                                                                                                                                                                          I bought these for my husband who is currently overseas. He loves these, and apparently his staff likes them also.<br />There are generous amounts of Twizzlers in each 16-ounce bag, and this was well worth the price. <a href=\"http://www.amazon.com/gp/product/B001GVISJM\">Twizzlers, Strawberry, 16-Ounce Bags (Pack of 6)</a>   \n",
       "24                                                                                                                                                                                                                                                                                                                                                                                                                                                                                                                           I have lived out of the US for over 7 yrs now, and I so miss my Twizzlers!!  When I go back to visit or someone visits me, I always stock up.  All I can say is YUM!<br />Sell these in Mexico and you will have a faithful buyer, more often than I'm able to buy them right now.   \n",
       "25                                                                                                                                                                                                                                                                                                                                                                                                                                                                                                                                                                                                                                                     Product received is as advertised.<br /><br /><a href=\"http://www.amazon.com/gp/product/B001GVISJM\">Twizzlers, Strawberry, 16-Ounce Bags (Pack of 6)</a>   \n",
       "\n",
       "                                                                                                                                                                                                                                                                                                                                                                                                                                                                                                                                                                                                                                                                                                                                                                     cleaned_text  \n",
       "10  I don't know if it's the cactus or the tequila or just the unique combination of ingredients, but the flavour of this hot sauce makes it one of a kind!  We picked up a bottle once on a trip we were on and brought it back home with us and were totally blown away!  When we realized that we simply couldn't find it anywhere in our city we were bummed.  Now, because of the magic of the internet, we have a case of the sauce and are ecstatic because of it.  If you love hot sauce..I mean really love hot sauce, but don't want a sauce that tastelessly burns your throat, grab a bottle of Tequila Picante Gourmet de Inclan.  Just realize that once you taste it, you will never want to use any other sauce.  Thank you for the personal, incredible service!  \n",
       "18               Twizzlers, Strawberry my childhood favorite candy, made in Lancaster Pennsylvania by Y & S Candies, Inc. one of the oldest confectionery Firms in the United States, now a Subsidiary of the Hershey Company, the Company was established in 1845 as Young and Smylie, they also make Apple Licorice Twists, Green Color and Blue Raspberry Licorice Twists, I like them all  I keep it in a dry cool place because is not recommended it to put it in the fridge. According to the Guinness Book of Records, the longest Licorice Twist ever made measured 1.200 Feet (370 M) and weighted 100 Pounds (45 Kg) and was made by Y & S Candies, Inc. This Record-Breaking Twist became a Guinness World Record on July 19, 1998. This Product is Kosher! Thank You  \n",
       "21                                                                                                                                                                                                                                                                                                                                                                                                                                                 I bought these for my husband who is currently overseas. He loves these, and apparently his staff likes them also. There are generous amounts of Twizzlers in each 16-ounce bag, and this was well worth the price. <a href=\"http://www.amazon.com/gp/product/B001GVISJM\">Twizzlers, Strawberry, 16-Ounce Bags (Pack of 6)</a>  \n",
       "24                                                                                                                                                                                                                                                                                                                                                                                                                                                                                                  I have lived out of the US for over 7 yrs now, and I so miss my Twizzlers!!  When I go back to visit or someone visits me, I always stock up.  All I can say is YUM! Sell these in Mexico and you will have a faithful buyer, more often than I'm able to buy them right now.  \n",
       "25                                                                                                                                                                                                                                                                                                                                                                                                                                                                                                                                                                                                                                 Product received is as advertised.  <a href=\"http://www.amazon.com/gp/product/B001GVISJM\">Twizzlers, Strawberry, 16-Ounce Bags (Pack of 6)</a>  "
      ]
     },
     "execution_count": 16,
     "metadata": {},
     "output_type": "execute_result"
    }
   ],
   "source": [
    "review_text[review_text['Text'].str.contains(r'<[^>]*>')].head()"
   ]
  },
  {
   "cell_type": "code",
   "execution_count": 17,
   "metadata": {},
   "outputs": [
    {
     "name": "stderr",
     "output_type": "stream",
     "text": [
      "/home/ec2-user/anaconda3/envs/python3/lib/python3.6/site-packages/ipykernel/__main__.py:2: SettingWithCopyWarning: \n",
      "A value is trying to be set on a copy of a slice from a DataFrame.\n",
      "Try using .loc[row_indexer,col_indexer] = value instead\n",
      "\n",
      "See the caveats in the documentation: https://pandas.pydata.org/pandas-docs/stable/user_guide/indexing.html#returning-a-view-versus-a-copy\n",
      "  from ipykernel import kernelapp as app\n"
     ]
    }
   ],
   "source": [
    "# Using the BeautifulSoup package to tackle HTML tag removing\n",
    "\n",
    "review_text['cleaned_text'] = review_text['cleaned_text'] \\\n",
    "    .apply(lambda x: BeautifulSoup(x, 'html.parser').text)"
   ]
  },
  {
   "cell_type": "code",
   "execution_count": 18,
   "metadata": {},
   "outputs": [
    {
     "data": {
      "text/html": [
       "<div>\n",
       "<style scoped>\n",
       "    .dataframe tbody tr th:only-of-type {\n",
       "        vertical-align: middle;\n",
       "    }\n",
       "\n",
       "    .dataframe tbody tr th {\n",
       "        vertical-align: top;\n",
       "    }\n",
       "\n",
       "    .dataframe thead th {\n",
       "        text-align: right;\n",
       "    }\n",
       "</style>\n",
       "<table border=\"1\" class=\"dataframe\">\n",
       "  <thead>\n",
       "    <tr style=\"text-align: right;\">\n",
       "      <th></th>\n",
       "      <th>Summary</th>\n",
       "      <th>Text</th>\n",
       "      <th>cleaned_text</th>\n",
       "    </tr>\n",
       "  </thead>\n",
       "  <tbody>\n",
       "    <tr>\n",
       "      <th>10</th>\n",
       "      <td>The Best Hot Sauce in the World</td>\n",
       "      <td>I don't know if it's the cactus or the tequila or just the unique combination of ingredients, but the flavour of this hot sauce makes it one of a kind!  We picked up a bottle once on a trip we were on and brought it back home with us and were totally blown away!  When we realized that we simply couldn't find it anywhere in our city we were bummed.&lt;br /&gt;&lt;br /&gt;Now, because of the magic of the internet, we have a case of the sauce and are ecstatic because of it.&lt;br /&gt;&lt;br /&gt;If you love hot sauce..I mean really love hot sauce, but don't want a sauce that tastelessly burns your throat, grab a bottle of Tequila Picante Gourmet de Inclan.  Just realize that once you taste it, you will never want to use any other sauce.&lt;br /&gt;&lt;br /&gt;Thank you for the personal, incredible service!</td>\n",
       "      <td>I don't know if it's the cactus or the tequila or just the unique combination of ingredients, but the flavour of this hot sauce makes it one of a kind!  We picked up a bottle once on a trip we were on and brought it back home with us and were totally blown away!  When we realized that we simply couldn't find it anywhere in our city we were bummed.  Now, because of the magic of the internet, we have a case of the sauce and are ecstatic because of it.  If you love hot sauce..I mean really love hot sauce, but don't want a sauce that tastelessly burns your throat, grab a bottle of Tequila Picante Gourmet de Inclan.  Just realize that once you taste it, you will never want to use any other sauce.  Thank you for the personal, incredible service!</td>\n",
       "    </tr>\n",
       "    <tr>\n",
       "      <th>18</th>\n",
       "      <td>GREAT SWEET CANDY!</td>\n",
       "      <td>Twizzlers, Strawberry my childhood favorite candy, made in Lancaster Pennsylvania by Y &amp; S Candies, Inc. one of the oldest confectionery Firms in the United States, now a Subsidiary of the Hershey Company, the Company was established in 1845 as Young and Smylie, they also make Apple Licorice Twists, Green Color and Blue Raspberry Licorice Twists, I like them all&lt;br /&gt;&lt;br /&gt;I keep it in a dry cool place because is not recommended it to put it in the fridge. According to the Guinness Book of Records, the longest Licorice Twist ever made measured 1.200 Feet (370 M) and weighted 100 Pounds (45 Kg) and was made by Y &amp; S Candies, Inc. This Record-Breaking Twist became a Guinness World Record on July 19, 1998. This Product is Kosher! Thank You</td>\n",
       "      <td>Twizzlers, Strawberry my childhood favorite candy, made in Lancaster Pennsylvania by Y &amp; S Candies, Inc. one of the oldest confectionery Firms in the United States, now a Subsidiary of the Hershey Company, the Company was established in 1845 as Young and Smylie, they also make Apple Licorice Twists, Green Color and Blue Raspberry Licorice Twists, I like them all  I keep it in a dry cool place because is not recommended it to put it in the fridge. According to the Guinness Book of Records, the longest Licorice Twist ever made measured 1.200 Feet (370 M) and weighted 100 Pounds (45 Kg) and was made by Y &amp; S Candies, Inc. This Record-Breaking Twist became a Guinness World Record on July 19, 1998. This Product is Kosher! Thank You</td>\n",
       "    </tr>\n",
       "    <tr>\n",
       "      <th>21</th>\n",
       "      <td>TWIZZLERS</td>\n",
       "      <td>I bought these for my husband who is currently overseas. He loves these, and apparently his staff likes them also.&lt;br /&gt;There are generous amounts of Twizzlers in each 16-ounce bag, and this was well worth the price. &lt;a href=\"http://www.amazon.com/gp/product/B001GVISJM\"&gt;Twizzlers, Strawberry, 16-Ounce Bags (Pack of 6)&lt;/a&gt;</td>\n",
       "      <td>I bought these for my husband who is currently overseas. He loves these, and apparently his staff likes them also. There are generous amounts of Twizzlers in each 16-ounce bag, and this was well worth the price. Twizzlers, Strawberry, 16-Ounce Bags (Pack of 6)</td>\n",
       "    </tr>\n",
       "    <tr>\n",
       "      <th>24</th>\n",
       "      <td>Please sell these in Mexico!!</td>\n",
       "      <td>I have lived out of the US for over 7 yrs now, and I so miss my Twizzlers!!  When I go back to visit or someone visits me, I always stock up.  All I can say is YUM!&lt;br /&gt;Sell these in Mexico and you will have a faithful buyer, more often than I'm able to buy them right now.</td>\n",
       "      <td>I have lived out of the US for over 7 yrs now, and I so miss my Twizzlers!!  When I go back to visit or someone visits me, I always stock up.  All I can say is YUM! Sell these in Mexico and you will have a faithful buyer, more often than I'm able to buy them right now.</td>\n",
       "    </tr>\n",
       "    <tr>\n",
       "      <th>25</th>\n",
       "      <td>Twizzlers - Strawberry</td>\n",
       "      <td>Product received is as advertised.&lt;br /&gt;&lt;br /&gt;&lt;a href=\"http://www.amazon.com/gp/product/B001GVISJM\"&gt;Twizzlers, Strawberry, 16-Ounce Bags (Pack of 6)&lt;/a&gt;</td>\n",
       "      <td>Product received is as advertised.  Twizzlers, Strawberry, 16-Ounce Bags (Pack of 6)</td>\n",
       "    </tr>\n",
       "  </tbody>\n",
       "</table>\n",
       "</div>"
      ],
      "text/plain": [
       "                            Summary  \\\n",
       "10  The Best Hot Sauce in the World   \n",
       "18               GREAT SWEET CANDY!   \n",
       "21                        TWIZZLERS   \n",
       "24    Please sell these in Mexico!!   \n",
       "25           Twizzlers - Strawberry   \n",
       "\n",
       "                                                                                                                                                                                                                                                                                                                                                                                                                                                                                                                                                                                                                                                                                                                                                                                                           Text  \\\n",
       "10  I don't know if it's the cactus or the tequila or just the unique combination of ingredients, but the flavour of this hot sauce makes it one of a kind!  We picked up a bottle once on a trip we were on and brought it back home with us and were totally blown away!  When we realized that we simply couldn't find it anywhere in our city we were bummed.<br /><br />Now, because of the magic of the internet, we have a case of the sauce and are ecstatic because of it.<br /><br />If you love hot sauce..I mean really love hot sauce, but don't want a sauce that tastelessly burns your throat, grab a bottle of Tequila Picante Gourmet de Inclan.  Just realize that once you taste it, you will never want to use any other sauce.<br /><br />Thank you for the personal, incredible service!   \n",
       "18                                   Twizzlers, Strawberry my childhood favorite candy, made in Lancaster Pennsylvania by Y & S Candies, Inc. one of the oldest confectionery Firms in the United States, now a Subsidiary of the Hershey Company, the Company was established in 1845 as Young and Smylie, they also make Apple Licorice Twists, Green Color and Blue Raspberry Licorice Twists, I like them all<br /><br />I keep it in a dry cool place because is not recommended it to put it in the fridge. According to the Guinness Book of Records, the longest Licorice Twist ever made measured 1.200 Feet (370 M) and weighted 100 Pounds (45 Kg) and was made by Y & S Candies, Inc. This Record-Breaking Twist became a Guinness World Record on July 19, 1998. This Product is Kosher! Thank You   \n",
       "21                                                                                                                                                                                                                                                                                                                                                                                                                                                                          I bought these for my husband who is currently overseas. He loves these, and apparently his staff likes them also.<br />There are generous amounts of Twizzlers in each 16-ounce bag, and this was well worth the price. <a href=\"http://www.amazon.com/gp/product/B001GVISJM\">Twizzlers, Strawberry, 16-Ounce Bags (Pack of 6)</a>   \n",
       "24                                                                                                                                                                                                                                                                                                                                                                                                                                                                                                                           I have lived out of the US for over 7 yrs now, and I so miss my Twizzlers!!  When I go back to visit or someone visits me, I always stock up.  All I can say is YUM!<br />Sell these in Mexico and you will have a faithful buyer, more often than I'm able to buy them right now.   \n",
       "25                                                                                                                                                                                                                                                                                                                                                                                                                                                                                                                                                                                                                                                     Product received is as advertised.<br /><br /><a href=\"http://www.amazon.com/gp/product/B001GVISJM\">Twizzlers, Strawberry, 16-Ounce Bags (Pack of 6)</a>   \n",
       "\n",
       "                                                                                                                                                                                                                                                                                                                                                                                                                                                                                                                                                                                                                                                                                                                                                                     cleaned_text  \n",
       "10  I don't know if it's the cactus or the tequila or just the unique combination of ingredients, but the flavour of this hot sauce makes it one of a kind!  We picked up a bottle once on a trip we were on and brought it back home with us and were totally blown away!  When we realized that we simply couldn't find it anywhere in our city we were bummed.  Now, because of the magic of the internet, we have a case of the sauce and are ecstatic because of it.  If you love hot sauce..I mean really love hot sauce, but don't want a sauce that tastelessly burns your throat, grab a bottle of Tequila Picante Gourmet de Inclan.  Just realize that once you taste it, you will never want to use any other sauce.  Thank you for the personal, incredible service!  \n",
       "18               Twizzlers, Strawberry my childhood favorite candy, made in Lancaster Pennsylvania by Y & S Candies, Inc. one of the oldest confectionery Firms in the United States, now a Subsidiary of the Hershey Company, the Company was established in 1845 as Young and Smylie, they also make Apple Licorice Twists, Green Color and Blue Raspberry Licorice Twists, I like them all  I keep it in a dry cool place because is not recommended it to put it in the fridge. According to the Guinness Book of Records, the longest Licorice Twist ever made measured 1.200 Feet (370 M) and weighted 100 Pounds (45 Kg) and was made by Y & S Candies, Inc. This Record-Breaking Twist became a Guinness World Record on July 19, 1998. This Product is Kosher! Thank You  \n",
       "21                                                                                                                                                                                                                                                                                                                                                                                                                                                                                                           I bought these for my husband who is currently overseas. He loves these, and apparently his staff likes them also. There are generous amounts of Twizzlers in each 16-ounce bag, and this was well worth the price. Twizzlers, Strawberry, 16-Ounce Bags (Pack of 6)  \n",
       "24                                                                                                                                                                                                                                                                                                                                                                                                                                                                                                  I have lived out of the US for over 7 yrs now, and I so miss my Twizzlers!!  When I go back to visit or someone visits me, I always stock up.  All I can say is YUM! Sell these in Mexico and you will have a faithful buyer, more often than I'm able to buy them right now.  \n",
       "25                                                                                                                                                                                                                                                                                                                                                                                                                                                                                                                                                                                                                                                                                           Product received is as advertised.  Twizzlers, Strawberry, 16-Ounce Bags (Pack of 6)  "
      ]
     },
     "execution_count": 18,
     "metadata": {},
     "output_type": "execute_result"
    }
   ],
   "source": [
    "review_text[review_text['Text'].str.contains(r'<[^>]*>')].head()"
   ]
  },
  {
   "cell_type": "code",
   "execution_count": 19,
   "metadata": {},
   "outputs": [
    {
     "name": "stderr",
     "output_type": "stream",
     "text": [
      "/home/ec2-user/anaconda3/envs/python3/lib/python3.6/site-packages/ipykernel/__main__.py:2: SettingWithCopyWarning: \n",
      "A value is trying to be set on a copy of a slice from a DataFrame.\n",
      "Try using .loc[row_indexer,col_indexer] = value instead\n",
      "\n",
      "See the caveats in the documentation: https://pandas.pydata.org/pandas-docs/stable/user_guide/indexing.html#returning-a-view-versus-a-copy\n",
      "  from ipykernel import kernelapp as app\n"
     ]
    }
   ],
   "source": [
    "# Removing unescaped characters like &amp;\n",
    "review_text['cleaned_text'] = review_text['cleaned_text'] \\\n",
    "    .apply(lambda x: html.parser.unescape(x))"
   ]
  },
  {
   "cell_type": "code",
   "execution_count": 20,
   "metadata": {},
   "outputs": [
    {
     "data": {
      "text/html": [
       "<div>\n",
       "<style scoped>\n",
       "    .dataframe tbody tr th:only-of-type {\n",
       "        vertical-align: middle;\n",
       "    }\n",
       "\n",
       "    .dataframe tbody tr th {\n",
       "        vertical-align: top;\n",
       "    }\n",
       "\n",
       "    .dataframe thead th {\n",
       "        text-align: right;\n",
       "    }\n",
       "</style>\n",
       "<table border=\"1\" class=\"dataframe\">\n",
       "  <thead>\n",
       "    <tr style=\"text-align: right;\">\n",
       "      <th></th>\n",
       "      <th>Summary</th>\n",
       "      <th>Text</th>\n",
       "      <th>cleaned_text</th>\n",
       "    </tr>\n",
       "  </thead>\n",
       "  <tbody>\n",
       "    <tr>\n",
       "      <th>999</th>\n",
       "      <td>Not hot, not habanero</td>\n",
       "      <td>I have to admit, I was a sucker for the large quantity, 12 oz, when shopping for hot sauces ...but now seeing the size of the bottle, it reminds of wing-sauce bottle sizes.  Plastic bottle.  It does have a convenient squirt top.  But overall, not very hot or tasty, and made mostly from jalape&amp;ntilde;os.  If I had seen the ingredients list I would not have bought it:&lt;br /&gt;Jalapenos&lt;br /&gt;Water&lt;br /&gt;Vinegar&lt;br /&gt;Brown Sugar&lt;br /&gt;Lime Juice&lt;br /&gt;Fish Sauce&lt;br /&gt;Cilantro&lt;br /&gt;Habanero&lt;br /&gt;Garlic&lt;br /&gt;Spice Blend&lt;br /&gt;Salt&lt;br /&gt;Potassium Sorbate&lt;br /&gt;Xanthan Gum</td>\n",
       "      <td>I have to admit, I was a sucker for the large quantity, 12 oz, when shopping for hot sauces ...but now seeing the size of the bottle, it reminds of wing-sauce bottle sizes.  Plastic bottle.  It does have a convenient squirt top.  But overall, not very hot or tasty, and made mostly from jalapeños.  If I had seen the ingredients list I would not have bought it: Jalapenos Water Vinegar Brown Sugar Lime Juice Fish Sauce Cilantro Habanero Garlic Spice Blend Salt Potassium Sorbate Xanthan Gum</td>\n",
       "    </tr>\n",
       "    <tr>\n",
       "      <th>1243</th>\n",
       "      <td>WOW Make your own 'slickers' !</td>\n",
       "      <td>I just received my shipment and could hardly wait to try this product. We love &amp;quot;slickers&amp;quot; which is what we call them, instead of stickers because they can be removed so easily. My daughter designed signs to be  printed in reverse to use on her car windows. They printed beautifully (we  have 'The Print Shop' program). I am going to have a lot of fun with this  product because there are windows everywhere and other surfaces like tv  screens and computer monitors.</td>\n",
       "      <td>I just received my shipment and could hardly wait to try this product. We love \"slickers\" which is what we call them, instead of stickers because they can be removed so easily. My daughter designed signs to be  printed in reverse to use on her car windows. They printed beautifully (we  have 'The Print Shop' program). I am going to have a lot of fun with this  product because there are windows everywhere and other surfaces like tv  screens and computer monitors.</td>\n",
       "    </tr>\n",
       "    <tr>\n",
       "      <th>1461</th>\n",
       "      <td>One of my favorites</td>\n",
       "      <td>I love the McDougall Asian Entr&amp;eacute;es and although I haven't tried all of them this one is amazing. It has a really peanutty flavor that you wouldn't expect in a product containing only 3 grams of fat per serving. I would imagine these would make a great dinner added to a pound of mixed stir-fry vegetables...I am buying a case now to test just that! The peanut flavor is strong enough that I bet it'd distribute among a fair amount of vegetables or tofu when added so you wouldn't get very saucy noodles and dry veggies.&lt;br /&gt;&lt;br /&gt;I recommend this product. The best-tasting peanut noodle you'll be able to find for only 3 grams of fat.</td>\n",
       "      <td>I love the McDougall Asian Entrées and although I haven't tried all of them this one is amazing. It has a really peanutty flavor that you wouldn't expect in a product containing only 3 grams of fat per serving. I would imagine these would make a great dinner added to a pound of mixed stir-fry vegetables...I am buying a case now to test just that! The peanut flavor is strong enough that I bet it'd distribute among a fair amount of vegetables or tofu when added so you wouldn't get very saucy noodles and dry veggies.  I recommend this product. The best-tasting peanut noodle you'll be able to find for only 3 grams of fat.</td>\n",
       "    </tr>\n",
       "    <tr>\n",
       "      <th>1471</th>\n",
       "      <td>Noodles not good</td>\n",
       "      <td>The noodles for this product are what make me gag.  I am not a fan of this meal at all and I &amp;lt;3 Asian food.  For those looking for a delicious snack who are not already 100% vegan - I would either A) go try 1 first or B) skip buying this package as it is not delicious.</td>\n",
       "      <td>The noodles for this product are what make me gag.  I am not a fan of this meal at all and I &lt;3 Asian food.  For those looking for a delicious snack who are not already 100% vegan - I would either A) go try 1 first or B) skip buying this package as it is not delicious.</td>\n",
       "    </tr>\n",
       "    <tr>\n",
       "      <th>1615</th>\n",
       "      <td>Great chips - and tasty too</td>\n",
       "      <td>Good flavorful chips - too bad the selection does not include jalape&amp;ntilde;o or paramsan garlic. Packaging is difficult to open, but they fresh.</td>\n",
       "      <td>Good flavorful chips - too bad the selection does not include jalapeño or paramsan garlic. Packaging is difficult to open, but they fresh.</td>\n",
       "    </tr>\n",
       "  </tbody>\n",
       "</table>\n",
       "</div>"
      ],
      "text/plain": [
       "                             Summary  \\\n",
       "999            Not hot, not habanero   \n",
       "1243  WOW Make your own 'slickers' !   \n",
       "1461             One of my favorites   \n",
       "1471                Noodles not good   \n",
       "1615     Great chips - and tasty too   \n",
       "\n",
       "                                                                                                                                                                                                                                                                                                                                                                                                                                                                                                                                                                                                                                                                    Text  \\\n",
       "999                                                                                  I have to admit, I was a sucker for the large quantity, 12 oz, when shopping for hot sauces ...but now seeing the size of the bottle, it reminds of wing-sauce bottle sizes.  Plastic bottle.  It does have a convenient squirt top.  But overall, not very hot or tasty, and made mostly from jalape&ntilde;os.  If I had seen the ingredients list I would not have bought it:<br />Jalapenos<br />Water<br />Vinegar<br />Brown Sugar<br />Lime Juice<br />Fish Sauce<br />Cilantro<br />Habanero<br />Garlic<br />Spice Blend<br />Salt<br />Potassium Sorbate<br />Xanthan Gum   \n",
       "1243                                                                                                                                                                         I just received my shipment and could hardly wait to try this product. We love &quot;slickers&quot; which is what we call them, instead of stickers because they can be removed so easily. My daughter designed signs to be  printed in reverse to use on her car windows. They printed beautifully (we  have 'The Print Shop' program). I am going to have a lot of fun with this  product because there are windows everywhere and other surfaces like tv  screens and computer monitors.   \n",
       "1461  I love the McDougall Asian Entr&eacute;es and although I haven't tried all of them this one is amazing. It has a really peanutty flavor that you wouldn't expect in a product containing only 3 grams of fat per serving. I would imagine these would make a great dinner added to a pound of mixed stir-fry vegetables...I am buying a case now to test just that! The peanut flavor is strong enough that I bet it'd distribute among a fair amount of vegetables or tofu when added so you wouldn't get very saucy noodles and dry veggies.<br /><br />I recommend this product. The best-tasting peanut noodle you'll be able to find for only 3 grams of fat.   \n",
       "1471                                                                                                                                                                                                                                                                                                                                                                                    The noodles for this product are what make me gag.  I am not a fan of this meal at all and I &lt;3 Asian food.  For those looking for a delicious snack who are not already 100% vegan - I would either A) go try 1 first or B) skip buying this package as it is not delicious.   \n",
       "1615                                                                                                                                                                                                                                                                                                                                                                                                                                                                                                                   Good flavorful chips - too bad the selection does not include jalape&ntilde;o or paramsan garlic. Packaging is difficult to open, but they fresh.   \n",
       "\n",
       "                                                                                                                                                                                                                                                                                                                                                                                                                                                                                                                                                                                                                                           cleaned_text  \n",
       "999                                                                                                                                         I have to admit, I was a sucker for the large quantity, 12 oz, when shopping for hot sauces ...but now seeing the size of the bottle, it reminds of wing-sauce bottle sizes.  Plastic bottle.  It does have a convenient squirt top.  But overall, not very hot or tasty, and made mostly from jalapeños.  If I had seen the ingredients list I would not have bought it: Jalapenos Water Vinegar Brown Sugar Lime Juice Fish Sauce Cilantro Habanero Garlic Spice Blend Salt Potassium Sorbate Xanthan Gum  \n",
       "1243                                                                                                                                                                  I just received my shipment and could hardly wait to try this product. We love \"slickers\" which is what we call them, instead of stickers because they can be removed so easily. My daughter designed signs to be  printed in reverse to use on her car windows. They printed beautifully (we  have 'The Print Shop' program). I am going to have a lot of fun with this  product because there are windows everywhere and other surfaces like tv  screens and computer monitors.  \n",
       "1461  I love the McDougall Asian Entrées and although I haven't tried all of them this one is amazing. It has a really peanutty flavor that you wouldn't expect in a product containing only 3 grams of fat per serving. I would imagine these would make a great dinner added to a pound of mixed stir-fry vegetables...I am buying a case now to test just that! The peanut flavor is strong enough that I bet it'd distribute among a fair amount of vegetables or tofu when added so you wouldn't get very saucy noodles and dry veggies.  I recommend this product. The best-tasting peanut noodle you'll be able to find for only 3 grams of fat.  \n",
       "1471                                                                                                                                                                                                                                                                                                                                                                      The noodles for this product are what make me gag.  I am not a fan of this meal at all and I <3 Asian food.  For those looking for a delicious snack who are not already 100% vegan - I would either A) go try 1 first or B) skip buying this package as it is not delicious.  \n",
       "1615                                                                                                                                                                                                                                                                                                                                                                                                                                                                                                         Good flavorful chips - too bad the selection does not include jalapeño or paramsan garlic. Packaging is difficult to open, but they fresh.  "
      ]
     },
     "execution_count": 20,
     "metadata": {},
     "output_type": "execute_result"
    }
   ],
   "source": [
    "review_text[review_text['Text'].str.contains(r'&[a-z]+;')].head()"
   ]
  },
  {
   "cell_type": "markdown",
   "metadata": {},
   "source": [
    "We can see that our final text data is much cleaner and removes all the extraneous HTML text. "
   ]
  },
  {
   "cell_type": "markdown",
   "metadata": {},
   "source": [
    "# Text Preprocessing"
   ]
  },
  {
   "cell_type": "markdown",
   "metadata": {},
   "source": [
    "Finally, we can preprocess the text data by changing all words to lowercase, removing stop words, removing unnecessary numbers, and lemmanizing."
   ]
  },
  {
   "cell_type": "code",
   "execution_count": null,
   "metadata": {},
   "outputs": [],
   "source": [
    "def preprocess(text, lemmatize=True, reg_pattern='[^A-Za-z]+', stopwords=stopwords.words('english')):\n",
    "    lemmatizer = WordNetLemmatizer()\n",
    "    regularizer = re.compile(reg_pattern)\n",
    "\n",
    "    doc_list = text.lower()\n",
    "    tokens = regularizer.sub(' ', doc_list).split() # keep only letters OR numbers and tokenize strings\n",
    "\n",
    "    stopped_tokens = [i for i in tokens if not i in stopwords] # remove stop words\n",
    "\n",
    "    long_tokens = [i for i in stopped_tokens if len(i) >= 2] # remove single letters\n",
    "    if lemmatize==True:\n",
    "        lemmatized = [lemmatizer.lemmatize(i) for i in long_tokens] # lemmatize words\n",
    "    else:\n",
    "        lemmatized = long_tokens\n",
    "\n",
    "    # remove 'xxxx'-like tokens\n",
    "    cleaned = [word for word in lemmatized if word != len(word) * word[0]]\n",
    "    return ' '.join(cleaned)"
   ]
  },
  {
   "cell_type": "markdown",
   "metadata": {},
   "source": [
    "We can apply this end-to-end cleanup process to text before further featurization or fitting models. For ease of use, the final data cleanup methods are stored in `utils/text_proprocessing.py`, which any notebook can import as a package. "
   ]
  },
  {
   "cell_type": "code",
   "execution_count": null,
   "metadata": {},
   "outputs": [],
   "source": []
  }
 ],
 "metadata": {
  "environment": {
   "name": "tf2-2-2-gpu.2-2.m50",
   "type": "gcloud",
   "uri": "gcr.io/deeplearning-platform-release/tf2-2-2-gpu.2-2:m50"
  },
  "kernelspec": {
   "display_name": "Python 3",
   "language": "python",
   "name": "python3"
  },
  "language_info": {
   "codemirror_mode": {
    "name": "ipython",
    "version": 3
   },
   "file_extension": ".py",
   "mimetype": "text/x-python",
   "name": "python",
   "nbconvert_exporter": "python",
   "pygments_lexer": "ipython3",
   "version": "3.7.6"
  }
 },
 "nbformat": 4,
 "nbformat_minor": 4
}
